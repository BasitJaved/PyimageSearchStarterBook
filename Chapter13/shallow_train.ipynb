{
 "cells": [
  {
   "cell_type": "code",
   "execution_count": 1,
   "metadata": {},
   "outputs": [],
   "source": [
    "from tensorflow.keras.models import Sequential\n",
    "from tensorflow.keras.layers import Conv2D\n",
    "from tensorflow.keras.layers import Activation\n",
    "from tensorflow.keras.layers import Flatten\n",
    "from tensorflow.keras.layers import Dense\n",
    "from tensorflow.keras import backend as K\n",
    "from sklearn.preprocessing import LabelBinarizer\n",
    "from sklearn.model_selection import train_test_split\n",
    "from sklearn.metrics import classification_report\n",
    "from tensorflow.keras.optimizers import SGD\n",
    "import matplotlib.pyplot as plt\n",
    "import numpy as np\n",
    "import cv2\n",
    "import os\n",
    "import glob\n",
    "from PIL import Image"
   ]
  },
  {
   "cell_type": "code",
   "execution_count": 2,
   "metadata": {},
   "outputs": [],
   "source": [
    "#importing dataset\n",
    "cat = [cv2.imread(file) for file in glob.glob('datasets/animals/cats/*')]\n",
    "dog = [cv2.imread(file) for file in glob.glob('datasets/animals/dogs/*')]\n",
    "panda = [cv2.imread(file) for file in glob.glob('datasets/animals/panda/*')]"
   ]
  },
  {
   "cell_type": "code",
   "execution_count": 3,
   "metadata": {},
   "outputs": [
    {
     "name": "stdout",
     "output_type": "stream",
     "text": [
      "(374, 500, 3)\n",
      "1000\n",
      "(478, 382, 3)\n",
      "1000\n",
      "(500, 480, 3)\n",
      "1000\n"
     ]
    }
   ],
   "source": [
    "#length and shape of images\n",
    "print(cat[0].shape)\n",
    "print(len(cat))\n",
    "print(dog[0].shape)\n",
    "print(len(dog))\n",
    "print(panda[0].shape)\n",
    "print(len(panda))"
   ]
  },
  {
   "cell_type": "code",
   "execution_count": 4,
   "metadata": {},
   "outputs": [],
   "source": [
    "#changing the image shapes to 32x32\n",
    "dim = (32, 32)\n",
    "#reducing pixels to 32 x 32 x 3\n",
    "cat = [cv2.resize(file, dim, interpolation = cv2.INTER_AREA) for file in cat]\n",
    "dog = [cv2.resize(file, dim, interpolation = cv2.INTER_AREA) for file in dog]\n",
    "panda = [cv2.resize(file, dim, interpolation = cv2.INTER_AREA) for file in panda]"
   ]
  },
  {
   "cell_type": "code",
   "execution_count": 5,
   "metadata": {},
   "outputs": [
    {
     "name": "stdout",
     "output_type": "stream",
     "text": [
      "(32, 32, 3)\n",
      "1000\n",
      "(32, 32, 3)\n",
      "1000\n",
      "(32, 32, 3)\n",
      "1000\n"
     ]
    }
   ],
   "source": [
    "#length and shape of images\n",
    "print(cat[0].shape)\n",
    "print(len(cat))\n",
    "print(dog[0].shape)\n",
    "print(len(dog))\n",
    "print(panda[0].shape)\n",
    "print(len(panda))"
   ]
  },
  {
   "cell_type": "code",
   "execution_count": 6,
   "metadata": {},
   "outputs": [],
   "source": [
    "X = np.concatenate((np.array(cat), np.array(dog),np.array(panda)))\n",
    "X = X.astype('float')/255.0"
   ]
  },
  {
   "cell_type": "code",
   "execution_count": 7,
   "metadata": {},
   "outputs": [
    {
     "name": "stdout",
     "output_type": "stream",
     "text": [
      "(32, 32, 3)\n",
      "3000\n"
     ]
    }
   ],
   "source": [
    "print(X[0].shape)\n",
    "print(len(X))"
   ]
  },
  {
   "cell_type": "code",
   "execution_count": 8,
   "metadata": {},
   "outputs": [],
   "source": [
    "y_cat = np.zeros(len(cat)) # labels for cat\n",
    "y_dog = np.ones(len(dog)) # labels for dog\n",
    "y_panda = np.ones(len(panda))*2 # labels for panda\n",
    "y = np.concatenate((y_cat,y_dog, y_panda)) # Labels"
   ]
  },
  {
   "cell_type": "code",
   "execution_count": 9,
   "metadata": {},
   "outputs": [
    {
     "name": "stdout",
     "output_type": "stream",
     "text": [
      "3000\n"
     ]
    }
   ],
   "source": [
    "print(len(y))"
   ]
  },
  {
   "cell_type": "code",
   "execution_count": 10,
   "metadata": {},
   "outputs": [],
   "source": [
    "#importing ans splitting the data\n",
    "(trainX, testX, trainY, testY) = train_test_split(X, y, test_size = 0.25, random_state = 42)"
   ]
  },
  {
   "cell_type": "code",
   "execution_count": 11,
   "metadata": {},
   "outputs": [],
   "source": [
    "#convert labels from integers to vectors\n",
    "trainY = LabelBinarizer().fit_transform(trainY)\n",
    "testY = LabelBinarizer().fit_transform(testY)"
   ]
  },
  {
   "cell_type": "markdown",
   "metadata": {},
   "source": [
    "# Model"
   ]
  },
  {
   "cell_type": "code",
   "execution_count": 12,
   "metadata": {},
   "outputs": [],
   "source": [
    "batch_size = 32\n",
    "epochs = 100\n",
    "opt = SGD(lr = 0.005)"
   ]
  },
  {
   "cell_type": "code",
   "execution_count": 13,
   "metadata": {},
   "outputs": [],
   "source": [
    "def model():\n",
    "    model = Sequential()\n",
    "    model.add(Conv2D(32, kernel_size = (3,3), padding = 'same', input_shape = (32,32, 3)))\n",
    "    model.add(Activation('relu'))\n",
    "    model.add(Flatten())\n",
    "    model.add(Dense(3))\n",
    "    model.add(Activation('softmax'))\n",
    "    \n",
    "    return model"
   ]
  },
  {
   "cell_type": "code",
   "execution_count": 14,
   "metadata": {},
   "outputs": [
    {
     "name": "stdout",
     "output_type": "stream",
     "text": [
      "WARNING:tensorflow:From C:\\Users\\b84145862\\AppData\\Roaming\\Python\\Python37\\site-packages\\tensorflow_core\\python\\ops\\resource_variable_ops.py:1630: calling BaseResourceVariable.__init__ (from tensorflow.python.ops.resource_variable_ops) with constraint is deprecated and will be removed in a future version.\n",
      "Instructions for updating:\n",
      "If using Keras pass *_constraint arguments to layers.\n",
      "Model: \"sequential\"\n",
      "_________________________________________________________________\n",
      "Layer (type)                 Output Shape              Param #   \n",
      "=================================================================\n",
      "conv2d (Conv2D)              (None, 32, 32, 32)        896       \n",
      "_________________________________________________________________\n",
      "activation (Activation)      (None, 32, 32, 32)        0         \n",
      "_________________________________________________________________\n",
      "flatten (Flatten)            (None, 32768)             0         \n",
      "_________________________________________________________________\n",
      "dense (Dense)                (None, 3)                 98307     \n",
      "_________________________________________________________________\n",
      "activation_1 (Activation)    (None, 3)                 0         \n",
      "=================================================================\n",
      "Total params: 99,203\n",
      "Trainable params: 99,203\n",
      "Non-trainable params: 0\n",
      "_________________________________________________________________\n"
     ]
    }
   ],
   "source": [
    "model = model()\n",
    "model.compile(loss = 'categorical_crossentropy', optimizer = opt, metrics = ['accuracy'])\n",
    "model.summary()"
   ]
  },
  {
   "cell_type": "code",
   "execution_count": 15,
   "metadata": {},
   "outputs": [
    {
     "name": "stdout",
     "output_type": "stream",
     "text": [
      "Train on 2250 samples, validate on 750 samples\n",
      "Epoch 1/100\n",
      "2250/2250 [==============================] - 2s 744us/sample - loss: 1.0139 - acc: 0.4889 - val_loss: 1.0338 - val_acc: 0.4027\n",
      "Epoch 2/100\n",
      "2250/2250 [==============================] - 1s 607us/sample - loss: 0.9286 - acc: 0.5378 - val_loss: 0.9418 - val_acc: 0.5107\n",
      "Epoch 3/100\n",
      "2250/2250 [==============================] - 1s 629us/sample - loss: 0.8790 - acc: 0.5711 - val_loss: 0.9721 - val_acc: 0.4600\n",
      "Epoch 4/100\n",
      "2250/2250 [==============================] - 1s 627us/sample - loss: 0.8617 - acc: 0.5720 - val_loss: 0.9767 - val_acc: 0.5200\n",
      "Epoch 5/100\n",
      "2250/2250 [==============================] - 1s 615us/sample - loss: 0.8246 - acc: 0.5964 - val_loss: 0.8720 - val_acc: 0.5520\n",
      "Epoch 6/100\n",
      "2250/2250 [==============================] - 1s 549us/sample - loss: 0.8150 - acc: 0.6000 - val_loss: 0.9703 - val_acc: 0.5347\n",
      "Epoch 7/100\n",
      "2250/2250 [==============================] - 1s 599us/sample - loss: 0.7928 - acc: 0.6209 - val_loss: 0.8754 - val_acc: 0.5613\n",
      "Epoch 8/100\n",
      "2250/2250 [==============================] - 1s 617us/sample - loss: 0.7856 - acc: 0.6218 - val_loss: 0.8396 - val_acc: 0.5853\n",
      "Epoch 9/100\n",
      "2250/2250 [==============================] - 1s 615us/sample - loss: 0.7721 - acc: 0.6338 - val_loss: 0.9847 - val_acc: 0.5013\n",
      "Epoch 10/100\n",
      "2250/2250 [==============================] - 1s 600us/sample - loss: 0.7613 - acc: 0.6396 - val_loss: 0.8776 - val_acc: 0.5587\n",
      "Epoch 11/100\n",
      "2250/2250 [==============================] - 1s 593us/sample - loss: 0.7478 - acc: 0.6418 - val_loss: 0.8265 - val_acc: 0.5693\n",
      "Epoch 12/100\n",
      "2250/2250 [==============================] - 1s 601us/sample - loss: 0.7381 - acc: 0.6516 - val_loss: 1.0659 - val_acc: 0.4827\n",
      "Epoch 13/100\n",
      "2250/2250 [==============================] - 1s 611us/sample - loss: 0.7405 - acc: 0.6627 - val_loss: 0.8050 - val_acc: 0.5947\n",
      "Epoch 14/100\n",
      "2250/2250 [==============================] - 1s 628us/sample - loss: 0.7279 - acc: 0.6551 - val_loss: 0.8909 - val_acc: 0.5373\n",
      "Epoch 15/100\n",
      "2250/2250 [==============================] - 1s 612us/sample - loss: 0.7241 - acc: 0.6729 - val_loss: 0.8484 - val_acc: 0.5733\n",
      "Epoch 16/100\n",
      "2250/2250 [==============================] - 1s 598us/sample - loss: 0.7139 - acc: 0.6747 - val_loss: 0.7948 - val_acc: 0.6107\n",
      "Epoch 17/100\n",
      "2250/2250 [==============================] - 1s 598us/sample - loss: 0.7043 - acc: 0.6844 - val_loss: 0.7994 - val_acc: 0.6013\n",
      "Epoch 18/100\n",
      "2250/2250 [==============================] - 1s 609us/sample - loss: 0.7030 - acc: 0.6831 - val_loss: 0.8733 - val_acc: 0.5440\n",
      "Epoch 19/100\n",
      "2250/2250 [==============================] - 1s 608us/sample - loss: 0.6944 - acc: 0.6773 - val_loss: 0.8351 - val_acc: 0.5653\n",
      "Epoch 20/100\n",
      "2250/2250 [==============================] - 1s 607us/sample - loss: 0.6829 - acc: 0.6889 - val_loss: 0.7933 - val_acc: 0.6040\n",
      "Epoch 21/100\n",
      "2250/2250 [==============================] - 1s 609us/sample - loss: 0.6690 - acc: 0.6938 - val_loss: 0.8084 - val_acc: 0.5960\n",
      "Epoch 22/100\n",
      "2250/2250 [==============================] - 1s 586us/sample - loss: 0.6664 - acc: 0.6929 - val_loss: 0.7801 - val_acc: 0.6093\n",
      "Epoch 23/100\n",
      "2250/2250 [==============================] - 1s 616us/sample - loss: 0.6585 - acc: 0.6982 - val_loss: 0.8119 - val_acc: 0.5960\n",
      "Epoch 24/100\n",
      "2250/2250 [==============================] - 1s 626us/sample - loss: 0.6519 - acc: 0.7120 - val_loss: 0.7782 - val_acc: 0.6133\n",
      "Epoch 25/100\n",
      "2250/2250 [==============================] - 1s 598us/sample - loss: 0.6504 - acc: 0.7098 - val_loss: 0.7805 - val_acc: 0.5987\n",
      "Epoch 26/100\n",
      "2250/2250 [==============================] - 1s 617us/sample - loss: 0.6401 - acc: 0.7196 - val_loss: 0.8504 - val_acc: 0.5720\n",
      "Epoch 27/100\n",
      "2250/2250 [==============================] - 1s 605us/sample - loss: 0.6319 - acc: 0.7311 - val_loss: 0.7717 - val_acc: 0.6093\n",
      "Epoch 28/100\n",
      "2250/2250 [==============================] - 1s 604us/sample - loss: 0.6262 - acc: 0.7351 - val_loss: 0.7771 - val_acc: 0.6293\n",
      "Epoch 29/100\n",
      "2250/2250 [==============================] - 1s 606us/sample - loss: 0.6194 - acc: 0.7351 - val_loss: 0.9561 - val_acc: 0.5600\n",
      "Epoch 30/100\n",
      "2250/2250 [==============================] - 1s 623us/sample - loss: 0.6204 - acc: 0.7249 - val_loss: 0.7680 - val_acc: 0.6333\n",
      "Epoch 31/100\n",
      "2250/2250 [==============================] - 1s 617us/sample - loss: 0.6019 - acc: 0.7458 - val_loss: 0.7523 - val_acc: 0.6213\n",
      "Epoch 32/100\n",
      "2250/2250 [==============================] - 1s 635us/sample - loss: 0.5982 - acc: 0.7382 - val_loss: 0.7611 - val_acc: 0.6307\n",
      "Epoch 33/100\n",
      "2250/2250 [==============================] - 1s 610us/sample - loss: 0.5903 - acc: 0.7489 - val_loss: 0.7549 - val_acc: 0.6253\n",
      "Epoch 34/100\n",
      "2250/2250 [==============================] - 1s 618us/sample - loss: 0.5868 - acc: 0.7520 - val_loss: 0.7452 - val_acc: 0.6360\n",
      "Epoch 35/100\n",
      "2250/2250 [==============================] - 1s 598us/sample - loss: 0.5791 - acc: 0.7609 - val_loss: 1.0077 - val_acc: 0.5373\n",
      "Epoch 36/100\n",
      "2250/2250 [==============================] - 1s 600us/sample - loss: 0.5763 - acc: 0.7613 - val_loss: 0.8607 - val_acc: 0.5613\n",
      "Epoch 37/100\n",
      "2250/2250 [==============================] - 1s 611us/sample - loss: 0.5739 - acc: 0.7480 - val_loss: 0.7542 - val_acc: 0.6147\n",
      "Epoch 38/100\n",
      "2250/2250 [==============================] - 1s 620us/sample - loss: 0.5597 - acc: 0.7636 - val_loss: 0.7395 - val_acc: 0.6413\n",
      "Epoch 39/100\n",
      "2250/2250 [==============================] - 1s 590us/sample - loss: 0.5574 - acc: 0.7707 - val_loss: 0.8517 - val_acc: 0.5693\n",
      "Epoch 40/100\n",
      "2250/2250 [==============================] - 1s 639us/sample - loss: 0.5502 - acc: 0.7787 - val_loss: 0.7561 - val_acc: 0.6427\n",
      "Epoch 41/100\n",
      "2250/2250 [==============================] - 1s 555us/sample - loss: 0.5423 - acc: 0.7836 - val_loss: 0.7380 - val_acc: 0.6453\n",
      "Epoch 42/100\n",
      "2250/2250 [==============================] - 1s 609us/sample - loss: 0.5351 - acc: 0.7787 - val_loss: 0.7755 - val_acc: 0.6000\n",
      "Epoch 43/100\n",
      "2250/2250 [==============================] - 1s 618us/sample - loss: 0.5332 - acc: 0.7787 - val_loss: 0.8362 - val_acc: 0.5760\n",
      "Epoch 44/100\n",
      "2250/2250 [==============================] - 1s 554us/sample - loss: 0.5263 - acc: 0.7809 - val_loss: 0.7602 - val_acc: 0.6520\n",
      "Epoch 45/100\n",
      "2250/2250 [==============================] - 1s 613us/sample - loss: 0.5245 - acc: 0.7844 - val_loss: 0.7660 - val_acc: 0.6333\n",
      "Epoch 46/100\n",
      "2250/2250 [==============================] - ETA: 0s - loss: 0.5182 - acc: 0.794 - 1s 592us/sample - loss: 0.5178 - acc: 0.7942 - val_loss: 0.7207 - val_acc: 0.6573\n",
      "Epoch 47/100\n",
      "2250/2250 [==============================] - 1s 639us/sample - loss: 0.5120 - acc: 0.7911 - val_loss: 0.7319 - val_acc: 0.6427\n",
      "Epoch 48/100\n",
      "2250/2250 [==============================] - 1s 590us/sample - loss: 0.5096 - acc: 0.7964 - val_loss: 0.7992 - val_acc: 0.5933\n",
      "Epoch 49/100\n",
      "2250/2250 [==============================] - 1s 598us/sample - loss: 0.4997 - acc: 0.7996 - val_loss: 0.7682 - val_acc: 0.6360\n",
      "Epoch 50/100\n",
      "2250/2250 [==============================] - 1s 615us/sample - loss: 0.4967 - acc: 0.8027 - val_loss: 0.8205 - val_acc: 0.6173\n",
      "Epoch 51/100\n",
      "2250/2250 [==============================] - 1s 620us/sample - loss: 0.4924 - acc: 0.8031 - val_loss: 0.9793 - val_acc: 0.5387\n",
      "Epoch 52/100\n",
      "2250/2250 [==============================] - 1s 626us/sample - loss: 0.4870 - acc: 0.8080 - val_loss: 0.8047 - val_acc: 0.6107\n",
      "Epoch 53/100\n",
      "2250/2250 [==============================] - 1s 617us/sample - loss: 0.4783 - acc: 0.8138 - val_loss: 0.7436 - val_acc: 0.6227\n",
      "Epoch 54/100\n",
      "2250/2250 [==============================] - 1s 644us/sample - loss: 0.4827 - acc: 0.8089 - val_loss: 0.7370 - val_acc: 0.6600\n",
      "Epoch 55/100\n",
      "2250/2250 [==============================] - ETA: 0s - loss: 0.4736 - acc: 0.817 - 1s 626us/sample - loss: 0.4738 - acc: 0.8169 - val_loss: 0.7528 - val_acc: 0.6227\n",
      "Epoch 56/100\n",
      "2250/2250 [==============================] - 1s 593us/sample - loss: 0.4644 - acc: 0.8240 - val_loss: 1.2584 - val_acc: 0.4960\n",
      "Epoch 57/100\n",
      "2250/2250 [==============================] - 1s 607us/sample - loss: 0.4730 - acc: 0.8151 - val_loss: 0.7083 - val_acc: 0.6680\n",
      "Epoch 58/100\n",
      "2250/2250 [==============================] - 1s 637us/sample - loss: 0.4548 - acc: 0.8213 - val_loss: 0.7118 - val_acc: 0.6733\n"
     ]
    },
    {
     "name": "stdout",
     "output_type": "stream",
     "text": [
      "Epoch 59/100\n",
      "2250/2250 [==============================] - 1s 599us/sample - loss: 0.4532 - acc: 0.8267 - val_loss: 0.7776 - val_acc: 0.6187\n",
      "Epoch 60/100\n",
      "2250/2250 [==============================] - 1s 636us/sample - loss: 0.4540 - acc: 0.8156 - val_loss: 0.8096 - val_acc: 0.6120\n",
      "Epoch 61/100\n",
      "2250/2250 [==============================] - 1s 621us/sample - loss: 0.4455 - acc: 0.8289 - val_loss: 0.7731 - val_acc: 0.6307\n",
      "Epoch 62/100\n",
      "2250/2250 [==============================] - 1s 634us/sample - loss: 0.4429 - acc: 0.8329 - val_loss: 0.7070 - val_acc: 0.6640\n",
      "Epoch 63/100\n",
      "2250/2250 [==============================] - 1s 639us/sample - loss: 0.4377 - acc: 0.8329 - val_loss: 0.7356 - val_acc: 0.6587\n",
      "Epoch 64/100\n",
      "2250/2250 [==============================] - 1s 638us/sample - loss: 0.4372 - acc: 0.8324 - val_loss: 0.7147 - val_acc: 0.6600\n",
      "Epoch 65/100\n",
      "2250/2250 [==============================] - 1s 611us/sample - loss: 0.4265 - acc: 0.8431 - val_loss: 0.7290 - val_acc: 0.6627\n",
      "Epoch 66/100\n",
      "2250/2250 [==============================] - 1s 572us/sample - loss: 0.4270 - acc: 0.8387 - val_loss: 0.7079 - val_acc: 0.6653\n",
      "Epoch 67/100\n",
      "2250/2250 [==============================] - 1s 611us/sample - loss: 0.4221 - acc: 0.8453 - val_loss: 0.7182 - val_acc: 0.6573\n",
      "Epoch 68/100\n",
      "2250/2250 [==============================] - 1s 586us/sample - loss: 0.4217 - acc: 0.8360 - val_loss: 0.8162 - val_acc: 0.6400\n",
      "Epoch 69/100\n",
      "2250/2250 [==============================] - 1s 624us/sample - loss: 0.4157 - acc: 0.8427 - val_loss: 0.7960 - val_acc: 0.6387\n",
      "Epoch 70/100\n",
      "2250/2250 [==============================] - 1s 601us/sample - loss: 0.4126 - acc: 0.8489 - val_loss: 0.7833 - val_acc: 0.6453.4154 - acc: 0.846\n",
      "Epoch 71/100\n",
      "2250/2250 [==============================] - 1s 615us/sample - loss: 0.4089 - acc: 0.8391 - val_loss: 0.7287 - val_acc: 0.6600\n",
      "Epoch 72/100\n",
      "2250/2250 [==============================] - 1s 638us/sample - loss: 0.4039 - acc: 0.8507 - val_loss: 0.7782 - val_acc: 0.6453\n",
      "Epoch 73/100\n",
      "2250/2250 [==============================] - 1s 626us/sample - loss: 0.4039 - acc: 0.8529 - val_loss: 0.7311 - val_acc: 0.6573\n",
      "Epoch 74/100\n",
      "2250/2250 [==============================] - 1s 625us/sample - loss: 0.3964 - acc: 0.8542 - val_loss: 0.7665 - val_acc: 0.6507\n",
      "Epoch 75/100\n",
      "2250/2250 [==============================] - 1s 635us/sample - loss: 0.3926 - acc: 0.8556 - val_loss: 0.7337 - val_acc: 0.6613\n",
      "Epoch 76/100\n",
      "2250/2250 [==============================] - 1s 628us/sample - loss: 0.3907 - acc: 0.8538 - val_loss: 0.7811 - val_acc: 0.6373\n",
      "Epoch 77/100\n",
      "2250/2250 [==============================] - 1s 597us/sample - loss: 0.3919 - acc: 0.8569 - val_loss: 0.9268 - val_acc: 0.5947- loss: 0.3766 \n",
      "Epoch 78/100\n",
      "2250/2250 [==============================] - 1s 597us/sample - loss: 0.3833 - acc: 0.8600 - val_loss: 0.7207 - val_acc: 0.6640\n",
      "Epoch 79/100\n",
      "2250/2250 [==============================] - 1s 621us/sample - loss: 0.3851 - acc: 0.8631 - val_loss: 0.7588 - val_acc: 0.6547\n",
      "Epoch 80/100\n",
      "2250/2250 [==============================] - 1s 599us/sample - loss: 0.3731 - acc: 0.8556 - val_loss: 0.7344 - val_acc: 0.6707\n",
      "Epoch 81/100\n",
      "2250/2250 [==============================] - 1s 630us/sample - loss: 0.3754 - acc: 0.8627 - val_loss: 0.7389 - val_acc: 0.6693\n",
      "Epoch 82/100\n",
      "2250/2250 [==============================] - 1s 616us/sample - loss: 0.3740 - acc: 0.8698 - val_loss: 0.7259 - val_acc: 0.6720\n",
      "Epoch 83/100\n",
      "2250/2250 [==============================] - 1s 623us/sample - loss: 0.3681 - acc: 0.8644 - val_loss: 0.8457 - val_acc: 0.6333\n",
      "Epoch 84/100\n",
      "2250/2250 [==============================] - 1s 631us/sample - loss: 0.3640 - acc: 0.8640 - val_loss: 0.7275 - val_acc: 0.6693\n",
      "Epoch 85/100\n",
      "2250/2250 [==============================] - 1s 562us/sample - loss: 0.3607 - acc: 0.8733 - val_loss: 0.7571 - val_acc: 0.6707\n",
      "Epoch 86/100\n",
      "2250/2250 [==============================] - 1s 627us/sample - loss: 0.3591 - acc: 0.8693 - val_loss: 0.7578 - val_acc: 0.6427\n",
      "Epoch 87/100\n",
      "2250/2250 [==============================] - 1s 634us/sample - loss: 0.3591 - acc: 0.8702 - val_loss: 0.8469 - val_acc: 0.6227\n",
      "Epoch 88/100\n",
      "2250/2250 [==============================] - 1s 615us/sample - loss: 0.3536 - acc: 0.8751 - val_loss: 0.7706 - val_acc: 0.6493\n",
      "Epoch 89/100\n",
      "2250/2250 [==============================] - 1s 624us/sample - loss: 0.3552 - acc: 0.8773 - val_loss: 0.7952 - val_acc: 0.6493\n",
      "Epoch 90/100\n",
      "2250/2250 [==============================] - 1s 621us/sample - loss: 0.3414 - acc: 0.8844 - val_loss: 0.7919 - val_acc: 0.6587\n",
      "Epoch 91/100\n",
      "2250/2250 [==============================] - 1s 630us/sample - loss: 0.3441 - acc: 0.8778 - val_loss: 0.7952 - val_acc: 0.6467\n",
      "Epoch 92/100\n",
      "2250/2250 [==============================] - 1s 612us/sample - loss: 0.3419 - acc: 0.8809 - val_loss: 0.8484 - val_acc: 0.6347\n",
      "Epoch 93/100\n",
      "2250/2250 [==============================] - 1s 621us/sample - loss: 0.3411 - acc: 0.8742 - val_loss: 0.8972 - val_acc: 0.6147\n",
      "Epoch 94/100\n",
      "2250/2250 [==============================] - 1s 620us/sample - loss: 0.3341 - acc: 0.8804 - val_loss: 0.7446 - val_acc: 0.6627\n",
      "Epoch 95/100\n",
      "2250/2250 [==============================] - 1s 621us/sample - loss: 0.3363 - acc: 0.8827 - val_loss: 0.8064 - val_acc: 0.6547\n",
      "Epoch 96/100\n",
      "2250/2250 [==============================] - 1s 635us/sample - loss: 0.3274 - acc: 0.8871 - val_loss: 0.7671 - val_acc: 0.6653 0.3280 - acc\n",
      "Epoch 97/100\n",
      "2250/2250 [==============================] - 1s 640us/sample - loss: 0.3272 - acc: 0.8911 - val_loss: 0.8368 - val_acc: 0.6373\n",
      "Epoch 98/100\n",
      "2250/2250 [==============================] - 1s 627us/sample - loss: 0.3279 - acc: 0.8898 - val_loss: 0.7477 - val_acc: 0.6693\n",
      "Epoch 99/100\n",
      "2250/2250 [==============================] - 1s 623us/sample - loss: 0.3233 - acc: 0.8853 - val_loss: 0.7812 - val_acc: 0.6480\n",
      "Epoch 100/100\n",
      "2250/2250 [==============================] - 1s 620us/sample - loss: 0.3197 - acc: 0.8880 - val_loss: 0.7715 - val_acc: 0.6733\n"
     ]
    }
   ],
   "source": [
    "H = model.fit(trainX, trainY, validation_data = (testX, testY), batch_size = batch_size, epochs = 100, verbose = 1)"
   ]
  },
  {
   "cell_type": "code",
   "execution_count": 16,
   "metadata": {},
   "outputs": [],
   "source": [
    "#saving the model\n",
    "model.save('shallow_weights.hdf5')"
   ]
  },
  {
   "cell_type": "code",
   "execution_count": 17,
   "metadata": {},
   "outputs": [
    {
     "name": "stdout",
     "output_type": "stream",
     "text": [
      "              precision    recall  f1-score   support\n",
      "\n",
      "         cat       0.63      0.65      0.64       262\n",
      "         dog       0.55      0.63      0.59       249\n",
      "       panda       0.90      0.75      0.82       239\n",
      "\n",
      "    accuracy                           0.67       750\n",
      "   macro avg       0.69      0.67      0.68       750\n",
      "weighted avg       0.69      0.67      0.68       750\n",
      "\n"
     ]
    }
   ],
   "source": [
    "#evaluating the network\n",
    "predictions = model.predict(testX, batch_size = 32)\n",
    "print(classification_report(testY.argmax(axis = 1), predictions.argmax(axis = 1), target_names = ['cat', 'dog', 'panda']))"
   ]
  },
  {
   "cell_type": "code",
   "execution_count": 18,
   "metadata": {},
   "outputs": [
    {
     "data": {
      "image/png": "[encoded data removed]",
      "text/plain": [
       "<Figure size 432x288 with 1 Axes>"
      ]
     },
     "metadata": {},
     "output_type": "display_data"
    }
   ],
   "source": [
    "#plotting the training loss and accuracy\n",
    "plt.style.use('ggplot')\n",
    "plt.figure()\n",
    "plt.plot(np.arange(0, 100), H.history['loss'], label = 'train_loss')\n",
    "plt.plot(np.arange(0, 100), H.history['val_loss'], label = 'val_loss')\n",
    "plt.plot(np.arange(0, 100), H.history['acc'], label = 'train_acc')\n",
    "plt.plot(np.arange(0, 100), H.history['val_acc'], label = 'val_acc')\n",
    "plt.title('Training Loss and Accuracy')\n",
    "plt.xlabel('Epochs#')\n",
    "plt.ylabel('Loss/Accuracy')\n",
    "plt.legend()\n",
    "plt.show()"
   ]
  },
  {
   "cell_type": "code",
   "execution_count": null,
   "metadata": {},
   "outputs": [],
   "source": []
  },
  {
   "cell_type": "code",
   "execution_count": null,
   "metadata": {},
   "outputs": [],
   "source": []
  },
  {
   "cell_type": "code",
   "execution_count": null,
   "metadata": {},
   "outputs": [],
   "source": []
  }
 ],
 "metadata": {
  "kernelspec": {
   "display_name": "Python 3",
   "language": "python",
   "name": "python3"
  },
  "language_info": {
   "codemirror_mode": {
    "name": "ipython",
    "version": 3
   },
   "file_extension": ".py",
   "mimetype": "text/x-python",
   "name": "python",
   "nbconvert_exporter": "python",
   "pygments_lexer": "ipython3",
   "version": "3.7.4"
  }
 },
 "nbformat": 4,
 "nbformat_minor": 2
}
