{
 "cells": [
  {
   "cell_type": "code",
   "execution_count": 1,
   "metadata": {},
   "outputs": [],
   "source": [
    "from tensorflow.keras.models import Sequential\n",
    "from tensorflow.keras.layers import Conv2D\n",
    "from tensorflow.keras.layers import Activation\n",
    "from tensorflow.keras.layers import Flatten\n",
    "from tensorflow.keras.layers import Dense\n",
    "from tensorflow.keras import backend as K\n",
    "from tensorflow.keras.models import load_model\n",
    "from sklearn.preprocessing import LabelBinarizer\n",
    "from sklearn.model_selection import train_test_split\n",
    "from sklearn.metrics import classification_report\n",
    "from tensorflow.keras.optimizers import SGD\n",
    "import matplotlib.pyplot as plt\n",
    "import numpy as np\n",
    "import cv2\n",
    "import os\n",
    "import glob\n",
    "from PIL import Image"
   ]
  },
  {
   "cell_type": "code",
   "execution_count": 2,
   "metadata": {},
   "outputs": [],
   "source": [
    "classLabels = ['cat', 'dog', 'panda']"
   ]
  },
  {
   "cell_type": "code",
   "execution_count": 3,
   "metadata": {},
   "outputs": [],
   "source": [
    "#importing dataset\n",
    "cat = [cv2.imread(file) for file in glob.glob('datasets/animals/cats/*')]\n",
    "dog = [cv2.imread(file) for file in glob.glob('datasets/animals/dogs/*')]\n",
    "panda = [cv2.imread(file) for file in glob.glob('datasets/animals/panda/*')]\n",
    "XX = np.concatenate((np.array(cat), np.array(dog),np.array(panda))) \n",
    "#XX is storing all the images and will be used later during evaluation time"
   ]
  },
  {
   "cell_type": "code",
   "execution_count": 4,
   "metadata": {},
   "outputs": [
    {
     "name": "stdout",
     "output_type": "stream",
     "text": [
      "(374, 500, 3)\n",
      "1000\n",
      "(478, 382, 3)\n",
      "1000\n",
      "(500, 480, 3)\n",
      "1000\n",
      "3000\n"
     ]
    }
   ],
   "source": [
    "#length and shape of images\n",
    "print(cat[0].shape)\n",
    "print(len(cat))\n",
    "print(dog[0].shape)\n",
    "print(len(dog))\n",
    "print(panda[0].shape)\n",
    "print(len(panda))\n",
    "print(len(XX))"
   ]
  },
  {
   "cell_type": "code",
   "execution_count": 5,
   "metadata": {},
   "outputs": [],
   "source": [
    "#changing the image shapes to 32x32\n",
    "dim = (32, 32)\n",
    "#reducing pixels to 32 x 32 x 3\n",
    "cat = [cv2.resize(file, dim, interpolation = cv2.INTER_AREA) for file in cat]\n",
    "dog = [cv2.resize(file, dim, interpolation = cv2.INTER_AREA) for file in dog]\n",
    "panda = [cv2.resize(file, dim, interpolation = cv2.INTER_AREA) for file in panda]"
   ]
  },
  {
   "cell_type": "code",
   "execution_count": 6,
   "metadata": {},
   "outputs": [
    {
     "name": "stdout",
     "output_type": "stream",
     "text": [
      "(32, 32, 3)\n",
      "1000\n",
      "(32, 32, 3)\n",
      "1000\n",
      "(32, 32, 3)\n",
      "1000\n"
     ]
    }
   ],
   "source": [
    "#length and shape of images\n",
    "print(cat[0].shape)\n",
    "print(len(cat))\n",
    "print(dog[0].shape)\n",
    "print(len(dog))\n",
    "print(panda[0].shape)\n",
    "print(len(panda))"
   ]
  },
  {
   "cell_type": "code",
   "execution_count": 7,
   "metadata": {},
   "outputs": [],
   "source": [
    "X = np.concatenate((np.array(cat), np.array(dog),np.array(panda)))\n",
    "X = X.astype('float')/255.0"
   ]
  },
  {
   "cell_type": "code",
   "execution_count": 8,
   "metadata": {},
   "outputs": [
    {
     "name": "stdout",
     "output_type": "stream",
     "text": [
      "(32, 32, 3)\n",
      "3000\n"
     ]
    }
   ],
   "source": [
    "print(X[0].shape)\n",
    "print(len(X))"
   ]
  },
  {
   "cell_type": "code",
   "execution_count": 9,
   "metadata": {},
   "outputs": [
    {
     "name": "stdout",
     "output_type": "stream",
     "text": [
      "WARNING:tensorflow:From C:\\Users\\b84145862\\AppData\\Roaming\\Python\\Python37\\site-packages\\tensorflow_core\\python\\ops\\init_ops.py:97: calling GlorotUniform.__init__ (from tensorflow.python.ops.init_ops) with dtype is deprecated and will be removed in a future version.\n",
      "Instructions for updating:\n",
      "Call initializer instance with the dtype argument instead of passing it to the constructor\n",
      "WARNING:tensorflow:From C:\\Users\\b84145862\\AppData\\Roaming\\Python\\Python37\\site-packages\\tensorflow_core\\python\\ops\\init_ops.py:97: calling Zeros.__init__ (from tensorflow.python.ops.init_ops) with dtype is deprecated and will be removed in a future version.\n",
      "Instructions for updating:\n",
      "Call initializer instance with the dtype argument instead of passing it to the constructor\n",
      "WARNING:tensorflow:From C:\\Users\\b84145862\\AppData\\Roaming\\Python\\Python37\\site-packages\\tensorflow_core\\python\\ops\\resource_variable_ops.py:1630: calling BaseResourceVariable.__init__ (from tensorflow.python.ops.resource_variable_ops) with constraint is deprecated and will be removed in a future version.\n",
      "Instructions for updating:\n",
      "If using Keras pass *_constraint arguments to layers.\n"
     ]
    }
   ],
   "source": [
    "#loading the pretrained model\n",
    "model = load_model('shallow_weights.hdf5')"
   ]
  },
  {
   "cell_type": "code",
   "execution_count": 10,
   "metadata": {},
   "outputs": [],
   "source": [
    "#make predictions on model\n",
    "preds = model.predict(X, batch_size = 32).argmax(axis = 1)"
   ]
  },
  {
   "cell_type": "code",
   "execution_count": 19,
   "metadata": {},
   "outputs": [
    {
     "name": "stdout",
     "output_type": "stream",
     "text": [
      "[ 471 2899 2845 2657  897  527 2252  897  121 1670]\n"
     ]
    }
   ],
   "source": [
    "#visualizing the predicted results\n",
    "idx = np.random.randint(0, len(XX), 10)\n",
    "print(idx)\n",
    "XY = XX[idx]"
   ]
  },
  {
   "cell_type": "code",
   "execution_count": 20,
   "metadata": {},
   "outputs": [],
   "source": [
    "for (i, xx) in enumerate(XY):\n",
    "    cv2.putText(xx, 'Label:{}'.format(classLabels[preds[idx[i]]]), (10,30),\n",
    "               cv2.FONT_HERSHEY_SIMPLEX, 0.7, (0, 255, 0), 2)\n",
    "    cv2.imshow('Image', xx)\n",
    "    cv2.waitKey(5000)\n",
    "    cv2.destroyAllWindows()"
   ]
  },
  {
   "cell_type": "code",
   "execution_count": 21,
   "metadata": {},
   "outputs": [
    {
     "name": "stdout",
     "output_type": "stream",
     "text": [
      "3000\n"
     ]
    }
   ],
   "source": [
    "print(len(preds))"
   ]
  },
  {
   "cell_type": "code",
   "execution_count": null,
   "metadata": {},
   "outputs": [],
   "source": []
  }
 ],
 "metadata": {
  "kernelspec": {
   "display_name": "Python 3",
   "language": "python",
   "name": "python3"
  },
  "language_info": {
   "codemirror_mode": {
    "name": "ipython",
    "version": 3
   },
   "file_extension": ".py",
   "mimetype": "text/x-python",
   "name": "python",
   "nbconvert_exporter": "python",
   "pygments_lexer": "ipython3",
   "version": "3.7.4"
  }
 },
 "nbformat": 4,
 "nbformat_minor": 2
}
