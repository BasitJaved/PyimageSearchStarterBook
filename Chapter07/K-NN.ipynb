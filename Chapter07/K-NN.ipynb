{
 "cells": [
  {
   "cell_type": "code",
   "execution_count": 1,
   "metadata": {},
   "outputs": [],
   "source": [
    "from sklearn.neighbors import KNeighborsClassifier\n",
    "from sklearn.preprocessing import LabelEncoder\n",
    "from sklearn.model_selection import train_test_split\n",
    "from sklearn.metrics import classification_report\n",
    "from imutils import paths\n",
    "import argparse\n",
    "import numpy as np\n",
    "import cv2\n",
    "import os\n",
    "import glob"
   ]
  },
  {
   "cell_type": "code",
   "execution_count": 2,
   "metadata": {},
   "outputs": [],
   "source": [
    "cats = [cv2.imread(file) for file in glob.glob('datasets/animals/cats/*.jpg')]\n",
    "dogs = [cv2.imread(file) for file in glob.glob('datasets/animals/dogs/*.jpg')]\n",
    "pandas = [cv2.imread(file) for file in glob.glob('datasets/animals/panda/*.jpg')]"
   ]
  },
  {
   "cell_type": "code",
   "execution_count": 3,
   "metadata": {},
   "outputs": [
    {
     "name": "stdout",
     "output_type": "stream",
     "text": [
      "(374, 500, 3)\n",
      "(478, 382, 3)\n",
      "(500, 480, 3)\n"
     ]
    }
   ],
   "source": [
    "print(cats[0].shape)\n",
    "print(dogs[0].shape)\n",
    "print(pandas[0].shape)"
   ]
  },
  {
   "cell_type": "code",
   "execution_count": 4,
   "metadata": {},
   "outputs": [],
   "source": [
    "dim = (32, 32)\n",
    "cats = [cv2.resize(file, dim, interpolation = cv2.INTER_AREA) for file in cats] #reducing pixels to 32 x 32 x 3\n",
    "dogs = [cv2.resize(file, dim, interpolation = cv2.INTER_AREA) for file in dogs] #reducing pixels to 32 x 32 x 3\n",
    "pandas = [cv2.resize(file, dim, interpolation = cv2.INTER_AREA) for file in pandas] #reducing pixels to 32 x 32 x 3"
   ]
  },
  {
   "cell_type": "code",
   "execution_count": 5,
   "metadata": {},
   "outputs": [
    {
     "name": "stdout",
     "output_type": "stream",
     "text": [
      "(32, 32, 3)\n",
      "(32, 32, 3)\n",
      "(32, 32, 3)\n"
     ]
    }
   ],
   "source": [
    "print(cats[0].shape)\n",
    "print(dogs[0].shape)\n",
    "print(pandas[0].shape)"
   ]
  },
  {
   "cell_type": "code",
   "execution_count": 6,
   "metadata": {},
   "outputs": [],
   "source": [
    "y_cats = np.zeros(len(cats))             #cat Labels\n",
    "y_dogs = np.ones(len(dogs))              #dog Labels\n",
    "y_pandas = 2*np.ones(len(pandas))        #panda Labels"
   ]
  },
  {
   "cell_type": "code",
   "execution_count": 7,
   "metadata": {},
   "outputs": [],
   "source": [
    "X = np.concatenate((np.array(cats),np.array(dogs)))\n",
    "X = np.concatenate((np.array(X),np.array(pandas)))"
   ]
  },
  {
   "cell_type": "code",
   "execution_count": 8,
   "metadata": {},
   "outputs": [],
   "source": [
    "y = np.concatenate((np.array(y_cats),np.array(y_dogs)))\n",
    "y = np.concatenate((np.array(y),np.array(y_pandas)))"
   ]
  },
  {
   "cell_type": "code",
   "execution_count": 9,
   "metadata": {},
   "outputs": [
    {
     "name": "stdout",
     "output_type": "stream",
     "text": [
      "3000\n",
      "3000\n"
     ]
    }
   ],
   "source": [
    "print(len(X))\n",
    "print(len(y))"
   ]
  },
  {
   "cell_type": "code",
   "execution_count": 12,
   "metadata": {},
   "outputs": [
    {
     "data": {
      "text/plain": [
       "(3000, 32, 32, 3)"
      ]
     },
     "execution_count": 12,
     "metadata": {},
     "output_type": "execute_result"
    }
   ],
   "source": [
    "X.shape"
   ]
  },
  {
   "cell_type": "code",
   "execution_count": 14,
   "metadata": {},
   "outputs": [],
   "source": [
    "#Flattning the images\n",
    "X = X.reshape(X.shape[0], 3072)"
   ]
  },
  {
   "cell_type": "code",
   "execution_count": 15,
   "metadata": {},
   "outputs": [],
   "source": [
    "#Splitting data set into training and testing sets\n",
    "(trainX, testX, trainY, testY) = train_test_split(X, y, test_size = 0.25, random_state = 42)"
   ]
  },
  {
   "cell_type": "code",
   "execution_count": 16,
   "metadata": {},
   "outputs": [
    {
     "name": "stdout",
     "output_type": "stream",
     "text": [
      "2250\n",
      "2250\n"
     ]
    }
   ],
   "source": [
    "print(len(trainX))\n",
    "print(len(trainY))"
   ]
  },
  {
   "cell_type": "code",
   "execution_count": 17,
   "metadata": {},
   "outputs": [
    {
     "name": "stdout",
     "output_type": "stream",
     "text": [
      "750\n",
      "750\n"
     ]
    }
   ],
   "source": [
    "print(len(testX))\n",
    "print(len(testY))"
   ]
  },
  {
   "cell_type": "code",
   "execution_count": 18,
   "metadata": {},
   "outputs": [],
   "source": [
    "classes = ['Cats', 'Dogs', 'Pandas']"
   ]
  },
  {
   "cell_type": "markdown",
   "metadata": {},
   "source": [
    "#  Neighbors = 1"
   ]
  },
  {
   "cell_type": "code",
   "execution_count": 19,
   "metadata": {},
   "outputs": [
    {
     "name": "stdout",
     "output_type": "stream",
     "text": [
      "              precision    recall  f1-score   support\n",
      "\n",
      "        Cats       0.41      0.49      0.45       262\n",
      "        Dogs       0.35      0.47      0.40       249\n",
      "      Pandas       0.70      0.31      0.43       239\n",
      "\n",
      "    accuracy                           0.43       750\n",
      "   macro avg       0.49      0.42      0.43       750\n",
      "weighted avg       0.48      0.43      0.43       750\n",
      "\n"
     ]
    }
   ],
   "source": [
    "model = KNeighborsClassifier(n_neighbors = 1, n_jobs = -1)\n",
    "model.fit(trainX, trainY)\n",
    "print(classification_report(testY, model.predict(testX), target_names = classes))"
   ]
  },
  {
   "cell_type": "markdown",
   "metadata": {},
   "source": [
    "# Neighbors = 2"
   ]
  },
  {
   "cell_type": "code",
   "execution_count": 20,
   "metadata": {},
   "outputs": [
    {
     "name": "stdout",
     "output_type": "stream",
     "text": [
      "              precision    recall  f1-score   support\n",
      "\n",
      "        Cats       0.41      0.77      0.54       262\n",
      "        Dogs       0.35      0.31      0.33       249\n",
      "      Pandas       0.88      0.15      0.26       239\n",
      "\n",
      "    accuracy                           0.42       750\n",
      "   macro avg       0.55      0.41      0.38       750\n",
      "weighted avg       0.54      0.42      0.38       750\n",
      "\n"
     ]
    }
   ],
   "source": [
    "model = KNeighborsClassifier(n_neighbors = 2, n_jobs = -1)\n",
    "model.fit(trainX, trainY)\n",
    "print(classification_report(testY, model.predict(testX), target_names = classes))"
   ]
  },
  {
   "cell_type": "markdown",
   "metadata": {},
   "source": [
    "# Neighbors = 3"
   ]
  },
  {
   "cell_type": "code",
   "execution_count": 21,
   "metadata": {},
   "outputs": [
    {
     "name": "stdout",
     "output_type": "stream",
     "text": [
      "              precision    recall  f1-score   support\n",
      "\n",
      "        Cats       0.41      0.58      0.48       262\n",
      "        Dogs       0.38      0.47      0.42       249\n",
      "      Pandas       0.86      0.26      0.40       239\n",
      "\n",
      "    accuracy                           0.44       750\n",
      "   macro avg       0.55      0.44      0.43       750\n",
      "weighted avg       0.54      0.44      0.44       750\n",
      "\n"
     ]
    }
   ],
   "source": [
    "model = KNeighborsClassifier(n_neighbors = 3, n_jobs = -1)\n",
    "model.fit(trainX, trainY)\n",
    "print(classification_report(testY, model.predict(testX), target_names = classes))"
   ]
  },
  {
   "cell_type": "code",
   "execution_count": null,
   "metadata": {},
   "outputs": [],
   "source": []
  }
 ],
 "metadata": {
  "kernelspec": {
   "display_name": "Python 3",
   "language": "python",
   "name": "python3"
  },
  "language_info": {
   "codemirror_mode": {
    "name": "ipython",
    "version": 3
   },
   "file_extension": ".py",
   "mimetype": "text/x-python",
   "name": "python",
   "nbconvert_exporter": "python",
   "pygments_lexer": "ipython3",
   "version": "3.7.4"
  }
 },
 "nbformat": 4,
 "nbformat_minor": 2
}
