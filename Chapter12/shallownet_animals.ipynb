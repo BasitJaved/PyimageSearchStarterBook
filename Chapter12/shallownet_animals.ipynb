{
 "cells": [
  {
   "cell_type": "code",
   "execution_count": 1,
   "metadata": {},
   "outputs": [],
   "source": [
    "from tensorflow.keras.models import Sequential\n",
    "from tensorflow.keras.layers import Conv2D\n",
    "from tensorflow.keras.layers import Activation\n",
    "from tensorflow.keras.layers import Flatten\n",
    "from tensorflow.keras.layers import Dense\n",
    "from tensorflow.keras import backend as K\n",
    "from sklearn.preprocessing import LabelBinarizer\n",
    "from sklearn.model_selection import train_test_split\n",
    "from sklearn.metrics import classification_report\n",
    "from tensorflow.keras.optimizers import SGD\n",
    "import matplotlib.pyplot as plt\n",
    "import numpy as np\n",
    "import cv2\n",
    "import os\n",
    "import glob\n",
    "from PIL import Image"
   ]
  },
  {
   "cell_type": "code",
   "execution_count": 2,
   "metadata": {},
   "outputs": [],
   "source": [
    "#importing dataset\n",
    "cat = [cv2.imread(file) for file in glob.glob('datasets/animals/cats/*')]\n",
    "dog = [cv2.imread(file) for file in glob.glob('datasets/animals/dogs/*')]\n",
    "panda = [cv2.imread(file) for file in glob.glob('datasets/animals/panda/*')]\n"
   ]
  },
  {
   "cell_type": "code",
   "execution_count": 3,
   "metadata": {},
   "outputs": [
    {
     "name": "stdout",
     "output_type": "stream",
     "text": [
      "(374, 500, 3)\n",
      "1000\n",
      "(478, 382, 3)\n",
      "1000\n",
      "(500, 480, 3)\n",
      "1000\n"
     ]
    }
   ],
   "source": [
    "#length and shape of images\n",
    "print(cat[0].shape)\n",
    "print(len(cat))\n",
    "print(dog[0].shape)\n",
    "print(len(dog))\n",
    "print(panda[0].shape)\n",
    "print(len(panda))"
   ]
  },
  {
   "cell_type": "code",
   "execution_count": 4,
   "metadata": {},
   "outputs": [],
   "source": [
    "#changing the image shapes to 32x32\n",
    "dim = (32, 32)\n",
    "#reducing pixels to 32 x 32 x 3\n",
    "cat = [cv2.resize(file, dim, interpolation = cv2.INTER_AREA) for file in cat]\n",
    "dog = [cv2.resize(file, dim, interpolation = cv2.INTER_AREA) for file in dog]\n",
    "panda = [cv2.resize(file, dim, interpolation = cv2.INTER_AREA) for file in panda]"
   ]
  },
  {
   "cell_type": "code",
   "execution_count": 5,
   "metadata": {},
   "outputs": [
    {
     "name": "stdout",
     "output_type": "stream",
     "text": [
      "(32, 32, 3)\n",
      "1000\n",
      "(32, 32, 3)\n",
      "1000\n",
      "(32, 32, 3)\n",
      "1000\n"
     ]
    }
   ],
   "source": [
    "#length and shape of images\n",
    "print(cat[0].shape)\n",
    "print(len(cat))\n",
    "print(dog[0].shape)\n",
    "print(len(dog))\n",
    "print(panda[0].shape)\n",
    "print(len(panda))"
   ]
  },
  {
   "cell_type": "code",
   "execution_count": 17,
   "metadata": {},
   "outputs": [],
   "source": [
    "X = np.concatenate((np.array(cat), np.array(dog),np.array(panda)))\n",
    "X = X.astype('float')/255.0"
   ]
  },
  {
   "cell_type": "code",
   "execution_count": 18,
   "metadata": {},
   "outputs": [
    {
     "name": "stdout",
     "output_type": "stream",
     "text": [
      "(32, 32, 3)\n",
      "3000\n"
     ]
    }
   ],
   "source": [
    "print(X[0].shape)\n",
    "print(len(X))"
   ]
  },
  {
   "cell_type": "code",
   "execution_count": 19,
   "metadata": {},
   "outputs": [],
   "source": [
    "y_cat = np.zeros(len(cat)) # labels for cat\n",
    "y_dog = np.ones(len(dog)) # labels for dog\n",
    "y_panda = np.ones(len(panda))*2 # labels for panda\n",
    "y = np.concatenate((y_cat,y_dog, y_panda)) # Labels"
   ]
  },
  {
   "cell_type": "code",
   "execution_count": 20,
   "metadata": {},
   "outputs": [
    {
     "name": "stdout",
     "output_type": "stream",
     "text": [
      "3000\n"
     ]
    }
   ],
   "source": [
    "print(len(y))"
   ]
  },
  {
   "cell_type": "code",
   "execution_count": 21,
   "metadata": {},
   "outputs": [],
   "source": [
    "#importing ans splitting the data\n",
    "(trainX, testX, trainY, testY) = train_test_split(X, y, test_size = 0.25, random_state = 42)"
   ]
  },
  {
   "cell_type": "code",
   "execution_count": 22,
   "metadata": {},
   "outputs": [],
   "source": [
    "#convert labels from integers to vectors\n",
    "trainY = LabelBinarizer().fit_transform(trainY)\n",
    "testY = LabelBinarizer().fit_transform(testY)"
   ]
  },
  {
   "cell_type": "markdown",
   "metadata": {},
   "source": [
    "# Model"
   ]
  },
  {
   "cell_type": "code",
   "execution_count": 23,
   "metadata": {},
   "outputs": [],
   "source": [
    "batch_size = 32\n",
    "epochs = 100\n",
    "opt = SGD(lr = 0.005)"
   ]
  },
  {
   "cell_type": "code",
   "execution_count": 24,
   "metadata": {},
   "outputs": [],
   "source": [
    "def model():\n",
    "    model = Sequential()\n",
    "    model.add(Conv2D(32, kernel_size = (3,3), padding = 'same', input_shape = (32,32, 3)))\n",
    "    model.add(Activation('relu'))\n",
    "    model.add(Flatten())\n",
    "    model.add(Dense(3))\n",
    "    model.add(Activation('softmax'))\n",
    "    \n",
    "    return model"
   ]
  },
  {
   "cell_type": "code",
   "execution_count": 25,
   "metadata": {},
   "outputs": [
    {
     "name": "stdout",
     "output_type": "stream",
     "text": [
      "Model: \"sequential_1\"\n",
      "_________________________________________________________________\n",
      "Layer (type)                 Output Shape              Param #   \n",
      "=================================================================\n",
      "conv2d_1 (Conv2D)            (None, 32, 32, 32)        896       \n",
      "_________________________________________________________________\n",
      "activation_2 (Activation)    (None, 32, 32, 32)        0         \n",
      "_________________________________________________________________\n",
      "flatten_1 (Flatten)          (None, 32768)             0         \n",
      "_________________________________________________________________\n",
      "dense_1 (Dense)              (None, 3)                 98307     \n",
      "_________________________________________________________________\n",
      "activation_3 (Activation)    (None, 3)                 0         \n",
      "=================================================================\n",
      "Total params: 99,203\n",
      "Trainable params: 99,203\n",
      "Non-trainable params: 0\n",
      "_________________________________________________________________\n"
     ]
    }
   ],
   "source": [
    "model = model()\n",
    "model.compile(loss = 'categorical_crossentropy', optimizer = opt, metrics = ['accuracy'])\n",
    "model.summary()"
   ]
  },
  {
   "cell_type": "code",
   "execution_count": 26,
   "metadata": {},
   "outputs": [
    {
     "name": "stdout",
     "output_type": "stream",
     "text": [
      "Train on 2250 samples, validate on 750 samples\n",
      "Epoch 1/100\n",
      "2250/2250 [==============================] - 2s 812us/sample - loss: 1.0260 - acc: 0.4591 - val_loss: 1.0789 - val_acc: 0.4520\n",
      "Epoch 2/100\n",
      "2250/2250 [==============================] - 2s 983us/sample - loss: 0.9364 - acc: 0.5364 - val_loss: 0.8954 - val_acc: 0.5453\n",
      "Epoch 3/100\n",
      "2250/2250 [==============================] - 2s 905us/sample - loss: 0.8868 - acc: 0.5498 - val_loss: 0.8987 - val_acc: 0.5307\n",
      "Epoch 4/100\n",
      "2250/2250 [==============================] - 1s 609us/sample - loss: 0.8573 - acc: 0.5733 - val_loss: 0.9157 - val_acc: 0.5227\n",
      "Epoch 5/100\n",
      "2250/2250 [==============================] - 1s 589us/sample - loss: 0.8402 - acc: 0.5716 - val_loss: 0.9612 - val_acc: 0.4973\n",
      "Epoch 6/100\n",
      "2250/2250 [==============================] - 1s 552us/sample - loss: 0.8203 - acc: 0.5951 - val_loss: 0.9546 - val_acc: 0.4880\n",
      "Epoch 7/100\n",
      "2250/2250 [==============================] - 1s 590us/sample - loss: 0.8081 - acc: 0.6067 - val_loss: 0.8553 - val_acc: 0.5693\n",
      "Epoch 8/100\n",
      "2250/2250 [==============================] - 1s 594us/sample - loss: 0.7998 - acc: 0.6053 - val_loss: 0.8415 - val_acc: 0.5653\n",
      "Epoch 9/100\n",
      "2250/2250 [==============================] - 1s 632us/sample - loss: 0.7836 - acc: 0.6338 - val_loss: 0.8299 - val_acc: 0.5627\n",
      "Epoch 10/100\n",
      "2250/2250 [==============================] - 1s 625us/sample - loss: 0.7822 - acc: 0.6258 - val_loss: 0.8307 - val_acc: 0.5680\n",
      "Epoch 11/100\n",
      "2250/2250 [==============================] - 1s 605us/sample - loss: 0.7732 - acc: 0.6333 - val_loss: 0.8337 - val_acc: 0.5773\n",
      "Epoch 12/100\n",
      "2250/2250 [==============================] - 1s 604us/sample - loss: 0.7602 - acc: 0.6542 - val_loss: 0.8284 - val_acc: 0.5880\n",
      "Epoch 13/100\n",
      "2250/2250 [==============================] - 1s 612us/sample - loss: 0.7523 - acc: 0.6427 - val_loss: 0.8381 - val_acc: 0.5840\n",
      "Epoch 14/100\n",
      "2250/2250 [==============================] - 1s 607us/sample - loss: 0.7468 - acc: 0.6480 - val_loss: 0.8972 - val_acc: 0.5507\n",
      "Epoch 15/100\n",
      "2250/2250 [==============================] - 1s 606us/sample - loss: 0.7332 - acc: 0.6578 - val_loss: 0.8955 - val_acc: 0.5427\n",
      "Epoch 16/100\n",
      "2250/2250 [==============================] - 1s 627us/sample - loss: 0.7333 - acc: 0.6604 - val_loss: 0.8703 - val_acc: 0.5787\n",
      "Epoch 17/100\n",
      "2250/2250 [==============================] - 1s 651us/sample - loss: 0.7267 - acc: 0.6680 - val_loss: 0.8417 - val_acc: 0.5760\n",
      "Epoch 18/100\n",
      "2250/2250 [==============================] - 1s 646us/sample - loss: 0.7135 - acc: 0.6738 - val_loss: 0.8365 - val_acc: 0.5827\n",
      "Epoch 19/100\n",
      "2250/2250 [==============================] - 1s 623us/sample - loss: 0.7060 - acc: 0.6796 - val_loss: 0.8017 - val_acc: 0.6000\n",
      "Epoch 20/100\n",
      "2250/2250 [==============================] - 1s 617us/sample - loss: 0.7009 - acc: 0.6938 - val_loss: 0.8722 - val_acc: 0.5600\n",
      "Epoch 21/100\n",
      "2250/2250 [==============================] - 1s 609us/sample - loss: 0.6967 - acc: 0.6853 - val_loss: 0.8149 - val_acc: 0.5907\n",
      "Epoch 22/100\n",
      "2250/2250 [==============================] - 1s 599us/sample - loss: 0.6894 - acc: 0.6920 - val_loss: 0.7879 - val_acc: 0.5947\n",
      "Epoch 23/100\n",
      "2250/2250 [==============================] - 1s 599us/sample - loss: 0.6855 - acc: 0.6987 - val_loss: 0.8027 - val_acc: 0.5907\n",
      "Epoch 24/100\n",
      "2250/2250 [==============================] - 1s 613us/sample - loss: 0.6748 - acc: 0.6942 - val_loss: 0.7977 - val_acc: 0.5867\n",
      "Epoch 25/100\n",
      "2250/2250 [==============================] - 1s 600us/sample - loss: 0.6640 - acc: 0.7089 - val_loss: 0.7899 - val_acc: 0.5960\n",
      "Epoch 26/100\n",
      "2250/2250 [==============================] - 1s 614us/sample - loss: 0.6638 - acc: 0.7124 - val_loss: 0.8091 - val_acc: 0.5840\n",
      "Epoch 27/100\n",
      "2250/2250 [==============================] - 1s 624us/sample - loss: 0.6536 - acc: 0.7080 - val_loss: 0.7983 - val_acc: 0.5907\n",
      "Epoch 28/100\n",
      "2250/2250 [==============================] - 1s 634us/sample - loss: 0.6546 - acc: 0.7133 - val_loss: 0.7762 - val_acc: 0.5973\n",
      "Epoch 29/100\n",
      "2250/2250 [==============================] - 1s 644us/sample - loss: 0.6449 - acc: 0.7124 - val_loss: 0.7599 - val_acc: 0.6187\n",
      "Epoch 30/100\n",
      "2250/2250 [==============================] - 1s 624us/sample - loss: 0.6336 - acc: 0.7276 - val_loss: 0.7780 - val_acc: 0.6147\n",
      "Epoch 31/100\n",
      "2250/2250 [==============================] - 1s 614us/sample - loss: 0.6325 - acc: 0.7253 - val_loss: 0.8175 - val_acc: 0.5973\n",
      "Epoch 32/100\n",
      "2250/2250 [==============================] - 1s 636us/sample - loss: 0.6284 - acc: 0.7213 - val_loss: 0.8214 - val_acc: 0.5787\n",
      "Epoch 33/100\n",
      "2250/2250 [==============================] - 1s 616us/sample - loss: 0.6245 - acc: 0.7271 - val_loss: 0.7672 - val_acc: 0.6147\n",
      "Epoch 34/100\n",
      "2250/2250 [==============================] - 1s 624us/sample - loss: 0.6152 - acc: 0.7351 - val_loss: 0.8114 - val_acc: 0.6027\n",
      "Epoch 35/100\n",
      "2250/2250 [==============================] - 1s 610us/sample - loss: 0.6064 - acc: 0.7413 - val_loss: 0.7968 - val_acc: 0.6040\n",
      "Epoch 36/100\n",
      "2250/2250 [==============================] - 1s 611us/sample - loss: 0.6016 - acc: 0.7342 - val_loss: 0.9323 - val_acc: 0.5560\n",
      "Epoch 37/100\n",
      "2250/2250 [==============================] - 1s 598us/sample - loss: 0.5948 - acc: 0.7413 - val_loss: 0.7694 - val_acc: 0.6307\n",
      "Epoch 38/100\n",
      "2250/2250 [==============================] - 1s 594us/sample - loss: 0.5850 - acc: 0.7493 - val_loss: 0.7389 - val_acc: 0.6333\n",
      "Epoch 39/100\n",
      "2250/2250 [==============================] - 1s 640us/sample - loss: 0.5879 - acc: 0.7604 - val_loss: 0.8113 - val_acc: 0.6013\n",
      "Epoch 40/100\n",
      "2250/2250 [==============================] - 1s 628us/sample - loss: 0.5789 - acc: 0.7507 - val_loss: 0.7267 - val_acc: 0.6387\n",
      "Epoch 41/100\n",
      "2250/2250 [==============================] - 1s 630us/sample - loss: 0.5768 - acc: 0.7564 - val_loss: 0.7862 - val_acc: 0.6253\n",
      "Epoch 42/100\n",
      "2250/2250 [==============================] - 1s 599us/sample - loss: 0.5676 - acc: 0.7618 - val_loss: 0.7400 - val_acc: 0.6280\n",
      "Epoch 43/100\n",
      "2250/2250 [==============================] - 1s 624us/sample - loss: 0.5634 - acc: 0.7667 - val_loss: 0.7372 - val_acc: 0.6453\n",
      "Epoch 44/100\n",
      "2250/2250 [==============================] - 1s 609us/sample - loss: 0.5603 - acc: 0.7596 - val_loss: 0.7297 - val_acc: 0.6467\n",
      "Epoch 45/100\n",
      "2250/2250 [==============================] - 1s 621us/sample - loss: 0.5522 - acc: 0.7613 - val_loss: 0.7623 - val_acc: 0.6507\n",
      "Epoch 46/100\n",
      "2250/2250 [==============================] - 1s 597us/sample - loss: 0.5544 - acc: 0.7671 - val_loss: 0.7759 - val_acc: 0.6133\n",
      "Epoch 47/100\n",
      "2250/2250 [==============================] - 1s 599us/sample - loss: 0.5453 - acc: 0.7702 - val_loss: 0.7876 - val_acc: 0.6320\n",
      "Epoch 48/100\n",
      "2250/2250 [==============================] - 1s 616us/sample - loss: 0.5366 - acc: 0.7791 - val_loss: 0.7190 - val_acc: 0.6573\n",
      "Epoch 49/100\n",
      "2250/2250 [==============================] - 1s 597us/sample - loss: 0.5339 - acc: 0.7800 - val_loss: 0.7093 - val_acc: 0.6667\n",
      "Epoch 50/100\n",
      "2250/2250 [==============================] - 1s 606us/sample - loss: 0.5219 - acc: 0.7858 - val_loss: 0.7627 - val_acc: 0.6387\n",
      "Epoch 51/100\n",
      "2250/2250 [==============================] - 1s 618us/sample - loss: 0.5234 - acc: 0.7831 - val_loss: 0.8071 - val_acc: 0.6133\n",
      "Epoch 52/100\n",
      "2250/2250 [==============================] - 1s 615us/sample - loss: 0.5176 - acc: 0.7844 - val_loss: 0.7496 - val_acc: 0.6547\n",
      "Epoch 53/100\n",
      "2250/2250 [==============================] - 1s 631us/sample - loss: 0.5060 - acc: 0.7996 - val_loss: 0.7356 - val_acc: 0.6613\n",
      "Epoch 54/100\n",
      "2250/2250 [==============================] - 1s 533us/sample - loss: 0.5062 - acc: 0.7973 - val_loss: 0.7613 - val_acc: 0.6387\n",
      "Epoch 55/100\n",
      "2250/2250 [==============================] - 1s 611us/sample - loss: 0.5023 - acc: 0.8036 - val_loss: 0.7098 - val_acc: 0.6587\n",
      "Epoch 56/100\n",
      "2250/2250 [==============================] - 1s 524us/sample - loss: 0.4927 - acc: 0.8049 - val_loss: 0.7185 - val_acc: 0.6627\n",
      "Epoch 57/100\n",
      "2250/2250 [==============================] - 1s 609us/sample - loss: 0.4897 - acc: 0.8093 - val_loss: 0.6992 - val_acc: 0.6680\n",
      "Epoch 58/100\n",
      "2250/2250 [==============================] - 1s 620us/sample - loss: 0.4887 - acc: 0.7982 - val_loss: 0.8617 - val_acc: 0.6093\n",
      "Epoch 59/100\n",
      "2250/2250 [==============================] - 1s 623us/sample - loss: 0.4836 - acc: 0.8062 - val_loss: 0.7042 - val_acc: 0.6720\n",
      "Epoch 60/100\n",
      "2250/2250 [==============================] - 1s 607us/sample - loss: 0.4817 - acc: 0.8080 - val_loss: 0.7217 - val_acc: 0.6427\n",
      "Epoch 61/100\n",
      "2250/2250 [==============================] - 1s 614us/sample - loss: 0.4665 - acc: 0.8169 - val_loss: 0.7315 - val_acc: 0.6693\n",
      "Epoch 62/100\n",
      "2250/2250 [==============================] - 1s 612us/sample - loss: 0.4663 - acc: 0.8133 - val_loss: 0.6957 - val_acc: 0.6827\n",
      "Epoch 63/100\n",
      "2250/2250 [==============================] - 1s 632us/sample - loss: 0.4569 - acc: 0.8182 - val_loss: 0.7070 - val_acc: 0.6747\n",
      "Epoch 64/100\n",
      "2250/2250 [==============================] - 1s 611us/sample - loss: 0.4553 - acc: 0.8204 - val_loss: 0.7481 - val_acc: 0.6493\n",
      "Epoch 65/100\n",
      "2250/2250 [==============================] - 1s 602us/sample - loss: 0.4536 - acc: 0.8196 - val_loss: 0.7119 - val_acc: 0.6787\n",
      "Epoch 66/100\n",
      "2250/2250 [==============================] - 1s 587us/sample - loss: 0.4498 - acc: 0.8231 - val_loss: 0.7911 - val_acc: 0.6107\n",
      "Epoch 67/100\n",
      "2250/2250 [==============================] - 1s 599us/sample - loss: 0.4449 - acc: 0.8267 - val_loss: 0.7424 - val_acc: 0.6707\n",
      "Epoch 68/100\n",
      "2250/2250 [==============================] - 1s 605us/sample - loss: 0.4459 - acc: 0.8240 - val_loss: 0.7038 - val_acc: 0.6667\n",
      "Epoch 69/100\n",
      "2250/2250 [==============================] - 1s 616us/sample - loss: 0.4383 - acc: 0.8320 - val_loss: 0.7041 - val_acc: 0.6733\n",
      "Epoch 70/100\n",
      "2250/2250 [==============================] - 1s 610us/sample - loss: 0.4363 - acc: 0.8289 - val_loss: 0.7595 - val_acc: 0.6507\n",
      "Epoch 71/100\n",
      "2250/2250 [==============================] - 1s 595us/sample - loss: 0.4345 - acc: 0.8316 - val_loss: 0.7435 - val_acc: 0.6587\n",
      "Epoch 72/100\n",
      "2250/2250 [==============================] - 1s 591us/sample - loss: 0.4340 - acc: 0.8333 - val_loss: 0.7387 - val_acc: 0.6613\n",
      "Epoch 73/100\n",
      "2250/2250 [==============================] - 1s 596us/sample - loss: 0.4209 - acc: 0.8409 - val_loss: 0.7601 - val_acc: 0.6627\n",
      "Epoch 74/100\n",
      "2250/2250 [==============================] - 1s 531us/sample - loss: 0.4223 - acc: 0.8413 - val_loss: 0.7072 - val_acc: 0.6760\n",
      "Epoch 75/100\n",
      "2250/2250 [==============================] - 1s 617us/sample - loss: 0.4247 - acc: 0.8387 - val_loss: 0.8772 - val_acc: 0.6147\n",
      "Epoch 76/100\n",
      "2250/2250 [==============================] - 1s 623us/sample - loss: 0.4238 - acc: 0.8369 - val_loss: 0.7505 - val_acc: 0.6640\n",
      "Epoch 77/100\n",
      "2250/2250 [==============================] - 1s 595us/sample - loss: 0.4082 - acc: 0.8436 - val_loss: 0.7086 - val_acc: 0.6867\n",
      "Epoch 78/100\n",
      "2250/2250 [==============================] - 1s 600us/sample - loss: 0.4086 - acc: 0.8547 - val_loss: 0.7944 - val_acc: 0.6293\n",
      "Epoch 79/100\n",
      "2250/2250 [==============================] - 1s 605us/sample - loss: 0.3992 - acc: 0.8511 - val_loss: 0.7216 - val_acc: 0.6747\n",
      "Epoch 80/100\n",
      "2250/2250 [==============================] - 1s 614us/sample - loss: 0.4009 - acc: 0.8498 - val_loss: 0.7024 - val_acc: 0.6733\n",
      "Epoch 81/100\n",
      "2250/2250 [==============================] - 1s 611us/sample - loss: 0.3970 - acc: 0.8498 - val_loss: 0.7858 - val_acc: 0.6480\n",
      "Epoch 82/100\n",
      "2250/2250 [==============================] - 1s 589us/sample - loss: 0.3932 - acc: 0.8516 - val_loss: 0.7615 - val_acc: 0.6587\n",
      "Epoch 83/100\n",
      "2250/2250 [==============================] - 1s 603us/sample - loss: 0.3878 - acc: 0.8578 - val_loss: 0.7405 - val_acc: 0.6640\n",
      "Epoch 84/100\n",
      "2250/2250 [==============================] - 1s 584us/sample - loss: 0.3858 - acc: 0.8533 - val_loss: 0.7380 - val_acc: 0.6680\n",
      "Epoch 85/100\n",
      "2250/2250 [==============================] - 1s 600us/sample - loss: 0.3820 - acc: 0.8560 - val_loss: 0.7741 - val_acc: 0.6333\n",
      "Epoch 86/100\n",
      "2250/2250 [==============================] - 1s 626us/sample - loss: 0.3828 - acc: 0.8551 - val_loss: 0.7149 - val_acc: 0.6787\n",
      "Epoch 87/100\n",
      "2250/2250 [==============================] - 1s 634us/sample - loss: 0.3763 - acc: 0.8631 - val_loss: 0.8330 - val_acc: 0.6387\n",
      "Epoch 88/100\n",
      "2250/2250 [==============================] - 1s 619us/sample - loss: 0.3771 - acc: 0.8658 - val_loss: 1.0004 - val_acc: 0.6000\n",
      "Epoch 89/100\n",
      "2250/2250 [==============================] - 1s 603us/sample - loss: 0.3721 - acc: 0.8658 - val_loss: 0.7161 - val_acc: 0.6800\n",
      "Epoch 90/100\n",
      "2250/2250 [==============================] - 1s 603us/sample - loss: 0.3634 - acc: 0.8720 - val_loss: 0.7114 - val_acc: 0.6840\n",
      "Epoch 91/100\n",
      "2250/2250 [==============================] - 1s 613us/sample - loss: 0.3672 - acc: 0.8591 - val_loss: 0.7290 - val_acc: 0.6773\n",
      "Epoch 92/100\n",
      "2250/2250 [==============================] - 1s 590us/sample - loss: 0.3608 - acc: 0.8711 - val_loss: 0.7217 - val_acc: 0.6787\n",
      "Epoch 93/100\n",
      "2250/2250 [==============================] - 1s 604us/sample - loss: 0.3546 - acc: 0.8760 - val_loss: 0.7208 - val_acc: 0.6893\n",
      "Epoch 94/100\n",
      "2250/2250 [==============================] - 1s 607us/sample - loss: 0.3494 - acc: 0.8782 - val_loss: 0.7189 - val_acc: 0.6787\n",
      "Epoch 95/100\n",
      "2250/2250 [==============================] - 1s 608us/sample - loss: 0.3552 - acc: 0.8724 - val_loss: 0.7324 - val_acc: 0.6813\n",
      "Epoch 96/100\n",
      "2250/2250 [==============================] - 1s 611us/sample - loss: 0.3438 - acc: 0.8747 - val_loss: 0.7765 - val_acc: 0.6413\n",
      "Epoch 97/100\n",
      "2250/2250 [==============================] - 1s 599us/sample - loss: 0.3440 - acc: 0.8813 - val_loss: 0.7239 - val_acc: 0.6693\n",
      "Epoch 98/100\n",
      "2250/2250 [==============================] - 1s 553us/sample - loss: 0.3397 - acc: 0.8760 - val_loss: 0.7320 - val_acc: 0.6613\n",
      "Epoch 99/100\n",
      "2250/2250 [==============================] - 1s 613us/sample - loss: 0.3371 - acc: 0.8769 - val_loss: 0.7375 - val_acc: 0.6640\n",
      "Epoch 100/100\n",
      "2250/2250 [==============================] - 1s 597us/sample - loss: 0.3403 - acc: 0.8804 - val_loss: 0.7163 - val_acc: 0.6907\n"
     ]
    }
   ],
   "source": [
    "H = model.fit(trainX, trainY, validation_data = (testX, testY), batch_size = batch_size, epochs = 100, verbose = 1)"
   ]
  },
  {
   "cell_type": "code",
   "execution_count": 27,
   "metadata": {},
   "outputs": [
    {
     "name": "stdout",
     "output_type": "stream",
     "text": [
      "              precision    recall  f1-score   support\n",
      "\n",
      "         cat       0.64      0.68      0.66       262\n",
      "         dog       0.60      0.58      0.59       249\n",
      "       panda       0.85      0.82      0.84       239\n",
      "\n",
      "    accuracy                           0.69       750\n",
      "   macro avg       0.70      0.69      0.69       750\n",
      "weighted avg       0.69      0.69      0.69       750\n",
      "\n"
     ]
    }
   ],
   "source": [
    "#evaluating the network\n",
    "predictions = model.predict(testX, batch_size = 32)\n",
    "print(classification_report(testY.argmax(axis = 1), predictions.argmax(axis = 1), target_names = ['cat', 'dog', 'panda']))"
   ]
  },
  {
   "cell_type": "code",
   "execution_count": 32,
   "metadata": {},
   "outputs": [
    {
     "data": {
      "image/png": "[encoded data removed]",
      "text/plain": [
       "<Figure size 432x288 with 1 Axes>"
      ]
     },
     "metadata": {},
     "output_type": "display_data"
    }
   ],
   "source": [
    "#plotting the training loss and accuracy\n",
    "plt.style.use('ggplot')\n",
    "plt.figure()\n",
    "plt.plot(np.arange(0, 100), H.history['loss'], label = 'train_loss')\n",
    "plt.plot(np.arange(0, 100), H.history['val_loss'], label = 'val_loss')\n",
    "plt.plot(np.arange(0, 100), H.history['acc'], label = 'train_acc')\n",
    "plt.plot(np.arange(0, 100), H.history['val_acc'], label = 'val_acc')\n",
    "plt.title('Training Loss and Accuracy')\n",
    "plt.xlabel('Epochs#')\n",
    "plt.ylabel('Loss/Accuracy')\n",
    "plt.legend()\n",
    "plt.show()"
   ]
  },
  {
   "cell_type": "code",
   "execution_count": null,
   "metadata": {},
   "outputs": [],
   "source": []
  }
 ],
 "metadata": {
  "kernelspec": {
   "display_name": "Python 3",
   "language": "python",
   "name": "python3"
  },
  "language_info": {
   "codemirror_mode": {
    "name": "ipython",
    "version": 3
   },
   "file_extension": ".py",
   "mimetype": "text/x-python",
   "name": "python",
   "nbconvert_exporter": "python",
   "pygments_lexer": "ipython3",
   "version": "3.7.4"
  }
 },
 "nbformat": 4,
 "nbformat_minor": 2
}
