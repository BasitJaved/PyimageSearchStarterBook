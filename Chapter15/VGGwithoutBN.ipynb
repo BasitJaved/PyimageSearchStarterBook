{
 "cells": [
  {
   "cell_type": "code",
   "execution_count": 1,
   "metadata": {},
   "outputs": [],
   "source": [
    "from tensorflow.keras.models import Sequential\n",
    "from tensorflow.keras.layers import BatchNormalization\n",
    "from tensorflow.keras.layers import Conv2D\n",
    "from tensorflow.keras.layers import MaxPooling2D\n",
    "from tensorflow.keras.layers import Activation\n",
    "from tensorflow.keras.layers import Flatten\n",
    "from tensorflow.keras.layers import Dropout\n",
    "from tensorflow.keras.layers import Dense\n",
    "from tensorflow.keras import backend as K\n",
    "import matplotlib.pyplot as plt\n",
    "from sklearn.preprocessing import LabelBinarizer\n",
    "from sklearn.metrics import classification_report\n",
    "from tensorflow.keras.optimizers import SGD\n",
    "from tensorflow.keras.datasets import cifar10\n",
    "import numpy as np"
   ]
  },
  {
   "cell_type": "code",
   "execution_count": 2,
   "metadata": {},
   "outputs": [],
   "source": [
    "#importing, scaling reshaping and vectorizing the data set\n",
    "((trainX, trainY), (testX, testY)) = cifar10.load_data()\n",
    "\n",
    "#scaling data\n",
    "trainX = trainX.astype('float')/255.0\n",
    "testX = testX.astype('float')/255.0\n",
    "\n",
    "\n",
    "#vectorizing the labels\n",
    "lb = LabelBinarizer()\n",
    "trainY = lb.fit_transform(trainY)\n",
    "testY = lb.fit_transform(testY)"
   ]
  },
  {
   "cell_type": "code",
   "execution_count": 3,
   "metadata": {},
   "outputs": [],
   "source": [
    "#initializing the label names\n",
    "labelNames = ['airplane', 'automobile', 'bird', 'cat', 'deer', 'dog', \n",
    "             'frog', 'horse', 'ship', 'truck']"
   ]
  },
  {
   "cell_type": "code",
   "execution_count": 4,
   "metadata": {},
   "outputs": [],
   "source": [
    "#initializing the model\n",
    "chanDim= -1\n",
    "def model():\n",
    "    \n",
    "    model = Sequential()\n",
    "    #first layer of Conv2D\n",
    "    model.add(Conv2D(32, (3,3), padding = 'same', input_shape = (32, 32, 3)))\n",
    "    model.add(Activation('relu'))\n",
    "    model.add(Conv2D(32, (3,3), padding = 'same'))\n",
    "    model.add(Activation('relu'))\n",
    "    model.add(MaxPooling2D(pool_size = (2, 2)))\n",
    "    model.add(Dropout(0.25))\n",
    "    \n",
    "    #second layer of Conv2D\n",
    "    model.add(Conv2D(64, (3,3), padding = 'same', input_shape = (32, 32, 3)))\n",
    "    model.add(Activation('relu'))\n",
    "    model.add(Conv2D(64, (3,3), padding = 'same'))\n",
    "    model.add(Activation('relu'))\n",
    "    model.add(MaxPooling2D(pool_size = (2, 2)))\n",
    "    model.add(Dropout(0.25))\n",
    "    \n",
    "    #FC layet\n",
    "    model.add(Flatten())\n",
    "    model.add(Dense(512))\n",
    "    model.add(Activation('relu'))\n",
    "    model.add(Dropout(0.5))\n",
    "    model.add(Dense(10))\n",
    "    model.add(Activation('softmax'))\n",
    "    \n",
    "    return model"
   ]
  },
  {
   "cell_type": "code",
   "execution_count": 5,
   "metadata": {},
   "outputs": [
    {
     "name": "stdout",
     "output_type": "stream",
     "text": [
      "WARNING:tensorflow:From C:\\Users\\b84145862\\AppData\\Roaming\\Python\\Python37\\site-packages\\tensorflow_core\\python\\ops\\resource_variable_ops.py:1630: calling BaseResourceVariable.__init__ (from tensorflow.python.ops.resource_variable_ops) with constraint is deprecated and will be removed in a future version.\n",
      "Instructions for updating:\n",
      "If using Keras pass *_constraint arguments to layers.\n",
      "Model: \"sequential\"\n",
      "_________________________________________________________________\n",
      "Layer (type)                 Output Shape              Param #   \n",
      "=================================================================\n",
      "conv2d (Conv2D)              (None, 32, 32, 32)        896       \n",
      "_________________________________________________________________\n",
      "activation (Activation)      (None, 32, 32, 32)        0         \n",
      "_________________________________________________________________\n",
      "conv2d_1 (Conv2D)            (None, 32, 32, 32)        9248      \n",
      "_________________________________________________________________\n",
      "activation_1 (Activation)    (None, 32, 32, 32)        0         \n",
      "_________________________________________________________________\n",
      "max_pooling2d (MaxPooling2D) (None, 16, 16, 32)        0         \n",
      "_________________________________________________________________\n",
      "dropout (Dropout)            (None, 16, 16, 32)        0         \n",
      "_________________________________________________________________\n",
      "conv2d_2 (Conv2D)            (None, 16, 16, 64)        18496     \n",
      "_________________________________________________________________\n",
      "activation_2 (Activation)    (None, 16, 16, 64)        0         \n",
      "_________________________________________________________________\n",
      "conv2d_3 (Conv2D)            (None, 16, 16, 64)        36928     \n",
      "_________________________________________________________________\n",
      "activation_3 (Activation)    (None, 16, 16, 64)        0         \n",
      "_________________________________________________________________\n",
      "max_pooling2d_1 (MaxPooling2 (None, 8, 8, 64)          0         \n",
      "_________________________________________________________________\n",
      "dropout_1 (Dropout)          (None, 8, 8, 64)          0         \n",
      "_________________________________________________________________\n",
      "flatten (Flatten)            (None, 4096)              0         \n",
      "_________________________________________________________________\n",
      "dense (Dense)                (None, 512)               2097664   \n",
      "_________________________________________________________________\n",
      "activation_4 (Activation)    (None, 512)               0         \n",
      "_________________________________________________________________\n",
      "dropout_2 (Dropout)          (None, 512)               0         \n",
      "_________________________________________________________________\n",
      "dense_1 (Dense)              (None, 10)                5130      \n",
      "_________________________________________________________________\n",
      "activation_5 (Activation)    (None, 10)                0         \n",
      "=================================================================\n",
      "Total params: 2,168,362\n",
      "Trainable params: 2,168,362\n",
      "Non-trainable params: 0\n",
      "_________________________________________________________________\n"
     ]
    }
   ],
   "source": [
    "#initializing the optimizer and model\n",
    "opt = SGD(lr = 0.01, decay = 0.01/40, momentum = 0.9, nesterov = True)\n",
    "model = model()\n",
    "model.compile(loss = 'categorical_crossentropy', optimizer = opt, metrics = ['accuracy'])\n",
    "model.summary()"
   ]
  },
  {
   "cell_type": "code",
   "execution_count": 6,
   "metadata": {},
   "outputs": [
    {
     "name": "stdout",
     "output_type": "stream",
     "text": [
      "Train on 50000 samples, validate on 10000 samples\n",
      "Epoch 1/40\n",
      "50000/50000 [==============================] - 10s 203us/sample - loss: 1.8288 - acc: 0.3283 - val_loss: 1.4938 - val_acc: 0.4612\n",
      "Epoch 2/40\n",
      "50000/50000 [==============================] - 8s 156us/sample - loss: 1.3931 - acc: 0.4934 - val_loss: 1.2059 - val_acc: 0.5735\n",
      "Epoch 3/40\n",
      "50000/50000 [==============================] - 8s 155us/sample - loss: 1.1939 - acc: 0.5695 - val_loss: 1.1527 - val_acc: 0.5914\n",
      "Epoch 4/40\n",
      "50000/50000 [==============================] - 8s 156us/sample - loss: 1.0663 - acc: 0.6186 - val_loss: 0.9632 - val_acc: 0.6574\n",
      "Epoch 5/40\n",
      "50000/50000 [==============================] - 8s 157us/sample - loss: 0.9827 - acc: 0.6492 - val_loss: 0.8754 - val_acc: 0.6923\n",
      "Epoch 6/40\n",
      "50000/50000 [==============================] - 8s 165us/sample - loss: 0.9086 - acc: 0.6776 - val_loss: 0.8257 - val_acc: 0.7139\n",
      "Epoch 7/40\n",
      "50000/50000 [==============================] - 8s 164us/sample - loss: 0.8501 - acc: 0.7005 - val_loss: 0.7840 - val_acc: 0.7291\n",
      "Epoch 8/40\n",
      "50000/50000 [==============================] - 8s 163us/sample - loss: 0.7990 - acc: 0.7178 - val_loss: 0.7988 - val_acc: 0.7229\n",
      "Epoch 9/40\n",
      "50000/50000 [==============================] - 8s 157us/sample - loss: 0.7545 - acc: 0.7335 - val_loss: 0.7349 - val_acc: 0.7470\n",
      "Epoch 10/40\n",
      "50000/50000 [==============================] - 8s 158us/sample - loss: 0.7146 - acc: 0.7487 - val_loss: 0.7025 - val_acc: 0.7557\n",
      "Epoch 11/40\n",
      "50000/50000 [==============================] - 8s 156us/sample - loss: 0.6787 - acc: 0.7614 - val_loss: 0.7031 - val_acc: 0.7575\n",
      "Epoch 12/40\n",
      "50000/50000 [==============================] - 8s 157us/sample - loss: 0.6474 - acc: 0.7697 - val_loss: 0.6753 - val_acc: 0.7650\n",
      "Epoch 13/40\n",
      "50000/50000 [==============================] - 8s 157us/sample - loss: 0.6224 - acc: 0.7802 - val_loss: 0.6590 - val_acc: 0.7728\n",
      "Epoch 14/40\n",
      "50000/50000 [==============================] - 8s 158us/sample - loss: 0.6030 - acc: 0.7857 - val_loss: 0.6522 - val_acc: 0.7728\n",
      "Epoch 15/40\n",
      "50000/50000 [==============================] - 8s 156us/sample - loss: 0.5746 - acc: 0.7964 - val_loss: 0.6548 - val_acc: 0.7738\n",
      "Epoch 16/40\n",
      "50000/50000 [==============================] - 8s 156us/sample - loss: 0.5565 - acc: 0.8035 - val_loss: 0.6471 - val_acc: 0.7782\n",
      "Epoch 17/40\n",
      "50000/50000 [==============================] - 8s 156us/sample - loss: 0.5364 - acc: 0.8114 - val_loss: 0.6419 - val_acc: 0.7835\n",
      "Epoch 18/40\n",
      "50000/50000 [==============================] - 8s 156us/sample - loss: 0.5153 - acc: 0.8173 - val_loss: 0.6208 - val_acc: 0.7841\n",
      "Epoch 19/40\n",
      "50000/50000 [==============================] - 8s 158us/sample - loss: 0.4991 - acc: 0.8221 - val_loss: 0.6233 - val_acc: 0.7888\n",
      "Epoch 20/40\n",
      "50000/50000 [==============================] - 8s 158us/sample - loss: 0.4817 - acc: 0.8275 - val_loss: 0.6124 - val_acc: 0.7923\n",
      "Epoch 21/40\n",
      "50000/50000 [==============================] - 8s 159us/sample - loss: 0.4635 - acc: 0.8368 - val_loss: 0.6149 - val_acc: 0.7914\n",
      "Epoch 22/40\n",
      "50000/50000 [==============================] - 8s 157us/sample - loss: 0.4545 - acc: 0.8382 - val_loss: 0.6156 - val_acc: 0.7913\n",
      "Epoch 23/40\n",
      "50000/50000 [==============================] - 8s 158us/sample - loss: 0.4383 - acc: 0.8442 - val_loss: 0.6109 - val_acc: 0.7950\n",
      "Epoch 24/40\n",
      "50000/50000 [==============================] - 8s 156us/sample - loss: 0.4287 - acc: 0.8477 - val_loss: 0.6092 - val_acc: 0.7956\n",
      "Epoch 25/40\n",
      "50000/50000 [==============================] - 8s 158us/sample - loss: 0.4127 - acc: 0.8519 - val_loss: 0.6087 - val_acc: 0.7956\n",
      "Epoch 26/40\n",
      "50000/50000 [==============================] - 8s 155us/sample - loss: 0.4034 - acc: 0.8543 - val_loss: 0.6198 - val_acc: 0.7955\n",
      "Epoch 27/40\n",
      "50000/50000 [==============================] - 8s 157us/sample - loss: 0.3939 - acc: 0.8591 - val_loss: 0.6200 - val_acc: 0.7978\n",
      "Epoch 28/40\n",
      "50000/50000 [==============================] - 8s 159us/sample - loss: 0.3836 - acc: 0.8627 - val_loss: 0.6023 - val_acc: 0.8009\n",
      "Epoch 29/40\n",
      "50000/50000 [==============================] - 8s 158us/sample - loss: 0.3692 - acc: 0.8685 - val_loss: 0.6146 - val_acc: 0.7976\n",
      "Epoch 30/40\n",
      "50000/50000 [==============================] - 8s 158us/sample - loss: 0.3607 - acc: 0.8715 - val_loss: 0.6189 - val_acc: 0.7982\n",
      "Epoch 31/40\n",
      "50000/50000 [==============================] - 8s 161us/sample - loss: 0.3524 - acc: 0.8728 - val_loss: 0.6054 - val_acc: 0.7997\n",
      "Epoch 32/40\n",
      "50000/50000 [==============================] - 8s 160us/sample - loss: 0.3456 - acc: 0.8755 - val_loss: 0.6137 - val_acc: 0.8015\n",
      "Epoch 33/40\n",
      "50000/50000 [==============================] - 8s 164us/sample - loss: 0.3417 - acc: 0.8776 - val_loss: 0.6185 - val_acc: 0.7981\n",
      "Epoch 34/40\n",
      "50000/50000 [==============================] - 9s 174us/sample - loss: 0.3291 - acc: 0.8814 - val_loss: 0.6134 - val_acc: 0.8033\n",
      "Epoch 35/40\n",
      "50000/50000 [==============================] - 8s 166us/sample - loss: 0.3220 - acc: 0.8849 - val_loss: 0.6131 - val_acc: 0.8010\n",
      "Epoch 36/40\n",
      "50000/50000 [==============================] - 8s 169us/sample - loss: 0.3167 - acc: 0.8861 - val_loss: 0.6102 - val_acc: 0.8042\n",
      "Epoch 37/40\n",
      "50000/50000 [==============================] - 9s 183us/sample - loss: 0.3087 - acc: 0.8903 - val_loss: 0.6135 - val_acc: 0.8040\n",
      "Epoch 38/40\n",
      "50000/50000 [==============================] - 9s 173us/sample - loss: 0.2996 - acc: 0.8927 - val_loss: 0.6175 - val_acc: 0.8037\n",
      "Epoch 39/40\n",
      "50000/50000 [==============================] - 8s 165us/sample - loss: 0.2963 - acc: 0.8939 - val_loss: 0.6206 - val_acc: 0.8036\n",
      "Epoch 40/40\n",
      "50000/50000 [==============================] - 9s 175us/sample - loss: 0.2859 - acc: 0.8968 - val_loss: 0.6171 - val_acc: 0.8084\n"
     ]
    }
   ],
   "source": [
    "H = model.fit(trainX, trainY, validation_data = (testX, testY), batch_size = 64, epochs = 40, verbose = 1)"
   ]
  },
  {
   "cell_type": "code",
   "execution_count": 7,
   "metadata": {},
   "outputs": [
    {
     "name": "stdout",
     "output_type": "stream",
     "text": [
      "              precision    recall  f1-score   support\n",
      "\n",
      "    airplane       0.84      0.86      0.85      1000\n",
      "  automobile       0.90      0.91      0.91      1000\n",
      "        bird       0.79      0.68      0.73      1000\n",
      "         cat       0.64      0.64      0.64      1000\n",
      "        deer       0.78      0.76      0.77      1000\n",
      "         dog       0.71      0.72      0.71      1000\n",
      "        frog       0.81      0.90      0.85      1000\n",
      "       horse       0.86      0.85      0.85      1000\n",
      "        ship       0.88      0.90      0.89      1000\n",
      "       truck       0.87      0.88      0.87      1000\n",
      "\n",
      "    accuracy                           0.81     10000\n",
      "   macro avg       0.81      0.81      0.81     10000\n",
      "weighted avg       0.81      0.81      0.81     10000\n",
      "\n"
     ]
    }
   ],
   "source": [
    "#evaluating the network\n",
    "predictions = model.predict(testX, batch_size = 64)\n",
    "print(classification_report(testY.argmax(axis = 1), predictions.argmax(axis = 1),\n",
    "                           target_names = labelNames))"
   ]
  },
  {
   "cell_type": "code",
   "execution_count": 8,
   "metadata": {},
   "outputs": [
    {
     "data": {
      "image/png": "[encoded data removed]",
      "text/plain": [
       "<Figure size 432x288 with 1 Axes>"
      ]
     },
     "metadata": {},
     "output_type": "display_data"
    }
   ],
   "source": [
    "#plotting the training loss and accuracy\n",
    "plt.style.use('ggplot')\n",
    "plt.figure()\n",
    "plt.plot(np.arange(0, 40), H.history['loss'], label = 'train_loss')\n",
    "plt.plot(np.arange(0, 40), H.history['val_loss'], label = 'val_loss')\n",
    "plt.plot(np.arange(0, 40), H.history['acc'], label = 'train_acc')\n",
    "plt.plot(np.arange(0, 40), H.history['val_acc'], label = 'val_acc')\n",
    "plt.title('Training loss and accuracy on CIFAR-10')\n",
    "plt.xlabel('Epochs #')\n",
    "plt.ylabel('Locc/Accuracy')\n",
    "plt.legend()\n",
    "plt.savefig('output.png')"
   ]
  },
  {
   "cell_type": "code",
   "execution_count": null,
   "metadata": {},
   "outputs": [],
   "source": []
  }
 ],
 "metadata": {
  "kernelspec": {
   "display_name": "Python 3.7 (tensorflow)",
   "language": "python",
   "name": "tensorflow"
  },
  "language_info": {
   "codemirror_mode": {
    "name": "ipython",
    "version": 3
   },
   "file_extension": ".py",
   "mimetype": "text/x-python",
   "name": "python",
   "nbconvert_exporter": "python",
   "pygments_lexer": "ipython3",
   "version": "3.7.7"
  }
 },
 "nbformat": 4,
 "nbformat_minor": 2
}
