{
 "cells": [
  {
   "cell_type": "code",
   "execution_count": 1,
   "metadata": {},
   "outputs": [],
   "source": [
    "from tensorflow.keras.models import Sequential\n",
    "from tensorflow.keras.layers import BatchNormalization\n",
    "from tensorflow.keras.layers import Conv2D\n",
    "from tensorflow.keras.layers import MaxPooling2D\n",
    "from tensorflow.keras.layers import Activation\n",
    "from tensorflow.keras.layers import Flatten\n",
    "from tensorflow.keras.layers import Dropout\n",
    "from tensorflow.keras.layers import Dense\n",
    "from tensorflow.keras import backend as K\n",
    "import matplotlib.pyplot as plt\n",
    "from sklearn.preprocessing import LabelBinarizer\n",
    "from sklearn.metrics import classification_report\n",
    "from tensorflow.keras.optimizers import SGD\n",
    "from tensorflow.keras.datasets import cifar10\n",
    "import numpy as np"
   ]
  },
  {
   "cell_type": "code",
   "execution_count": 2,
   "metadata": {},
   "outputs": [],
   "source": [
    "#importing, scaling reshaping and vectorizing the data set\n",
    "((trainX, trainY), (testX, testY)) = cifar10.load_data()\n",
    "\n",
    "#scaling data\n",
    "trainX = trainX.astype('float')/255.0\n",
    "testX = testX.astype('float')/255.0\n",
    "\n",
    "\n",
    "#vectorizing the labels\n",
    "lb = LabelBinarizer()\n",
    "trainY = lb.fit_transform(trainY)\n",
    "testY = lb.fit_transform(testY)"
   ]
  },
  {
   "cell_type": "code",
   "execution_count": 3,
   "metadata": {},
   "outputs": [],
   "source": [
    "#initializing the label names\n",
    "labelNames = ['airplane', 'automobile', 'bird', 'cat', 'deer', 'dog', \n",
    "             'frog', 'horse', 'ship', 'truck']"
   ]
  },
  {
   "cell_type": "code",
   "execution_count": 4,
   "metadata": {},
   "outputs": [],
   "source": [
    "#initializing the model\n",
    "chanDim= -1\n",
    "def model():\n",
    "    \n",
    "    model = Sequential()\n",
    "    #first layer of Conv2D\n",
    "    model.add(Conv2D(32, (3,3), padding = 'same', input_shape = (32, 32, 3)))\n",
    "    model.add(Activation('relu'))\n",
    "    model.add(Conv2D(32, (3,3), padding = 'same'))\n",
    "    model.add(Activation('relu'))\n",
    "    model.add(BatchNormalization(axis = chanDim))\n",
    "    model.add(MaxPooling2D(pool_size = (2, 2)))\n",
    "    model.add(Dropout(0.25))\n",
    "    \n",
    "    #second layer of Conv2D\n",
    "    model.add(Conv2D(64, (3,3), padding = 'same', input_shape = (32, 32, 3)))\n",
    "    model.add(Activation('relu'))\n",
    "    model.add(Conv2D(64, (3,3), padding = 'same'))\n",
    "    model.add(Activation('relu'))\n",
    "    model.add(BatchNormalization(axis = chanDim))\n",
    "    model.add(MaxPooling2D(pool_size = (2, 2)))\n",
    "    model.add(Dropout(0.25))\n",
    "    \n",
    "    #FC layet\n",
    "    model.add(Flatten())\n",
    "    model.add(Dense(512))\n",
    "    model.add(Activation('relu'))\n",
    "    model.add(BatchNormalization(axis = chanDim))\n",
    "    model.add(Dropout(0.5))\n",
    "    model.add(Dense(10))\n",
    "    model.add(Activation('softmax'))\n",
    "    \n",
    "    return model"
   ]
  },
  {
   "cell_type": "code",
   "execution_count": 5,
   "metadata": {},
   "outputs": [
    {
     "name": "stdout",
     "output_type": "stream",
     "text": [
      "WARNING:tensorflow:From C:\\Users\\b84145862\\AppData\\Roaming\\Python\\Python37\\site-packages\\tensorflow_core\\python\\ops\\resource_variable_ops.py:1630: calling BaseResourceVariable.__init__ (from tensorflow.python.ops.resource_variable_ops) with constraint is deprecated and will be removed in a future version.\n",
      "Instructions for updating:\n",
      "If using Keras pass *_constraint arguments to layers.\n",
      "Model: \"sequential\"\n",
      "_________________________________________________________________\n",
      "Layer (type)                 Output Shape              Param #   \n",
      "=================================================================\n",
      "conv2d (Conv2D)              (None, 32, 32, 32)        896       \n",
      "_________________________________________________________________\n",
      "activation (Activation)      (None, 32, 32, 32)        0         \n",
      "_________________________________________________________________\n",
      "conv2d_1 (Conv2D)            (None, 32, 32, 32)        9248      \n",
      "_________________________________________________________________\n",
      "activation_1 (Activation)    (None, 32, 32, 32)        0         \n",
      "_________________________________________________________________\n",
      "batch_normalization (BatchNo (None, 32, 32, 32)        128       \n",
      "_________________________________________________________________\n",
      "max_pooling2d (MaxPooling2D) (None, 16, 16, 32)        0         \n",
      "_________________________________________________________________\n",
      "dropout (Dropout)            (None, 16, 16, 32)        0         \n",
      "_________________________________________________________________\n",
      "conv2d_2 (Conv2D)            (None, 16, 16, 64)        18496     \n",
      "_________________________________________________________________\n",
      "activation_2 (Activation)    (None, 16, 16, 64)        0         \n",
      "_________________________________________________________________\n",
      "conv2d_3 (Conv2D)            (None, 16, 16, 64)        36928     \n",
      "_________________________________________________________________\n",
      "activation_3 (Activation)    (None, 16, 16, 64)        0         \n",
      "_________________________________________________________________\n",
      "batch_normalization_1 (Batch (None, 16, 16, 64)        256       \n",
      "_________________________________________________________________\n",
      "max_pooling2d_1 (MaxPooling2 (None, 8, 8, 64)          0         \n",
      "_________________________________________________________________\n",
      "dropout_1 (Dropout)          (None, 8, 8, 64)          0         \n",
      "_________________________________________________________________\n",
      "flatten (Flatten)            (None, 4096)              0         \n",
      "_________________________________________________________________\n",
      "dense (Dense)                (None, 512)               2097664   \n",
      "_________________________________________________________________\n",
      "activation_4 (Activation)    (None, 512)               0         \n",
      "_________________________________________________________________\n",
      "batch_normalization_2 (Batch (None, 512)               2048      \n",
      "_________________________________________________________________\n",
      "dropout_2 (Dropout)          (None, 512)               0         \n",
      "_________________________________________________________________\n",
      "dense_1 (Dense)              (None, 10)                5130      \n",
      "_________________________________________________________________\n",
      "activation_5 (Activation)    (None, 10)                0         \n",
      "=================================================================\n",
      "Total params: 2,170,794\n",
      "Trainable params: 2,169,578\n",
      "Non-trainable params: 1,216\n",
      "_________________________________________________________________\n"
     ]
    }
   ],
   "source": [
    "#initializing the optimizer and model\n",
    "opt = SGD(lr = 0.01, decay = 0.01/40, momentum = 0.9, nesterov = True)\n",
    "model = model()\n",
    "model.compile(loss = 'categorical_crossentropy', optimizer = opt, metrics = ['accuracy'])\n",
    "model.summary()"
   ]
  },
  {
   "cell_type": "code",
   "execution_count": 6,
   "metadata": {},
   "outputs": [
    {
     "name": "stdout",
     "output_type": "stream",
     "text": [
      "Train on 50000 samples, validate on 10000 samples\n",
      "Epoch 1/40\n",
      "50000/50000 [==============================] - 221s 4ms/sample - loss: 1.8383 - acc: 0.3880 - val_loss: 1.5818 - val_acc: 0.4659\n",
      "Epoch 2/40\n",
      "50000/50000 [==============================] - 214s 4ms/sample - loss: 1.3176 - acc: 0.5405 - val_loss: 1.6379 - val_acc: 0.4804\n",
      "Epoch 3/40\n",
      "50000/50000 [==============================] - 207s 4ms/sample - loss: 1.1078 - acc: 0.6109 - val_loss: 1.0196 - val_acc: 0.6404\n",
      "Epoch 4/40\n",
      "50000/50000 [==============================] - 202s 4ms/sample - loss: 0.9850 - acc: 0.6546 - val_loss: 0.9382 - val_acc: 0.6704\n",
      "Epoch 5/40\n",
      "50000/50000 [==============================] - 205s 4ms/sample - loss: 0.9001 - acc: 0.6843 - val_loss: 0.8459 - val_acc: 0.7057\n",
      "Epoch 6/40\n",
      "50000/50000 [==============================] - 188s 4ms/sample - loss: 0.8380 - acc: 0.7057 - val_loss: 0.8755 - val_acc: 0.7028\n",
      "Epoch 7/40\n",
      "50000/50000 [==============================] - 129s 3ms/sample - loss: 0.7872 - acc: 0.7259 - val_loss: 0.7889 - val_acc: 0.7314\n",
      "Epoch 8/40\n",
      "50000/50000 [==============================] - 129s 3ms/sample - loss: 0.7450 - acc: 0.7376 - val_loss: 0.7473 - val_acc: 0.7434\n",
      "Epoch 9/40\n",
      "50000/50000 [==============================] - 127s 3ms/sample - loss: 0.7152 - acc: 0.7493 - val_loss: 0.6826 - val_acc: 0.7680\n",
      "Epoch 10/40\n",
      "50000/50000 [==============================] - 129s 3ms/sample - loss: 0.6776 - acc: 0.7612 - val_loss: 0.7656 - val_acc: 0.7403\n",
      "Epoch 11/40\n",
      "50000/50000 [==============================] - 133s 3ms/sample - loss: 0.6592 - acc: 0.7677 - val_loss: 0.6710 - val_acc: 0.7662\n",
      "Epoch 12/40\n",
      "50000/50000 [==============================] - 132s 3ms/sample - loss: 0.6273 - acc: 0.7787 - val_loss: 0.6639 - val_acc: 0.7706\n",
      "Epoch 13/40\n",
      "50000/50000 [==============================] - 136s 3ms/sample - loss: 0.6103 - acc: 0.7847 - val_loss: 0.6821 - val_acc: 0.7634\n",
      "Epoch 14/40\n",
      "50000/50000 [==============================] - 137s 3ms/sample - loss: 0.5865 - acc: 0.7935 - val_loss: 0.7667 - val_acc: 0.7455\n",
      "Epoch 15/40\n",
      "50000/50000 [==============================] - 129s 3ms/sample - loss: 0.5701 - acc: 0.7980 - val_loss: 0.6250 - val_acc: 0.7864\n",
      "Epoch 16/40\n",
      "50000/50000 [==============================] - 125s 3ms/sample - loss: 0.5498 - acc: 0.8064 - val_loss: 0.7493 - val_acc: 0.7533\n",
      "Epoch 17/40\n",
      "50000/50000 [==============================] - 122s 2ms/sample - loss: 0.5377 - acc: 0.8096 - val_loss: 0.6379 - val_acc: 0.7840\n",
      "Epoch 18/40\n",
      "50000/50000 [==============================] - 122s 2ms/sample - loss: 0.5237 - acc: 0.8135 - val_loss: 0.6114 - val_acc: 0.7884\n",
      "Epoch 19/40\n",
      "50000/50000 [==============================] - 122s 2ms/sample - loss: 0.5075 - acc: 0.8193 - val_loss: 0.6522 - val_acc: 0.7861\n",
      "Epoch 20/40\n",
      "50000/50000 [==============================] - 126s 3ms/sample - loss: 0.4967 - acc: 0.8214 - val_loss: 0.6314 - val_acc: 0.7855\n",
      "Epoch 21/40\n",
      "50000/50000 [==============================] - 126s 3ms/sample - loss: 0.4812 - acc: 0.8285 - val_loss: 0.6253 - val_acc: 0.7904\n",
      "Epoch 22/40\n",
      "50000/50000 [==============================] - 126s 3ms/sample - loss: 0.4724 - acc: 0.8320 - val_loss: 0.6193 - val_acc: 0.7867\n",
      "Epoch 23/40\n",
      "50000/50000 [==============================] - 127s 3ms/sample - loss: 0.4593 - acc: 0.8363 - val_loss: 0.6321 - val_acc: 0.7920\n",
      "Epoch 24/40\n",
      "50000/50000 [==============================] - 130s 3ms/sample - loss: 0.4501 - acc: 0.8387 - val_loss: 0.6148 - val_acc: 0.7926\n",
      "Epoch 25/40\n",
      "50000/50000 [==============================] - 127s 3ms/sample - loss: 0.4432 - acc: 0.8445 - val_loss: 0.6361 - val_acc: 0.7869\n",
      "Epoch 26/40\n",
      "50000/50000 [==============================] - 124s 2ms/sample - loss: 0.4321 - acc: 0.8460 - val_loss: 0.6007 - val_acc: 0.7970\n",
      "Epoch 27/40\n",
      "50000/50000 [==============================] - 124s 2ms/sample - loss: 0.4258 - acc: 0.8493 - val_loss: 0.6046 - val_acc: 0.7982\n",
      "Epoch 28/40\n",
      "50000/50000 [==============================] - 124s 2ms/sample - loss: 0.4153 - acc: 0.8521 - val_loss: 0.6137 - val_acc: 0.7982\n",
      "Epoch 29/40\n",
      "50000/50000 [==============================] - 126s 3ms/sample - loss: 0.4081 - acc: 0.8547 - val_loss: 0.5891 - val_acc: 0.8065\n",
      "Epoch 30/40\n",
      "50000/50000 [==============================] - 136s 3ms/sample - loss: 0.4005 - acc: 0.8552 - val_loss: 0.5870 - val_acc: 0.8036\n",
      "Epoch 31/40\n",
      "50000/50000 [==============================] - 135s 3ms/sample - loss: 0.3984 - acc: 0.8569 - val_loss: 0.5989 - val_acc: 0.7975\n",
      "Epoch 32/40\n",
      "50000/50000 [==============================] - 135s 3ms/sample - loss: 0.3854 - acc: 0.8630 - val_loss: 0.6093 - val_acc: 0.7995\n",
      "Epoch 33/40\n",
      "50000/50000 [==============================] - 132s 3ms/sample - loss: 0.3806 - acc: 0.8637 - val_loss: 0.5897 - val_acc: 0.8031\n",
      "Epoch 34/40\n",
      "50000/50000 [==============================] - 133s 3ms/sample - loss: 0.3716 - acc: 0.8667 - val_loss: 0.5973 - val_acc: 0.8011\n",
      "Epoch 35/40\n",
      "50000/50000 [==============================] - 131s 3ms/sample - loss: 0.3685 - acc: 0.8682 - val_loss: 0.5937 - val_acc: 0.8055\n",
      "Epoch 36/40\n",
      "50000/50000 [==============================] - 130s 3ms/sample - loss: 0.3644 - acc: 0.8705 - val_loss: 0.5979 - val_acc: 0.8038\n",
      "Epoch 37/40\n",
      "50000/50000 [==============================] - 132s 3ms/sample - loss: 0.3576 - acc: 0.8734 - val_loss: 0.5914 - val_acc: 0.8072\n",
      "Epoch 38/40\n",
      "50000/50000 [==============================] - 130s 3ms/sample - loss: 0.3505 - acc: 0.8743 - val_loss: 0.5911 - val_acc: 0.8063\n",
      "Epoch 39/40\n",
      "50000/50000 [==============================] - 125s 3ms/sample - loss: 0.3476 - acc: 0.8761 - val_loss: 0.5951 - val_acc: 0.8048\n",
      "Epoch 40/40\n",
      "50000/50000 [==============================] - 124s 2ms/sample - loss: 0.3363 - acc: 0.8802 - val_loss: 0.5899 - val_acc: 0.8071\n"
     ]
    }
   ],
   "source": [
    "H = model.fit(trainX, trainY, validation_data = (testX, testY), batch_size = 64, epochs = 40, verbose = 1)"
   ]
  },
  {
   "cell_type": "code",
   "execution_count": 9,
   "metadata": {},
   "outputs": [
    {
     "name": "stdout",
     "output_type": "stream",
     "text": [
      "              precision    recall  f1-score   support\n",
      "\n",
      "    airplane       0.83      0.80      0.82      1000\n",
      "  automobile       0.93      0.87      0.90      1000\n",
      "        bird       0.75      0.69      0.72      1000\n",
      "         cat       0.66      0.63      0.65      1000\n",
      "        deer       0.77      0.78      0.78      1000\n",
      "         dog       0.70      0.77      0.73      1000\n",
      "        frog       0.83      0.88      0.85      1000\n",
      "       horse       0.86      0.85      0.85      1000\n",
      "        ship       0.87      0.91      0.89      1000\n",
      "       truck       0.88      0.89      0.88      1000\n",
      "\n",
      "    accuracy                           0.81     10000\n",
      "   macro avg       0.81      0.81      0.81     10000\n",
      "weighted avg       0.81      0.81      0.81     10000\n",
      "\n"
     ]
    }
   ],
   "source": [
    "#evaluating the network\n",
    "predictions = model.predict(testX, batch_size = 64)\n",
    "print(classification_report(testY.argmax(axis = 1), predictions.argmax(axis = 1),\n",
    "                           target_names = labelNames))"
   ]
  },
  {
   "cell_type": "code",
   "execution_count": 10,
   "metadata": {},
   "outputs": [
    {
     "data": {
      "image/png": "[encoded data removed]",
      "text/plain": [
       "<Figure size 432x288 with 1 Axes>"
      ]
     },
     "metadata": {},
     "output_type": "display_data"
    }
   ],
   "source": [
    "#plotting the training loss and accuracy\n",
    "plt.style.use('ggplot')\n",
    "plt.figure()\n",
    "plt.plot(np.arange(0, 40), H.history['loss'], label = 'train_loss')\n",
    "plt.plot(np.arange(0, 40), H.history['val_loss'], label = 'val_loss')\n",
    "plt.plot(np.arange(0, 40), H.history['acc'], label = 'train_acc')\n",
    "plt.plot(np.arange(0, 40), H.history['val_acc'], label = 'val_acc')\n",
    "plt.title('Training loss and accuracy on CIFAR-10')\n",
    "plt.xlabel('Epochs #')\n",
    "plt.ylabel('Locc/Accuracy')\n",
    "plt.legend()\n",
    "plt.savefig('output.png')"
   ]
  },
  {
   "cell_type": "code",
   "execution_count": null,
   "metadata": {},
   "outputs": [],
   "source": []
  }
 ],
 "metadata": {
  "kernelspec": {
   "display_name": "Python 3",
   "language": "python",
   "name": "python3"
  },
  "language_info": {
   "codemirror_mode": {
    "name": "ipython",
    "version": 3
   },
   "file_extension": ".py",
   "mimetype": "text/x-python",
   "name": "python",
   "nbconvert_exporter": "python",
   "pygments_lexer": "ipython3",
   "version": "3.7.7"
  }
 },
 "nbformat": 4,
 "nbformat_minor": 2
}
