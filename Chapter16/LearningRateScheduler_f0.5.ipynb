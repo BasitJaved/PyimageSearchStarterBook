{
 "cells": [
  {
   "cell_type": "code",
   "execution_count": 1,
   "metadata": {},
   "outputs": [],
   "source": [
    "from tensorflow.keras.models import Sequential\n",
    "from tensorflow.keras.layers import BatchNormalization\n",
    "from tensorflow.keras.layers import Conv2D\n",
    "from tensorflow.keras.layers import MaxPooling2D\n",
    "from tensorflow.keras.layers import Activation\n",
    "from tensorflow.keras.layers import Flatten\n",
    "from tensorflow.keras.layers import Dropout\n",
    "from tensorflow.keras.layers import Dense\n",
    "from tensorflow.keras.callbacks import LearningRateScheduler\n",
    "from tensorflow.keras import backend as K\n",
    "import matplotlib.pyplot as plt\n",
    "from sklearn.preprocessing import LabelBinarizer\n",
    "from sklearn.metrics import classification_report\n",
    "from tensorflow.keras.optimizers import SGD\n",
    "from tensorflow.keras.datasets import cifar10\n",
    "import numpy as np"
   ]
  },
  {
   "cell_type": "code",
   "execution_count": 2,
   "metadata": {},
   "outputs": [],
   "source": [
    "#importing, scaling reshaping and vectorizing the data set\n",
    "((trainX, trainY), (testX, testY)) = cifar10.load_data()\n",
    "\n",
    "#scaling data\n",
    "trainX = trainX.astype('float')/255.0\n",
    "testX = testX.astype('float')/255.0\n",
    "\n",
    "\n",
    "#vectorizing the labels\n",
    "lb = LabelBinarizer()\n",
    "trainY = lb.fit_transform(trainY)\n",
    "testY = lb.fit_transform(testY)"
   ]
  },
  {
   "cell_type": "code",
   "execution_count": 3,
   "metadata": {},
   "outputs": [],
   "source": [
    "#initializing the label names\n",
    "labelNames = ['airplane', 'automobile', 'bird', 'cat', 'deer', 'dog', \n",
    "             'frog', 'horse', 'ship', 'truck']"
   ]
  },
  {
   "cell_type": "code",
   "execution_count": 4,
   "metadata": {},
   "outputs": [],
   "source": [
    "#initializing the model\n",
    "chanDim= -1\n",
    "def model():\n",
    "    \n",
    "    model = Sequential()\n",
    "    #first layer of Conv2D\n",
    "    model.add(Conv2D(32, (3,3), padding = 'same', input_shape = (32, 32, 3)))\n",
    "    model.add(Activation('relu'))\n",
    "    model.add(BatchNormalization(axis = chanDim))\n",
    "    model.add(Conv2D(32, (3,3), padding = 'same'))\n",
    "    model.add(Activation('relu'))\n",
    "    model.add(BatchNormalization(axis = chanDim))\n",
    "    model.add(MaxPooling2D(pool_size = (2, 2)))\n",
    "    model.add(Dropout(0.25))\n",
    "    \n",
    "    #second layer of Conv2D\n",
    "    model.add(Conv2D(64, (3,3), padding = 'same', input_shape = (32, 32, 3)))\n",
    "    model.add(Activation('relu'))\n",
    "    model.add(BatchNormalization(axis = chanDim))\n",
    "    model.add(Conv2D(64, (3,3), padding = 'same'))\n",
    "    model.add(Activation('relu'))\n",
    "    model.add(BatchNormalization(axis = chanDim))\n",
    "    model.add(MaxPooling2D(pool_size = (2, 2)))\n",
    "    model.add(Dropout(0.25))\n",
    "    \n",
    "    #FC layet\n",
    "    model.add(Flatten())\n",
    "    model.add(Dense(512))\n",
    "    model.add(Activation('relu'))\n",
    "    model.add(BatchNormalization())\n",
    "    model.add(Dropout(0.5))\n",
    "    model.add(Dense(10))\n",
    "    model.add(Activation('softmax'))\n",
    "    \n",
    "    return model"
   ]
  },
  {
   "cell_type": "code",
   "execution_count": 5,
   "metadata": {},
   "outputs": [],
   "source": [
    "def step_decay(epoch):\n",
    "    \n",
    "    #initialize the initial learning rate, drop factor, and\n",
    "    # number of epochs after which drop will occur\n",
    "    initAlpha = 0.01\n",
    "    factor = 0.5\n",
    "    dropEvery = 5\n",
    "    \n",
    "    #compute learning rate of current epoch\n",
    "    alpha = initAlpha * (factor ** np.floor ((1 + epoch)/dropEvery))\n",
    "    \n",
    "    return float(alpha)"
   ]
  },
  {
   "cell_type": "code",
   "execution_count": 6,
   "metadata": {},
   "outputs": [],
   "source": [
    "#define the list of call backs to be passed to model during training\n",
    "callbacks = [LearningRateScheduler(step_decay)]"
   ]
  },
  {
   "cell_type": "code",
   "execution_count": 7,
   "metadata": {},
   "outputs": [
    {
     "name": "stdout",
     "output_type": "stream",
     "text": [
      "WARNING:tensorflow:From C:\\Users\\b84145862\\AppData\\Roaming\\Python\\Python37\\site-packages\\tensorflow_core\\python\\ops\\resource_variable_ops.py:1630: calling BaseResourceVariable.__init__ (from tensorflow.python.ops.resource_variable_ops) with constraint is deprecated and will be removed in a future version.\n",
      "Instructions for updating:\n",
      "If using Keras pass *_constraint arguments to layers.\n",
      "Model: \"sequential\"\n",
      "_________________________________________________________________\n",
      "Layer (type)                 Output Shape              Param #   \n",
      "=================================================================\n",
      "conv2d (Conv2D)              (None, 32, 32, 32)        896       \n",
      "_________________________________________________________________\n",
      "activation (Activation)      (None, 32, 32, 32)        0         \n",
      "_________________________________________________________________\n",
      "batch_normalization (BatchNo (None, 32, 32, 32)        128       \n",
      "_________________________________________________________________\n",
      "conv2d_1 (Conv2D)            (None, 32, 32, 32)        9248      \n",
      "_________________________________________________________________\n",
      "activation_1 (Activation)    (None, 32, 32, 32)        0         \n",
      "_________________________________________________________________\n",
      "batch_normalization_1 (Batch (None, 32, 32, 32)        128       \n",
      "_________________________________________________________________\n",
      "max_pooling2d (MaxPooling2D) (None, 16, 16, 32)        0         \n",
      "_________________________________________________________________\n",
      "dropout (Dropout)            (None, 16, 16, 32)        0         \n",
      "_________________________________________________________________\n",
      "conv2d_2 (Conv2D)            (None, 16, 16, 64)        18496     \n",
      "_________________________________________________________________\n",
      "activation_2 (Activation)    (None, 16, 16, 64)        0         \n",
      "_________________________________________________________________\n",
      "batch_normalization_2 (Batch (None, 16, 16, 64)        256       \n",
      "_________________________________________________________________\n",
      "conv2d_3 (Conv2D)            (None, 16, 16, 64)        36928     \n",
      "_________________________________________________________________\n",
      "activation_3 (Activation)    (None, 16, 16, 64)        0         \n",
      "_________________________________________________________________\n",
      "batch_normalization_3 (Batch (None, 16, 16, 64)        256       \n",
      "_________________________________________________________________\n",
      "max_pooling2d_1 (MaxPooling2 (None, 8, 8, 64)          0         \n",
      "_________________________________________________________________\n",
      "dropout_1 (Dropout)          (None, 8, 8, 64)          0         \n",
      "_________________________________________________________________\n",
      "flatten (Flatten)            (None, 4096)              0         \n",
      "_________________________________________________________________\n",
      "dense (Dense)                (None, 512)               2097664   \n",
      "_________________________________________________________________\n",
      "activation_4 (Activation)    (None, 512)               0         \n",
      "_________________________________________________________________\n",
      "batch_normalization_4 (Batch (None, 512)               2048      \n",
      "_________________________________________________________________\n",
      "dropout_2 (Dropout)          (None, 512)               0         \n",
      "_________________________________________________________________\n",
      "dense_1 (Dense)              (None, 10)                5130      \n",
      "_________________________________________________________________\n",
      "activation_5 (Activation)    (None, 10)                0         \n",
      "=================================================================\n",
      "Total params: 2,171,178\n",
      "Trainable params: 2,169,770\n",
      "Non-trainable params: 1,408\n",
      "_________________________________________________________________\n"
     ]
    }
   ],
   "source": [
    "#initializing the optimizer and model\n",
    "opt = SGD(lr = 0.01, momentum = 0.9, nesterov = True)\n",
    "model = model()\n",
    "model.compile(loss = 'categorical_crossentropy', optimizer = opt, metrics = ['accuracy'])\n",
    "model.summary()"
   ]
  },
  {
   "cell_type": "code",
   "execution_count": 8,
   "metadata": {},
   "outputs": [
    {
     "name": "stdout",
     "output_type": "stream",
     "text": [
      "Train on 50000 samples, validate on 10000 samples\n",
      "Epoch 1/40\n",
      "50000/50000 [==============================] - 13s 264us/sample - loss: 1.6320 - acc: 0.4569 - val_loss: 1.1707 - val_acc: 0.5860\n",
      "Epoch 2/40\n",
      "50000/50000 [==============================] - 11s 216us/sample - loss: 1.1618 - acc: 0.5992 - val_loss: 1.0429 - val_acc: 0.6307\n",
      "Epoch 3/40\n",
      "50000/50000 [==============================] - 10s 209us/sample - loss: 0.9897 - acc: 0.6543 - val_loss: 0.8459 - val_acc: 0.7059\n",
      "Epoch 4/40\n",
      "50000/50000 [==============================] - 11s 212us/sample - loss: 0.8764 - acc: 0.6958 - val_loss: 0.7657 - val_acc: 0.7367\n",
      "Epoch 5/40\n",
      "50000/50000 [==============================] - 11s 213us/sample - loss: 0.7418 - acc: 0.7414 - val_loss: 0.6735 - val_acc: 0.7644\n",
      "Epoch 6/40\n",
      "50000/50000 [==============================] - 11s 212us/sample - loss: 0.6888 - acc: 0.7563 - val_loss: 0.6662 - val_acc: 0.7668\n",
      "Epoch 7/40\n",
      "50000/50000 [==============================] - 11s 215us/sample - loss: 0.6533 - acc: 0.7698 - val_loss: 0.6380 - val_acc: 0.7779\n",
      "Epoch 8/40\n",
      "50000/50000 [==============================] - 11s 216us/sample - loss: 0.6176 - acc: 0.7815 - val_loss: 0.6224 - val_acc: 0.7823\n",
      "Epoch 9/40\n",
      "50000/50000 [==============================] - 11s 214us/sample - loss: 0.5952 - acc: 0.7900 - val_loss: 0.6592 - val_acc: 0.7769\n",
      "Epoch 10/40\n",
      "50000/50000 [==============================] - 11s 213us/sample - loss: 0.5383 - acc: 0.8088 - val_loss: 0.5916 - val_acc: 0.7991\n",
      "Epoch 11/40\n",
      "50000/50000 [==============================] - 11s 215us/sample - loss: 0.5163 - acc: 0.8189 - val_loss: 0.5713 - val_acc: 0.8010\n",
      "Epoch 12/40\n",
      "50000/50000 [==============================] - 11s 217us/sample - loss: 0.4982 - acc: 0.8234 - val_loss: 0.5702 - val_acc: 0.8051\n",
      "Epoch 13/40\n",
      "50000/50000 [==============================] - 10s 209us/sample - loss: 0.4900 - acc: 0.8277 - val_loss: 0.5723 - val_acc: 0.8061\n",
      "Epoch 14/40\n",
      "50000/50000 [==============================] - 10s 206us/sample - loss: 0.4676 - acc: 0.8355 - val_loss: 0.5604 - val_acc: 0.8099\n",
      "Epoch 15/40\n",
      "50000/50000 [==============================] - 10s 208us/sample - loss: 0.4486 - acc: 0.8424 - val_loss: 0.5439 - val_acc: 0.8137\n",
      "Epoch 16/40\n",
      "50000/50000 [==============================] - 10s 209us/sample - loss: 0.4346 - acc: 0.8474 - val_loss: 0.5400 - val_acc: 0.8175\n",
      "Epoch 17/40\n",
      "50000/50000 [==============================] - 10s 206us/sample - loss: 0.4220 - acc: 0.8515 - val_loss: 0.5635 - val_acc: 0.8147\n",
      "Epoch 18/40\n",
      "50000/50000 [==============================] - 10s 206us/sample - loss: 0.4225 - acc: 0.8500 - val_loss: 0.5470 - val_acc: 0.8171\n",
      "Epoch 19/40\n",
      "50000/50000 [==============================] - 10s 208us/sample - loss: 0.4115 - acc: 0.8547 - val_loss: 0.5467 - val_acc: 0.8164\n",
      "Epoch 20/40\n",
      "50000/50000 [==============================] - 11s 220us/sample - loss: 0.3979 - acc: 0.8582 - val_loss: 0.5381 - val_acc: 0.8175\n",
      "Epoch 21/40\n",
      "50000/50000 [==============================] - 10s 209us/sample - loss: 0.3925 - acc: 0.8619 - val_loss: 0.5334 - val_acc: 0.8184\n",
      "Epoch 22/40\n",
      "50000/50000 [==============================] - 11s 212us/sample - loss: 0.3898 - acc: 0.8611 - val_loss: 0.5313 - val_acc: 0.8224\n",
      "Epoch 23/40\n",
      "50000/50000 [==============================] - 11s 212us/sample - loss: 0.3843 - acc: 0.8639 - val_loss: 0.5383 - val_acc: 0.8209\n",
      "Epoch 24/40\n",
      "50000/50000 [==============================] - 10s 207us/sample - loss: 0.3783 - acc: 0.8657 - val_loss: 0.5389 - val_acc: 0.8195\n",
      "Epoch 25/40\n",
      "50000/50000 [==============================] - 11s 214us/sample - loss: 0.3732 - acc: 0.8668 - val_loss: 0.5318 - val_acc: 0.8222\n",
      "Epoch 26/40\n",
      "50000/50000 [==============================] - 11s 218us/sample - loss: 0.3708 - acc: 0.8694 - val_loss: 0.5311 - val_acc: 0.8210\n",
      "Epoch 27/40\n",
      "50000/50000 [==============================] - 11s 220us/sample - loss: 0.3746 - acc: 0.8672 - val_loss: 0.5285 - val_acc: 0.8232\n",
      "Epoch 28/40\n",
      "50000/50000 [==============================] - 11s 213us/sample - loss: 0.3669 - acc: 0.8694 - val_loss: 0.5309 - val_acc: 0.8205\n",
      "Epoch 29/40\n",
      "50000/50000 [==============================] - 11s 213us/sample - loss: 0.3635 - acc: 0.8723 - val_loss: 0.5291 - val_acc: 0.8209\n",
      "Epoch 30/40\n",
      "50000/50000 [==============================] - 11s 215us/sample - loss: 0.3547 - acc: 0.8737 - val_loss: 0.5288 - val_acc: 0.8230\n",
      "Epoch 31/40\n",
      "50000/50000 [==============================] - 11s 216us/sample - loss: 0.3615 - acc: 0.8705 - val_loss: 0.5288 - val_acc: 0.8232\n",
      "Epoch 32/40\n",
      "50000/50000 [==============================] - 11s 217us/sample - loss: 0.3609 - acc: 0.8734 - val_loss: 0.5304 - val_acc: 0.8232\n",
      "Epoch 33/40\n",
      "50000/50000 [==============================] - 11s 220us/sample - loss: 0.3585 - acc: 0.8725 - val_loss: 0.5264 - val_acc: 0.8231\n",
      "Epoch 34/40\n",
      "50000/50000 [==============================] - 11s 213us/sample - loss: 0.3551 - acc: 0.8734 - val_loss: 0.5294 - val_acc: 0.8226\n",
      "Epoch 35/40\n",
      "50000/50000 [==============================] - 11s 216us/sample - loss: 0.3574 - acc: 0.8726 - val_loss: 0.5278 - val_acc: 0.8238\n",
      "Epoch 36/40\n",
      "50000/50000 [==============================] - 11s 216us/sample - loss: 0.3564 - acc: 0.8735 - val_loss: 0.5277 - val_acc: 0.8231\n",
      "Epoch 37/40\n",
      "50000/50000 [==============================] - 11s 216us/sample - loss: 0.3540 - acc: 0.8742 - val_loss: 0.5267 - val_acc: 0.8227\n",
      "Epoch 38/40\n",
      "50000/50000 [==============================] - 11s 228us/sample - loss: 0.3528 - acc: 0.8744 - val_loss: 0.5291 - val_acc: 0.8231\n",
      "Epoch 39/40\n",
      "50000/50000 [==============================] - 11s 216us/sample - loss: 0.3470 - acc: 0.8784 - val_loss: 0.5279 - val_acc: 0.8230\n",
      "Epoch 40/40\n",
      "50000/50000 [==============================] - 11s 215us/sample - loss: 0.3485 - acc: 0.8772 - val_loss: 0.5272 - val_acc: 0.8224\n"
     ]
    }
   ],
   "source": [
    "#training the network\n",
    "H = model.fit(trainX, trainY, validation_data = (testX, testY), \n",
    "              batch_size = 64, epochs = 40, callbacks = callbacks, \n",
    "              verbose = 1)"
   ]
  },
  {
   "cell_type": "code",
   "execution_count": 9,
   "metadata": {},
   "outputs": [
    {
     "name": "stdout",
     "output_type": "stream",
     "text": [
      "              precision    recall  f1-score   support\n",
      "\n",
      "    airplane       0.86      0.82      0.84      1000\n",
      "  automobile       0.93      0.90      0.91      1000\n",
      "        bird       0.78      0.72      0.75      1000\n",
      "         cat       0.67      0.64      0.66      1000\n",
      "        deer       0.76      0.82      0.79      1000\n",
      "         dog       0.73      0.75      0.74      1000\n",
      "        frog       0.84      0.90      0.87      1000\n",
      "       horse       0.87      0.87      0.87      1000\n",
      "        ship       0.91      0.90      0.90      1000\n",
      "       truck       0.88      0.89      0.89      1000\n",
      "\n",
      "    accuracy                           0.82     10000\n",
      "   macro avg       0.82      0.82      0.82     10000\n",
      "weighted avg       0.82      0.82      0.82     10000\n",
      "\n"
     ]
    }
   ],
   "source": [
    "#evaluating the network\n",
    "predictions = model.predict(testX, batch_size = 64)\n",
    "print(classification_report(testY.argmax(axis = 1), predictions.argmax(axis = 1),\n",
    "                           target_names = labelNames))"
   ]
  },
  {
   "cell_type": "code",
   "execution_count": 10,
   "metadata": {},
   "outputs": [
    {
     "data": {
      "image/png": "[encoded data removed]",
      "text/plain": [
       "<Figure size 432x288 with 1 Axes>"
      ]
     },
     "metadata": {},
     "output_type": "display_data"
    }
   ],
   "source": [
    "#plotting the training loss and accuracy\n",
    "plt.style.use('ggplot')\n",
    "plt.figure()\n",
    "plt.plot(np.arange(0, 40), H.history['loss'], label = 'train_loss')\n",
    "plt.plot(np.arange(0, 40), H.history['val_loss'], label = 'val_loss')\n",
    "plt.plot(np.arange(0, 40), H.history['acc'], label = 'train_acc')\n",
    "plt.plot(np.arange(0, 40), H.history['val_acc'], label = 'val_acc')\n",
    "plt.title('Training loss and accuracy on CIFAR-10')\n",
    "plt.xlabel('Epochs #')\n",
    "plt.ylabel('Locc/Accuracy')\n",
    "plt.legend()\n",
    "plt.savefig('output.png')\n",
    "plt.show()"
   ]
  },
  {
   "cell_type": "code",
   "execution_count": null,
   "metadata": {},
   "outputs": [],
   "source": []
  }
 ],
 "metadata": {
  "kernelspec": {
   "display_name": "Python 3.7 (tensorflow)",
   "language": "python",
   "name": "tensorflow"
  },
  "language_info": {
   "codemirror_mode": {
    "name": "ipython",
    "version": 3
   },
   "file_extension": ".py",
   "mimetype": "text/x-python",
   "name": "python",
   "nbconvert_exporter": "python",
   "pygments_lexer": "ipython3",
   "version": "3.7.7"
  }
 },
 "nbformat": 4,
 "nbformat_minor": 4
}
