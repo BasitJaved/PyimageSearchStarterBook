{
 "cells": [
  {
   "cell_type": "code",
   "execution_count": 1,
   "metadata": {},
   "outputs": [],
   "source": [
    "from tensorflow.keras.models import Sequential\n",
    "from tensorflow.keras.layers import BatchNormalization\n",
    "from tensorflow.keras.layers import Conv2D\n",
    "from tensorflow.keras.layers import MaxPooling2D\n",
    "from tensorflow.keras.layers import Activation\n",
    "from tensorflow.keras.layers import Flatten\n",
    "from tensorflow.keras.layers import Dropout\n",
    "from tensorflow.keras.layers import Dense\n",
    "from tensorflow.keras.callbacks import LearningRateScheduler\n",
    "from tensorflow.keras import backend as K\n",
    "import matplotlib.pyplot as plt\n",
    "from sklearn.preprocessing import LabelBinarizer\n",
    "from sklearn.metrics import classification_report\n",
    "from tensorflow.keras.optimizers import SGD\n",
    "from tensorflow.keras.datasets import cifar10\n",
    "import numpy as np"
   ]
  },
  {
   "cell_type": "code",
   "execution_count": 2,
   "metadata": {},
   "outputs": [],
   "source": [
    "#importing, scaling reshaping and vectorizing the data set\n",
    "((trainX, trainY), (testX, testY)) = cifar10.load_data()\n",
    "\n",
    "#scaling data\n",
    "trainX = trainX.astype('float')/255.0\n",
    "testX = testX.astype('float')/255.0\n",
    "\n",
    "\n",
    "#vectorizing the labels\n",
    "lb = LabelBinarizer()\n",
    "trainY = lb.fit_transform(trainY)\n",
    "testY = lb.fit_transform(testY)"
   ]
  },
  {
   "cell_type": "code",
   "execution_count": 3,
   "metadata": {},
   "outputs": [],
   "source": [
    "#initializing the label names\n",
    "labelNames = ['airplane', 'automobile', 'bird', 'cat', 'deer', 'dog', \n",
    "             'frog', 'horse', 'ship', 'truck']"
   ]
  },
  {
   "cell_type": "code",
   "execution_count": 4,
   "metadata": {},
   "outputs": [],
   "source": [
    "#initializing the model\n",
    "chanDim= -1\n",
    "def model():\n",
    "    \n",
    "    model = Sequential()\n",
    "    #first layer of Conv2D\n",
    "    model.add(Conv2D(32, (3,3), padding = 'same', input_shape = (32, 32, 3)))\n",
    "    model.add(Activation('relu'))\n",
    "    model.add(BatchNormalization(axis = chanDim))\n",
    "    model.add(Conv2D(32, (3,3), padding = 'same'))\n",
    "    model.add(Activation('relu'))\n",
    "    model.add(BatchNormalization(axis = chanDim))\n",
    "    model.add(MaxPooling2D(pool_size = (2, 2)))\n",
    "    model.add(Dropout(0.25))\n",
    "    \n",
    "    #second layer of Conv2D\n",
    "    model.add(Conv2D(64, (3,3), padding = 'same', input_shape = (32, 32, 3)))\n",
    "    model.add(Activation('relu'))\n",
    "    model.add(BatchNormalization(axis = chanDim))\n",
    "    model.add(Conv2D(64, (3,3), padding = 'same'))\n",
    "    model.add(Activation('relu'))\n",
    "    model.add(BatchNormalization(axis = chanDim))\n",
    "    model.add(MaxPooling2D(pool_size = (2, 2)))\n",
    "    model.add(Dropout(0.25))\n",
    "    \n",
    "    #FC layet\n",
    "    model.add(Flatten())\n",
    "    model.add(Dense(512))\n",
    "    model.add(Activation('relu'))\n",
    "    model.add(BatchNormalization())\n",
    "    model.add(Dropout(0.5))\n",
    "    model.add(Dense(10))\n",
    "    model.add(Activation('softmax'))\n",
    "    \n",
    "    return model"
   ]
  },
  {
   "cell_type": "code",
   "execution_count": 5,
   "metadata": {},
   "outputs": [],
   "source": [
    "def step_decay(epoch):\n",
    "    \n",
    "    #initialize the initial learning rate, drop factor, and\n",
    "    # number of epochs after which drop will occur\n",
    "    initAlpha = 0.01\n",
    "    factor = 0.25\n",
    "    dropEvery = 5\n",
    "    \n",
    "    #compute learning rate of current epoch\n",
    "    alpha = initAlpha * (factor ** np.floor ((1 + epoch)/dropEvery))\n",
    "    \n",
    "    return float(alpha)"
   ]
  },
  {
   "cell_type": "code",
   "execution_count": 6,
   "metadata": {},
   "outputs": [],
   "source": [
    "#define the list of call backs to be passed to model during training\n",
    "callbacks = [LearningRateScheduler(step_decay)]"
   ]
  },
  {
   "cell_type": "code",
   "execution_count": 7,
   "metadata": {},
   "outputs": [
    {
     "name": "stdout",
     "output_type": "stream",
     "text": [
      "WARNING:tensorflow:From C:\\Users\\b84145862\\AppData\\Roaming\\Python\\Python37\\site-packages\\tensorflow_core\\python\\ops\\resource_variable_ops.py:1630: calling BaseResourceVariable.__init__ (from tensorflow.python.ops.resource_variable_ops) with constraint is deprecated and will be removed in a future version.\n",
      "Instructions for updating:\n",
      "If using Keras pass *_constraint arguments to layers.\n",
      "Model: \"sequential\"\n",
      "_________________________________________________________________\n",
      "Layer (type)                 Output Shape              Param #   \n",
      "=================================================================\n",
      "conv2d (Conv2D)              (None, 32, 32, 32)        896       \n",
      "_________________________________________________________________\n",
      "activation (Activation)      (None, 32, 32, 32)        0         \n",
      "_________________________________________________________________\n",
      "batch_normalization (BatchNo (None, 32, 32, 32)        128       \n",
      "_________________________________________________________________\n",
      "conv2d_1 (Conv2D)            (None, 32, 32, 32)        9248      \n",
      "_________________________________________________________________\n",
      "activation_1 (Activation)    (None, 32, 32, 32)        0         \n",
      "_________________________________________________________________\n",
      "batch_normalization_1 (Batch (None, 32, 32, 32)        128       \n",
      "_________________________________________________________________\n",
      "max_pooling2d (MaxPooling2D) (None, 16, 16, 32)        0         \n",
      "_________________________________________________________________\n",
      "dropout (Dropout)            (None, 16, 16, 32)        0         \n",
      "_________________________________________________________________\n",
      "conv2d_2 (Conv2D)            (None, 16, 16, 64)        18496     \n",
      "_________________________________________________________________\n",
      "activation_2 (Activation)    (None, 16, 16, 64)        0         \n",
      "_________________________________________________________________\n",
      "batch_normalization_2 (Batch (None, 16, 16, 64)        256       \n",
      "_________________________________________________________________\n",
      "conv2d_3 (Conv2D)            (None, 16, 16, 64)        36928     \n",
      "_________________________________________________________________\n",
      "activation_3 (Activation)    (None, 16, 16, 64)        0         \n",
      "_________________________________________________________________\n",
      "batch_normalization_3 (Batch (None, 16, 16, 64)        256       \n",
      "_________________________________________________________________\n",
      "max_pooling2d_1 (MaxPooling2 (None, 8, 8, 64)          0         \n",
      "_________________________________________________________________\n",
      "dropout_1 (Dropout)          (None, 8, 8, 64)          0         \n",
      "_________________________________________________________________\n",
      "flatten (Flatten)            (None, 4096)              0         \n",
      "_________________________________________________________________\n",
      "dense (Dense)                (None, 512)               2097664   \n",
      "_________________________________________________________________\n",
      "activation_4 (Activation)    (None, 512)               0         \n",
      "_________________________________________________________________\n",
      "batch_normalization_4 (Batch (None, 512)               2048      \n",
      "_________________________________________________________________\n",
      "dropout_2 (Dropout)          (None, 512)               0         \n",
      "_________________________________________________________________\n",
      "dense_1 (Dense)              (None, 10)                5130      \n",
      "_________________________________________________________________\n",
      "activation_5 (Activation)    (None, 10)                0         \n",
      "=================================================================\n",
      "Total params: 2,171,178\n",
      "Trainable params: 2,169,770\n",
      "Non-trainable params: 1,408\n",
      "_________________________________________________________________\n"
     ]
    }
   ],
   "source": [
    "#initializing the optimizer and model\n",
    "opt = SGD(lr = 0.01, momentum = 0.9, nesterov = True)\n",
    "model = model()\n",
    "model.compile(loss = 'categorical_crossentropy', optimizer = opt, metrics = ['accuracy'])\n",
    "model.summary()"
   ]
  },
  {
   "cell_type": "code",
   "execution_count": 8,
   "metadata": {},
   "outputs": [
    {
     "name": "stdout",
     "output_type": "stream",
     "text": [
      "Train on 50000 samples, validate on 10000 samples\n",
      "Epoch 1/40\n",
      "50000/50000 [==============================] - 13s 257us/sample - loss: 1.6611 - acc: 0.4476 - val_loss: 1.2044 - val_acc: 0.5682\n",
      "Epoch 2/40\n",
      "50000/50000 [==============================] - 11s 221us/sample - loss: 1.1781 - acc: 0.5927 - val_loss: 0.8998 - val_acc: 0.6849\n",
      "Epoch 3/40\n",
      "50000/50000 [==============================] - 11s 219us/sample - loss: 0.9934 - acc: 0.6544 - val_loss: 0.8457 - val_acc: 0.7004\n",
      "Epoch 4/40\n",
      "50000/50000 [==============================] - 11s 215us/sample - loss: 0.8843 - acc: 0.6940 - val_loss: 0.8016 - val_acc: 0.7231 - ETA: 1s - loss: 0.8850 - acc: - ETA: 0s - loss: 0.8861 - acc: 0.693 - ETA: 0s - loss: 0.886\n",
      "Epoch 5/40\n",
      "50000/50000 [==============================] - 11s 227us/sample - loss: 0.7410 - acc: 0.7386 - val_loss: 0.6985 - val_acc: 0.7576\n",
      "Epoch 6/40\n",
      "50000/50000 [==============================] - 12s 234us/sample - loss: 0.6869 - acc: 0.7594 - val_loss: 0.6863 - val_acc: 0.7612\n",
      "Epoch 7/40\n",
      "50000/50000 [==============================] - 11s 217us/sample - loss: 0.6583 - acc: 0.7660 - val_loss: 0.6490 - val_acc: 0.7725\n",
      "Epoch 8/40\n",
      "50000/50000 [==============================] - 10s 209us/sample - loss: 0.6428 - acc: 0.7741 - val_loss: 0.6347 - val_acc: 0.7747\n",
      "Epoch 9/40\n",
      "50000/50000 [==============================] - 10s 209us/sample - loss: 0.6230 - acc: 0.7810 - val_loss: 0.6499 - val_acc: 0.7769\n",
      "Epoch 10/40\n",
      "50000/50000 [==============================] - 10s 208us/sample - loss: 0.5871 - acc: 0.7925 - val_loss: 0.6104 - val_acc: 0.7885\n",
      "Epoch 11/40\n",
      "50000/50000 [==============================] - 10s 208us/sample - loss: 0.5768 - acc: 0.7951 - val_loss: 0.6123 - val_acc: 0.7880\n",
      "Epoch 12/40\n",
      "50000/50000 [==============================] - 10s 207us/sample - loss: 0.5715 - acc: 0.7964 - val_loss: 0.6065 - val_acc: 0.7915\n",
      "Epoch 13/40\n",
      "50000/50000 [==============================] - 11s 210us/sample - loss: 0.5685 - acc: 0.7990 - val_loss: 0.6063 - val_acc: 0.7909\n",
      "Epoch 14/40\n",
      "50000/50000 [==============================] - 11s 220us/sample - loss: 0.5622 - acc: 0.8001 - val_loss: 0.5937 - val_acc: 0.7947\n",
      "Epoch 15/40\n",
      "50000/50000 [==============================] - 10s 208us/sample - loss: 0.5515 - acc: 0.8058 - val_loss: 0.5978 - val_acc: 0.7945\n",
      "Epoch 16/40\n",
      "50000/50000 [==============================] - 11s 218us/sample - loss: 0.5510 - acc: 0.8046 - val_loss: 0.5916 - val_acc: 0.7952\n",
      "Epoch 17/40\n",
      "50000/50000 [==============================] - 11s 215us/sample - loss: 0.5480 - acc: 0.8064 - val_loss: 0.5924 - val_acc: 0.7941\n",
      "Epoch 18/40\n",
      "50000/50000 [==============================] - 11s 220us/sample - loss: 0.5479 - acc: 0.8053 - val_loss: 0.5909 - val_acc: 0.7948\n",
      "Epoch 19/40\n",
      "50000/50000 [==============================] - 11s 221us/sample - loss: 0.5439 - acc: 0.8096 - val_loss: 0.5906 - val_acc: 0.7963\n",
      "Epoch 20/40\n",
      "50000/50000 [==============================] - 11s 221us/sample - loss: 0.5434 - acc: 0.8097 - val_loss: 0.5913 - val_acc: 0.7952\n",
      "Epoch 21/40\n",
      "50000/50000 [==============================] - 11s 217us/sample - loss: 0.5464 - acc: 0.8066 - val_loss: 0.5898 - val_acc: 0.7967\n",
      "Epoch 22/40\n",
      "50000/50000 [==============================] - 11s 216us/sample - loss: 0.5408 - acc: 0.8077 - val_loss: 0.5912 - val_acc: 0.7948\n",
      "Epoch 23/40\n",
      "50000/50000 [==============================] - 11s 211us/sample - loss: 0.5407 - acc: 0.8083 - val_loss: 0.5891 - val_acc: 0.7964\n",
      "Epoch 24/40\n",
      "50000/50000 [==============================] - 11s 215us/sample - loss: 0.5391 - acc: 0.8095 - val_loss: 0.5896 - val_acc: 0.7972\n",
      "Epoch 25/40\n",
      "50000/50000 [==============================] - 11s 222us/sample - loss: 0.5431 - acc: 0.8076 - val_loss: 0.5891 - val_acc: 0.7966\n",
      "Epoch 26/40\n",
      "50000/50000 [==============================] - 11s 222us/sample - loss: 0.5393 - acc: 0.8097 - val_loss: 0.5896 - val_acc: 0.7959\n",
      "Epoch 27/40\n",
      "50000/50000 [==============================] - 11s 220us/sample - loss: 0.5431 - acc: 0.8086 - val_loss: 0.5899 - val_acc: 0.7958\n",
      "Epoch 28/40\n",
      "50000/50000 [==============================] - 11s 224us/sample - loss: 0.5446 - acc: 0.8083 - val_loss: 0.5901 - val_acc: 0.7966\n",
      "Epoch 29/40\n",
      "50000/50000 [==============================] - 11s 224us/sample - loss: 0.5395 - acc: 0.8088 - val_loss: 0.5905 - val_acc: 0.7958\n",
      "Epoch 30/40\n",
      "50000/50000 [==============================] - 11s 217us/sample - loss: 0.5382 - acc: 0.8091 - val_loss: 0.5906 - val_acc: 0.7962\n",
      "Epoch 31/40\n",
      "50000/50000 [==============================] - 11s 219us/sample - loss: 0.5397 - acc: 0.8080 - val_loss: 0.5899 - val_acc: 0.7962\n",
      "Epoch 32/40\n",
      "50000/50000 [==============================] - 11s 224us/sample - loss: 0.5386 - acc: 0.8089 - val_loss: 0.5902 - val_acc: 0.7959\n",
      "Epoch 33/40\n",
      "50000/50000 [==============================] - 11s 213us/sample - loss: 0.5425 - acc: 0.8079 - val_loss: 0.5896 - val_acc: 0.7962\n",
      "Epoch 34/40\n",
      "50000/50000 [==============================] - 11s 216us/sample - loss: 0.5399 - acc: 0.8090 - val_loss: 0.5894 - val_acc: 0.7957\n",
      "Epoch 35/40\n",
      "50000/50000 [==============================] - 11s 217us/sample - loss: 0.5418 - acc: 0.8075 - val_loss: 0.5896 - val_acc: 0.7958\n",
      "Epoch 36/40\n",
      "50000/50000 [==============================] - 11s 216us/sample - loss: 0.5439 - acc: 0.8067 - val_loss: 0.5896 - val_acc: 0.7960\n",
      "Epoch 37/40\n",
      "50000/50000 [==============================] - 11s 213us/sample - loss: 0.5393 - acc: 0.8075 - val_loss: 0.5911 - val_acc: 0.795393 - acc: 0.807\n",
      "Epoch 38/40\n",
      "50000/50000 [==============================] - 11s 224us/sample - loss: 0.5406 - acc: 0.8094 - val_loss: 0.5892 - val_acc: 0.7960\n",
      "Epoch 39/40\n",
      "50000/50000 [==============================] - 11s 222us/sample - loss: 0.5397 - acc: 0.8097 - val_loss: 0.5910 - val_acc: 0.7958\n",
      "Epoch 40/40\n",
      "50000/50000 [==============================] - 11s 214us/sample - loss: 0.5388 - acc: 0.8086 - val_loss: 0.5898 - val_acc: 0.7956\n"
     ]
    }
   ],
   "source": [
    "#training the network\n",
    "H = model.fit(trainX, trainY, validation_data = (testX, testY), \n",
    "              batch_size = 64, epochs = 40, callbacks = callbacks, \n",
    "              verbose = 1)"
   ]
  },
  {
   "cell_type": "code",
   "execution_count": 9,
   "metadata": {},
   "outputs": [
    {
     "name": "stdout",
     "output_type": "stream",
     "text": [
      "              precision    recall  f1-score   support\n",
      "\n",
      "    airplane       0.84      0.80      0.82      1000\n",
      "  automobile       0.91      0.88      0.89      1000\n",
      "        bird       0.74      0.68      0.71      1000\n",
      "         cat       0.62      0.60      0.61      1000\n",
      "        deer       0.75      0.80      0.77      1000\n",
      "         dog       0.70      0.71      0.70      1000\n",
      "        frog       0.79      0.89      0.84      1000\n",
      "       horse       0.87      0.83      0.85      1000\n",
      "        ship       0.90      0.89      0.89      1000\n",
      "       truck       0.85      0.88      0.86      1000\n",
      "\n",
      "    accuracy                           0.80     10000\n",
      "   macro avg       0.80      0.80      0.80     10000\n",
      "weighted avg       0.80      0.80      0.80     10000\n",
      "\n"
     ]
    }
   ],
   "source": [
    "#evaluating the network\n",
    "predictions = model.predict(testX, batch_size = 64)\n",
    "print(classification_report(testY.argmax(axis = 1), predictions.argmax(axis = 1),\n",
    "                           target_names = labelNames))"
   ]
  },
  {
   "cell_type": "code",
   "execution_count": 10,
   "metadata": {},
   "outputs": [
    {
     "data": {
      "image/png": "[encoded data removed]",
      "text/plain": [
       "<Figure size 432x288 with 1 Axes>"
      ]
     },
     "metadata": {},
     "output_type": "display_data"
    }
   ],
   "source": [
    "#plotting the training loss and accuracy\n",
    "plt.style.use('ggplot')\n",
    "plt.figure()\n",
    "plt.plot(np.arange(0, 40), H.history['loss'], label = 'train_loss')\n",
    "plt.plot(np.arange(0, 40), H.history['val_loss'], label = 'val_loss')\n",
    "plt.plot(np.arange(0, 40), H.history['acc'], label = 'train_acc')\n",
    "plt.plot(np.arange(0, 40), H.history['val_acc'], label = 'val_acc')\n",
    "plt.title('Training loss and accuracy on CIFAR-10')\n",
    "plt.xlabel('Epochs #')\n",
    "plt.ylabel('Locc/Accuracy')\n",
    "plt.legend()\n",
    "plt.savefig('output.png')\n",
    "plt.show()"
   ]
  },
  {
   "cell_type": "code",
   "execution_count": null,
   "metadata": {},
   "outputs": [],
   "source": []
  }
 ],
 "metadata": {
  "kernelspec": {
   "display_name": "Python 3.7 (tensorflow)",
   "language": "python",
   "name": "tensorflow"
  },
  "language_info": {
   "codemirror_mode": {
    "name": "ipython",
    "version": 3
   },
   "file_extension": ".py",
   "mimetype": "text/x-python",
   "name": "python",
   "nbconvert_exporter": "python",
   "pygments_lexer": "ipython3",
   "version": "3.7.7"
  }
 },
 "nbformat": 4,
 "nbformat_minor": 4
}
