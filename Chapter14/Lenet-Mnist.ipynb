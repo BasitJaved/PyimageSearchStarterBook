{
 "cells": [
  {
   "cell_type": "code",
   "execution_count": 1,
   "metadata": {},
   "outputs": [],
   "source": [
    "from tensorflow.keras.models import Sequential\n",
    "from tensorflow.keras.layers import Conv2D\n",
    "from tensorflow.keras.layers import MaxPooling2D\n",
    "from tensorflow.keras.layers import Activation\n",
    "from tensorflow.keras.layers import Flatten\n",
    "from tensorflow.keras.layers import Dense\n",
    "from tensorflow.keras.optimizers import SGD\n",
    "from tensorflow.keras.datasets import mnist\n",
    "from tensorflow.keras import backend as K\n",
    "from sklearn.preprocessing import LabelBinarizer\n",
    "from sklearn.metrics import classification_report\n",
    "import matplotlib.pyplot as plt\n",
    "import numpy as np"
   ]
  },
  {
   "cell_type": "code",
   "execution_count": 2,
   "metadata": {},
   "outputs": [],
   "source": [
    "#Importing the data and splitting it into training and testing tes\n",
    "((trainX, trainY), (testX, testY)) = mnist.load_data()"
   ]
  },
  {
   "cell_type": "code",
   "execution_count": 3,
   "metadata": {},
   "outputs": [],
   "source": [
    "#scaling data to the range [0, 1]\n",
    "trainX = trainX.astype('float')/255.0\n",
    "testX = testX.astype('float')/255.0\n",
    "trainX = trainX.reshape(trainX.shape[0], 28, 28, 1)\n",
    "testX = testX.reshape(testX.shape[0], 28, 28, 1)"
   ]
  },
  {
   "cell_type": "code",
   "execution_count": 4,
   "metadata": {},
   "outputs": [
    {
     "data": {
      "text/plain": [
       "(60000, 28, 28, 1)"
      ]
     },
     "execution_count": 4,
     "metadata": {},
     "output_type": "execute_result"
    }
   ],
   "source": [
    "trainX.shape"
   ]
  },
  {
   "cell_type": "code",
   "execution_count": 5,
   "metadata": {},
   "outputs": [],
   "source": [
    "#converting the labels from integers to vectors\n",
    "le = LabelBinarizer()\n",
    "trainY = le.fit_transform(trainY)\n",
    "testY = le.fit_transform(testY)"
   ]
  },
  {
   "cell_type": "code",
   "execution_count": 7,
   "metadata": {},
   "outputs": [],
   "source": [
    "classes = 10\n",
    "inputShape = (28, 28, 1)"
   ]
  },
  {
   "cell_type": "code",
   "execution_count": 8,
   "metadata": {},
   "outputs": [],
   "source": [
    "def model():\n",
    "    model = Sequential()\n",
    "    model.add(Conv2D(20, (5,5), padding = 'same', input_shape = inputShape))\n",
    "    model.add(Activation('relu'))\n",
    "    model.add(MaxPooling2D(pool_size=(2, 2), strides = (2, 2)))\n",
    "    model.add(Conv2D(50, (5, 5), padding = 'same'))\n",
    "    model.add(Activation('relu'))\n",
    "    model.add(MaxPooling2D(pool_size=(2, 2), strides = (2, 2)))\n",
    "    model.add(Flatten())\n",
    "    model.add(Dense(500))\n",
    "    model.add(Activation('relu'))\n",
    "    model.add(Dense(classes))\n",
    "    model.add(Activation('softmax'))\n",
    "    return model"
   ]
  },
  {
   "cell_type": "code",
   "execution_count": 9,
   "metadata": {},
   "outputs": [],
   "source": [
    "#initializing the model\n",
    "batch_size = 128\n",
    "epochs = 20\n",
    "opt = SGD(lr = 0.01)"
   ]
  },
  {
   "cell_type": "code",
   "execution_count": 10,
   "metadata": {},
   "outputs": [
    {
     "name": "stdout",
     "output_type": "stream",
     "text": [
      "WARNING:tensorflow:From C:\\Users\\b84145862\\AppData\\Roaming\\Python\\Python37\\site-packages\\tensorflow_core\\python\\ops\\resource_variable_ops.py:1630: calling BaseResourceVariable.__init__ (from tensorflow.python.ops.resource_variable_ops) with constraint is deprecated and will be removed in a future version.\n",
      "Instructions for updating:\n",
      "If using Keras pass *_constraint arguments to layers.\n",
      "Model: \"sequential\"\n",
      "_________________________________________________________________\n",
      "Layer (type)                 Output Shape              Param #   \n",
      "=================================================================\n",
      "conv2d (Conv2D)              (None, 28, 28, 20)        520       \n",
      "_________________________________________________________________\n",
      "activation (Activation)      (None, 28, 28, 20)        0         \n",
      "_________________________________________________________________\n",
      "max_pooling2d (MaxPooling2D) (None, 14, 14, 20)        0         \n",
      "_________________________________________________________________\n",
      "conv2d_1 (Conv2D)            (None, 14, 14, 50)        25050     \n",
      "_________________________________________________________________\n",
      "activation_1 (Activation)    (None, 14, 14, 50)        0         \n",
      "_________________________________________________________________\n",
      "max_pooling2d_1 (MaxPooling2 (None, 7, 7, 50)          0         \n",
      "_________________________________________________________________\n",
      "flatten (Flatten)            (None, 2450)              0         \n",
      "_________________________________________________________________\n",
      "dense (Dense)                (None, 500)               1225500   \n",
      "_________________________________________________________________\n",
      "activation_2 (Activation)    (None, 500)               0         \n",
      "_________________________________________________________________\n",
      "dense_1 (Dense)              (None, 10)                5010      \n",
      "_________________________________________________________________\n",
      "activation_3 (Activation)    (None, 10)                0         \n",
      "=================================================================\n",
      "Total params: 1,256,080\n",
      "Trainable params: 1,256,080\n",
      "Non-trainable params: 0\n",
      "_________________________________________________________________\n"
     ]
    }
   ],
   "source": [
    "model = model()\n",
    "model.compile(loss = 'categorical_crossentropy', optimizer = opt, metrics = ['accuracy'])\n",
    "model.summary()"
   ]
  },
  {
   "cell_type": "code",
   "execution_count": 11,
   "metadata": {},
   "outputs": [
    {
     "name": "stdout",
     "output_type": "stream",
     "text": [
      "Train on 60000 samples, validate on 10000 samples\n",
      "Epoch 1/20\n",
      "60000/60000 [==============================] - 31s 514us/sample - loss: 0.9988 - acc: 0.7401 - val_loss: 0.2943 - val_acc: 0.9182\n",
      "Epoch 2/20\n",
      "60000/60000 [==============================] - 31s 517us/sample - loss: 0.2591 - acc: 0.9223 - val_loss: 0.1972 - val_acc: 0.9402\n",
      "Epoch 3/20\n",
      "60000/60000 [==============================] - 31s 524us/sample - loss: 0.1826 - acc: 0.9459 - val_loss: 0.1497 - val_acc: 0.9538\n",
      "Epoch 4/20\n",
      "60000/60000 [==============================] - 31s 513us/sample - loss: 0.1399 - acc: 0.9584 - val_loss: 0.1163 - val_acc: 0.9657\n",
      "Epoch 5/20\n",
      "60000/60000 [==============================] - 31s 520us/sample - loss: 0.1141 - acc: 0.9665 - val_loss: 0.0955 - val_acc: 0.9711\n",
      "Epoch 6/20\n",
      "60000/60000 [==============================] - 31s 513us/sample - loss: 0.0971 - acc: 0.9714 - val_loss: 0.0811 - val_acc: 0.9753\n",
      "Epoch 7/20\n",
      "60000/60000 [==============================] - 31s 512us/sample - loss: 0.0852 - acc: 0.9746 - val_loss: 0.0690 - val_acc: 0.9789\n",
      "Epoch 8/20\n",
      "60000/60000 [==============================] - 31s 518us/sample - loss: 0.0767 - acc: 0.9773 - val_loss: 0.0658 - val_acc: 0.9797\n",
      "Epoch 9/20\n",
      "60000/60000 [==============================] - 31s 521us/sample - loss: 0.0702 - acc: 0.9794 - val_loss: 0.0676 - val_acc: 0.9790\n",
      "Epoch 10/20\n",
      "60000/60000 [==============================] - 31s 516us/sample - loss: 0.0653 - acc: 0.9802 - val_loss: 0.0559 - val_acc: 0.9812\n",
      "Epoch 11/20\n",
      "60000/60000 [==============================] - 31s 516us/sample - loss: 0.0608 - acc: 0.9814 - val_loss: 0.0557 - val_acc: 0.9821\n",
      "Epoch 12/20\n",
      "60000/60000 [==============================] - 31s 523us/sample - loss: 0.0568 - acc: 0.9829 - val_loss: 0.0522 - val_acc: 0.9821\n",
      "Epoch 13/20\n",
      "60000/60000 [==============================] - 30s 508us/sample - loss: 0.0532 - acc: 0.9838 - val_loss: 0.0494 - val_acc: 0.9831\n",
      "Epoch 14/20\n",
      "60000/60000 [==============================] - 31s 509us/sample - loss: 0.0508 - acc: 0.9845 - val_loss: 0.0443 - val_acc: 0.9865\n",
      "Epoch 15/20\n",
      "60000/60000 [==============================] - 31s 509us/sample - loss: 0.0478 - acc: 0.9855 - val_loss: 0.0438 - val_acc: 0.9852\n",
      "Epoch 16/20\n",
      "60000/60000 [==============================] - 31s 508us/sample - loss: 0.0456 - acc: 0.9863 - val_loss: 0.0479 - val_acc: 0.9833\n",
      "Epoch 17/20\n",
      "60000/60000 [==============================] - 31s 509us/sample - loss: 0.0435 - acc: 0.9870 - val_loss: 0.0456 - val_acc: 0.9847\n",
      "Epoch 18/20\n",
      "60000/60000 [==============================] - 31s 509us/sample - loss: 0.0419 - acc: 0.9870 - val_loss: 0.0403 - val_acc: 0.9867\n",
      "Epoch 19/20\n",
      "60000/60000 [==============================] - 31s 509us/sample - loss: 0.0398 - acc: 0.9882 - val_loss: 0.0389 - val_acc: 0.9870\n",
      "Epoch 20/20\n",
      "60000/60000 [==============================] - 31s 510us/sample - loss: 0.0381 - acc: 0.9887 - val_loss: 0.0384 - val_acc: 0.9872\n"
     ]
    }
   ],
   "source": [
    "H = model.fit(trainX, trainY, validation_data = (testX, testY), batch_size = 128, epochs = 20, verbose = 1)"
   ]
  },
  {
   "cell_type": "code",
   "execution_count": 12,
   "metadata": {},
   "outputs": [
    {
     "name": "stdout",
     "output_type": "stream",
     "text": [
      "              precision    recall  f1-score   support\n",
      "\n",
      "           0       0.98      0.99      0.99       980\n",
      "           1       0.99      0.99      0.99      1135\n",
      "           2       0.99      0.98      0.98      1032\n",
      "           3       0.99      0.99      0.99      1010\n",
      "           4       0.99      0.99      0.99       982\n",
      "           5       0.98      0.99      0.99       892\n",
      "           6       0.99      0.98      0.99       958\n",
      "           7       0.98      0.99      0.99      1028\n",
      "           8       0.98      0.98      0.98       974\n",
      "           9       0.99      0.97      0.98      1009\n",
      "\n",
      "    accuracy                           0.99     10000\n",
      "   macro avg       0.99      0.99      0.99     10000\n",
      "weighted avg       0.99      0.99      0.99     10000\n",
      "\n"
     ]
    }
   ],
   "source": [
    "#evaluate the network\n",
    "predictions = model.predict(testX, batch_size = 128)\n",
    "print(classification_report(testY.argmax(axis = 1), predictions.argmax(axis = 1),\n",
    "                           target_names = [str(x) for x in le.classes_]))"
   ]
  },
  {
   "cell_type": "code",
   "execution_count": 13,
   "metadata": {},
   "outputs": [
    {
     "data": {
      "image/png": "[encoded data removed]",
      "text/plain": [
       "<Figure size 432x288 with 1 Axes>"
      ]
     },
     "metadata": {},
     "output_type": "display_data"
    }
   ],
   "source": [
    "#plot the training  loss and accuracy\n",
    "plt.style.use('ggplot')\n",
    "plt.figure()\n",
    "plt.plot(np.arange(0, 20), H.history['loss'], label = 'train_loss')\n",
    "plt.plot(np.arange(0, 20), H.history['val_loss'], label = 'val_loss')\n",
    "plt.plot(np.arange(0, 20), H.history['acc'], label = 'train_acc')\n",
    "plt.plot(np.arange(0, 20), H.history['val_acc'], label = 'val_acc')\n",
    "plt.title('Training Loss and Accuracy')\n",
    "plt.xlabel('Epochs #')\n",
    "plt.ylabel('Loss/Accuracy')\n",
    "plt.legend()\n",
    "plt.show()"
   ]
  },
  {
   "cell_type": "code",
   "execution_count": null,
   "metadata": {},
   "outputs": [],
   "source": []
  }
 ],
 "metadata": {
  "kernelspec": {
   "display_name": "Python 3",
   "language": "python",
   "name": "python3"
  },
  "language_info": {
   "codemirror_mode": {
    "name": "ipython",
    "version": 3
   },
   "file_extension": ".py",
   "mimetype": "text/x-python",
   "name": "python",
   "nbconvert_exporter": "python",
   "pygments_lexer": "ipython3",
   "version": "3.7.7"
  }
 },
 "nbformat": 4,
 "nbformat_minor": 2
}
