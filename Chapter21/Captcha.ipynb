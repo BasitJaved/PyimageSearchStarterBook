{
 "cells": [
  {
   "cell_type": "code",
   "execution_count": 1,
   "metadata": {},
   "outputs": [],
   "source": [
    "#Training Captcha Breaker\n",
    "from tensorflow.keras.models import Sequential\n",
    "from tensorflow.keras.layers import Conv2D\n",
    "from tensorflow.keras.layers import MaxPooling2D\n",
    "from tensorflow.keras.layers import Activation\n",
    "from tensorflow.keras.layers import Flatten\n",
    "from tensorflow.keras.layers import Dense\n",
    "from tensorflow.keras import backend as K\n",
    "from sklearn.metrics import classification_report\n",
    "from sklearn.preprocessing import LabelBinarizer\n",
    "from sklearn.model_selection import train_test_split\n",
    "from tensorflow.keras.preprocessing.image import img_to_array\n",
    "from tensorflow.keras.optimizers import SGD\n",
    "from imutils import paths\n",
    "import matplotlib.pyplot as plt\n",
    "import numpy as np\n",
    "import imutils\n",
    "import cv2\n",
    "import os"
   ]
  },
  {
   "cell_type": "code",
   "execution_count": null,
   "metadata": {},
   "outputs": [],
   "source": [
    "#grab the image paths then initialize the dictionary of character counts\n",
    "imagePaths = list (paths.list_images('downloads'))\n",
    "counts = {}\n",
    "\n",
    "#loop over the image paths\n",
    "for (i, imagePath) in enumerate(imagePaths):\n",
    "    #display the update to user\n",
    "    print('Processing image{}/{}'.format(i+1, len(imagePaths)))\n",
    "    \n",
    "    try:\n",
    "        #load image and conver it to gray scale, pad the image to \n",
    "        #ensure digits caught on the border of image are retained\n",
    "        image = cv2.imread(imagePath)\n",
    "        gray = cv2.cvtColor(image, cv2.COLOR_BGR2GRAY)\n",
    "        gray = cv2.copyMakeBorder(gray, 8, 8, 8, 8, cv2.BORDER_REPLICATE)\n",
    "        \n",
    "        #threshold the image to reveal the digits\n",
    "        thresh = cv2.threshold(gray, 0, 255, cv2.THRESH_BINARY_INV |\n",
    "                              cv2.THRESH_OTSU)[1]\n",
    "        \n",
    "        #find the contours in the image keeping only the four largest ones\n",
    "        cnts = cv2.findContours(thresh.copy(), cv2.RETR_EXTERNAL, cv2.CHAIN_APPROX_SIMPLE)\n",
    "        cnts = imutils.grab_contours(cnts)\n",
    "        cnts = sorted(cnts, key = cv2.contourArea, reverse = True)[:4]\n",
    "        \n",
    "        #loop over the contours\n",
    "        for c in cnts:\n",
    "            #compute the bounding box of contour then extract the digit\n",
    "            (x, y, w, h) = cv2.boundingRect(c)\n",
    "            roi = gray[y - 5:y + h +  5, x - 5: x + w + 5]\n",
    "            \n",
    "            #display the character making it larg enough for us to see, wait for keypress\n",
    "            cv2.imshow('ROI', imutils.resize(roi, width = 28))\n",
    "            key = cv2.waitKey(0)\n",
    "            \n",
    "            \n",
    "            #if ~ is pressed, ignore the character\n",
    "            if key == ord('~'):\n",
    "                print('Ignoring character')\n",
    "                continue\n",
    "                \n",
    "            #grab the pressed key and construct the path to output directory\n",
    "            key = chr(key).upper()\n",
    "            dirPath = os.path.sep.join(['data', key])\n",
    "            \n",
    "            #if output directory doesnot exist create it\n",
    "            if not os.path.exists(dirPath):\n",
    "                os.makedirs(dirPath)\n",
    "                \n",
    "            #write labeled character to file\n",
    "            count = counts.get(key, 1)\n",
    "            p = os.path.sep.join([dirPath, '{}.png'.format(str(count).zfill(6))])\n",
    "            cv2.imwrite(p, roi)\n",
    "            \n",
    "            #increment the count for current key\n",
    "            counts[key] = count + 1\n",
    "    except KeyboardInterrupt:\n",
    "        print('[INFO] manually leaving script')\n",
    "        break\n",
    "\n",
    "\t#an unknown error occured with image\n",
    "   # except:\n",
    "    #    print('[INFO] skipping this image ...')"
   ]
  },
  {
   "cell_type": "code",
   "execution_count": 2,
   "metadata": {},
   "outputs": [],
   "source": [
    "#Preprocessing the digits\n",
    "def preprocess(image, width, height):\n",
    "    \n",
    "    #grab dimensions of image and initialize the padding value\n",
    "    (h, w) = image.shape[:2]\n",
    "    \n",
    "    #if width is greater then height then resize along width\n",
    "    if w > h:\n",
    "        image = imutils.resize(image, width = width)\n",
    "        \n",
    "    else:\n",
    "        image = imutils.resize(image, height = height)\n",
    "        \n",
    "    #determine the padding values for width and height to obtain target\n",
    "    #dimensions\n",
    "    padW = int((width - image.shape[1])/2.0)\n",
    "    padH = int((height - image.shape[0])/2.0)\n",
    "    \n",
    "    #pad image then apply one more resizing to handle any rounding issues\n",
    "    image = cv2.copyMakeBorder(image, padH, padH, padW, padW,\n",
    "                              cv2.BORDER_REPLICATE)\n",
    "    image = cv2.resize(image, (width, height))\n",
    "    \n",
    "    #return preprocess image\n",
    "    return image"
   ]
  },
  {
   "cell_type": "code",
   "execution_count": 3,
   "metadata": {},
   "outputs": [],
   "source": [
    "#initialize the data and labels\n",
    "data = []\n",
    "labels = []\n",
    "\n",
    "#loop over the input  images\n",
    "for imagePath in list(paths.list_images('dataset')):\n",
    "    #load image, preprocess it and store in the data list\n",
    "    image = cv2.imread(imagePath)\n",
    "    image = cv2.cvtColor(image, cv2.COLOR_BGR2GRAY)\n",
    "    image = preprocess(image, 28, 28)\n",
    "    image = img_to_array(image)\n",
    "    data.append(image)\n",
    "    \n",
    "    #extract the class label from image path and update label list\n",
    "    label = imagePath.split(os.path.sep)[-2]\n",
    "    labels.append(label)"
   ]
  },
  {
   "cell_type": "code",
   "execution_count": 4,
   "metadata": {},
   "outputs": [],
   "source": [
    "#scale the raw pixcels intensities to range [0, 1]\n",
    "data = np.array(data, dtype = 'float')/255.0\n",
    "labels = np.array(labels)\n",
    "\n",
    "#divide the data into training and testing set\n",
    "(trainX, testX, trainY, testY) = train_test_split(data, labels, test_size = 0.25, random_state = 42)\n",
    "\n",
    "#convrt the labels from integers to vectors\n",
    "\n",
    "lb = LabelBinarizer()\n",
    "trainY = lb.fit_transform(trainY)\n",
    "testY = lb.transform(testY)"
   ]
  },
  {
   "cell_type": "code",
   "execution_count": 5,
   "metadata": {},
   "outputs": [],
   "source": [
    "#initialize the model\n",
    "def model():\n",
    "    model = Sequential()\n",
    "    model.add(Conv2D(20, (5,5), padding = 'same', input_shape = inputShape))\n",
    "    model.add(Activation('relu'))\n",
    "    model.add(MaxPooling2D(pool_size=(2, 2), strides = (2, 2)))\n",
    "    model.add(Conv2D(50, (5, 5), padding = 'same'))\n",
    "    model.add(Activation('relu'))\n",
    "    model.add(MaxPooling2D(pool_size=(2, 2), strides = (2, 2)))\n",
    "    model.add(Flatten())\n",
    "    model.add(Dense(500))\n",
    "    model.add(Activation('relu'))\n",
    "    model.add(Dense(classes))\n",
    "    model.add(Activation('softmax'))\n",
    "    return model"
   ]
  },
  {
   "cell_type": "code",
   "execution_count": 6,
   "metadata": {},
   "outputs": [
    {
     "name": "stdout",
     "output_type": "stream",
     "text": [
      "WARNING:tensorflow:From C:\\Users\\b84145862\\AppData\\Roaming\\Python\\Python37\\site-packages\\tensorflow_core\\python\\ops\\resource_variable_ops.py:1630: calling BaseResourceVariable.__init__ (from tensorflow.python.ops.resource_variable_ops) with constraint is deprecated and will be removed in a future version.\n",
      "Instructions for updating:\n",
      "If using Keras pass *_constraint arguments to layers.\n",
      "Model: \"sequential\"\n",
      "_________________________________________________________________\n",
      "Layer (type)                 Output Shape              Param #   \n",
      "=================================================================\n",
      "conv2d (Conv2D)              (None, 28, 28, 20)        520       \n",
      "_________________________________________________________________\n",
      "activation (Activation)      (None, 28, 28, 20)        0         \n",
      "_________________________________________________________________\n",
      "max_pooling2d (MaxPooling2D) (None, 14, 14, 20)        0         \n",
      "_________________________________________________________________\n",
      "conv2d_1 (Conv2D)            (None, 14, 14, 50)        25050     \n",
      "_________________________________________________________________\n",
      "activation_1 (Activation)    (None, 14, 14, 50)        0         \n",
      "_________________________________________________________________\n",
      "max_pooling2d_1 (MaxPooling2 (None, 7, 7, 50)          0         \n",
      "_________________________________________________________________\n",
      "flatten (Flatten)            (None, 2450)              0         \n",
      "_________________________________________________________________\n",
      "dense (Dense)                (None, 500)               1225500   \n",
      "_________________________________________________________________\n",
      "activation_2 (Activation)    (None, 500)               0         \n",
      "_________________________________________________________________\n",
      "dense_1 (Dense)              (None, 9)                 4509      \n",
      "_________________________________________________________________\n",
      "activation_3 (Activation)    (None, 9)                 0         \n",
      "=================================================================\n",
      "Total params: 1,255,579\n",
      "Trainable params: 1,255,579\n",
      "Non-trainable params: 0\n",
      "_________________________________________________________________\n"
     ]
    }
   ],
   "source": [
    "#initializing the model\n",
    "inputShape = (28, 28, 1)\n",
    "batch_size = 32\n",
    "epochs = 15\n",
    "opt = SGD(lr = 0.01)\n",
    "classes = 9\n",
    "\n",
    "model = model()\n",
    "model.compile(loss = 'categorical_crossentropy', optimizer = opt, metrics = ['accuracy'])\n",
    "model.summary()"
   ]
  },
  {
   "cell_type": "code",
   "execution_count": 7,
   "metadata": {},
   "outputs": [
    {
     "name": "stdout",
     "output_type": "stream",
     "text": [
      "Train on 1509 samples, validate on 503 samples\n",
      "Epoch 1/15\n",
      "1509/1509 [==============================] - 2s 1ms/sample - loss: 2.1538 - acc: 0.2797 - val_loss: 2.1373 - val_acc: 0.2266\n",
      "Epoch 2/15\n",
      "1509/1509 [==============================] - 0s 122us/sample - loss: 2.0601 - acc: 0.4294 - val_loss: 2.0000 - val_acc: 0.5885\n",
      "Epoch 3/15\n",
      "1509/1509 [==============================] - 0s 114us/sample - loss: 1.8888 - acc: 0.6614 - val_loss: 1.8049 - val_acc: 0.4473\n",
      "Epoch 4/15\n",
      "1509/1509 [==============================] - 0s 114us/sample - loss: 1.4985 - acc: 0.8350 - val_loss: 1.2780 - val_acc: 0.7416\n",
      "Epoch 5/15\n",
      "1509/1509 [==============================] - 0s 118us/sample - loss: 0.7936 - acc: 0.9735 - val_loss: 0.6176 - val_acc: 0.8370\n",
      "Epoch 6/15\n",
      "1509/1509 [==============================] - 0s 118us/sample - loss: 0.2798 - acc: 0.9960 - val_loss: 0.1675 - val_acc: 1.0000\n",
      "Epoch 7/15\n",
      "1509/1509 [==============================] - 0s 118us/sample - loss: 0.1183 - acc: 0.9987 - val_loss: 0.0905 - val_acc: 1.0000\n",
      "Epoch 8/15\n",
      "1509/1509 [==============================] - 0s 116us/sample - loss: 0.0690 - acc: 0.9987 - val_loss: 0.0594 - val_acc: 1.0000\n",
      "Epoch 9/15\n",
      "1509/1509 [==============================] - 0s 114us/sample - loss: 0.0472 - acc: 0.9987 - val_loss: 0.0475 - val_acc: 1.0000\n",
      "Epoch 10/15\n",
      "1509/1509 [==============================] - 0s 126us/sample - loss: 0.0368 - acc: 0.9987 - val_loss: 0.0294 - val_acc: 1.0000\n",
      "Epoch 11/15\n",
      "1509/1509 [==============================] - 0s 112us/sample - loss: 0.0302 - acc: 0.9987 - val_loss: 0.0284 - val_acc: 1.0000\n",
      "Epoch 12/15\n",
      "1509/1509 [==============================] - 0s 116us/sample - loss: 0.0259 - acc: 0.9987 - val_loss: 0.0212 - val_acc: 1.0000\n",
      "Epoch 13/15\n",
      "1509/1509 [==============================] - 0s 114us/sample - loss: 0.0234 - acc: 0.9987 - val_loss: 0.0155 - val_acc: 1.0000\n",
      "Epoch 14/15\n",
      "1509/1509 [==============================] - 0s 114us/sample - loss: 0.0215 - acc: 0.9987 - val_loss: 0.0129 - val_acc: 1.0000\n",
      "Epoch 15/15\n",
      "1509/1509 [==============================] - 0s 113us/sample - loss: 0.0192 - acc: 0.9987 - val_loss: 0.0113 - val_acc: 1.0000\n"
     ]
    }
   ],
   "source": [
    "#train the network\n",
    "\n",
    "H = model.fit(trainX, trainY, validation_data = (testX, testY), batch_size = batch_size, \n",
    "             epochs = epochs, verbose = 1)"
   ]
  },
  {
   "cell_type": "code",
   "execution_count": 10,
   "metadata": {},
   "outputs": [
    {
     "name": "stdout",
     "output_type": "stream",
     "text": [
      "              precision    recall  f1-score   support\n",
      "\n",
      "           1       1.00      1.00      1.00        51\n",
      "           2       1.00      1.00      1.00        75\n",
      "           3       1.00      1.00      1.00        57\n",
      "           4       1.00      1.00      1.00        43\n",
      "           5       1.00      1.00      1.00        55\n",
      "           6       1.00      1.00      1.00        63\n",
      "           7       1.00      1.00      1.00        64\n",
      "           8       1.00      1.00      1.00        49\n",
      "           9       1.00      1.00      1.00        46\n",
      "\n",
      "    accuracy                           1.00       503\n",
      "   macro avg       1.00      1.00      1.00       503\n",
      "weighted avg       1.00      1.00      1.00       503\n",
      "\n"
     ]
    }
   ],
   "source": [
    "#evaluate the network\n",
    "predictions = model.predict(testX, batch_size = 32)\n",
    "print(classification_report(testY.argmax(axis=1), predictions.argmax(axis=1),\n",
    "                           target_names = lb.classes_))\n",
    "\n",
    "#save model\n",
    "model.save('model1.hdf5')"
   ]
  },
  {
   "cell_type": "code",
   "execution_count": 12,
   "metadata": {},
   "outputs": [
    {
     "data": {
      "image/png": "[encoded data removed]",
      "text/plain": [
       "<Figure size 432x288 with 1 Axes>"
      ]
     },
     "metadata": {},
     "output_type": "display_data"
    }
   ],
   "source": [
    "#plot Training/Testing loss and accuracy\n",
    "plt.style.use('ggplot')\n",
    "plt.figure()\n",
    "plt.plot(np.arange(0, 15), H.history['loss'], label = 'train_loss')\n",
    "plt.plot(np.arange(0, 15), H.history['val_loss'], label = 'val_loss')\n",
    "plt.plot(np.arange(0, 15), H.history['acc'], label = 'train_acc')\n",
    "plt.plot(np.arange(0, 15), H.history['val_acc'], label = 'val_acc')\n",
    "plt.title('Training Loss and Accuracy')\n",
    "plt.xlabel('Epochs #')\n",
    "plt.ylabel('Loss/Accuracy')\n",
    "plt.legend()\n",
    "plt.show()"
   ]
  },
  {
   "cell_type": "code",
   "execution_count": 14,
   "metadata": {},
   "outputs": [
    {
     "name": "stdout",
     "output_type": "stream",
     "text": [
      "WARNING:tensorflow:From C:\\Users\\b84145862\\AppData\\Roaming\\Python\\Python37\\site-packages\\tensorflow_core\\python\\ops\\init_ops.py:97: calling GlorotUniform.__init__ (from tensorflow.python.ops.init_ops) with dtype is deprecated and will be removed in a future version.\n",
      "Instructions for updating:\n",
      "Call initializer instance with the dtype argument instead of passing it to the constructor\n"
     ]
    },
    {
     "name": "stderr",
     "output_type": "stream",
     "text": [
      "WARNING:tensorflow:From C:\\Users\\b84145862\\AppData\\Roaming\\Python\\Python37\\site-packages\\tensorflow_core\\python\\ops\\init_ops.py:97: calling GlorotUniform.__init__ (from tensorflow.python.ops.init_ops) with dtype is deprecated and will be removed in a future version.\n",
      "Instructions for updating:\n",
      "Call initializer instance with the dtype argument instead of passing it to the constructor\n"
     ]
    },
    {
     "name": "stdout",
     "output_type": "stream",
     "text": [
      "WARNING:tensorflow:From C:\\Users\\b84145862\\AppData\\Roaming\\Python\\Python37\\site-packages\\tensorflow_core\\python\\ops\\init_ops.py:97: calling Zeros.__init__ (from tensorflow.python.ops.init_ops) with dtype is deprecated and will be removed in a future version.\n",
      "Instructions for updating:\n",
      "Call initializer instance with the dtype argument instead of passing it to the constructor\n"
     ]
    },
    {
     "name": "stderr",
     "output_type": "stream",
     "text": [
      "WARNING:tensorflow:From C:\\Users\\b84145862\\AppData\\Roaming\\Python\\Python37\\site-packages\\tensorflow_core\\python\\ops\\init_ops.py:97: calling Zeros.__init__ (from tensorflow.python.ops.init_ops) with dtype is deprecated and will be removed in a future version.\n",
      "Instructions for updating:\n",
      "Call initializer instance with the dtype argument instead of passing it to the constructor\n"
     ]
    }
   ],
   "source": [
    "#testing captcha breaker\n",
    "from tensorflow.keras.models import load_model\n",
    "from imutils import contours\n",
    "\n",
    "#load pre-trained network\n",
    "model = load_model('model1.hdf5')\n",
    "\n",
    "#randomly sample few images\n",
    "imagePaths = list(paths.list_images('downloads'))\n",
    "imagePaths = np.random.choice(imagePaths, size = (10, ), replace = False)\n",
    "\n"
   ]
  },
  {
   "cell_type": "code",
   "execution_count": 16,
   "metadata": {},
   "outputs": [
    {
     "name": "stdout",
     "output_type": "stream",
     "text": [
      "captchs: 8\n",
      "captchs: 89\n",
      "captchs: 895\n",
      "captchs: 8957\n",
      "captchs: 4\n",
      "captchs: 43\n",
      "captchs: 437\n",
      "captchs: 4375\n",
      "captchs: 1\n",
      "captchs: 15\n",
      "captchs: 157\n",
      "captchs: 1573\n",
      "captchs: 9\n",
      "captchs: 93\n",
      "captchs: 935\n",
      "captchs: 9357\n",
      "captchs: 8\n",
      "captchs: 84\n",
      "captchs: 842\n",
      "captchs: 8422\n",
      "captchs: 6\n",
      "captchs: 66\n",
      "captchs: 661\n",
      "captchs: 6615\n",
      "captchs: 8\n",
      "captchs: 86\n",
      "captchs: 865\n",
      "captchs: 8655\n",
      "captchs: 8\n",
      "captchs: 88\n",
      "captchs: 886\n",
      "captchs: 8861\n",
      "captchs: 9\n",
      "captchs: 91\n",
      "captchs: 915\n",
      "captchs: 9157\n",
      "captchs: 8\n",
      "captchs: 86\n",
      "captchs: 864\n",
      "captchs: 8642\n"
     ]
    }
   ],
   "source": [
    "#Breaking the captcha\n",
    "\n",
    "#loop over the image paths\n",
    "for imagePath in imagePaths:\n",
    "    image = cv2.imread(imagePath)\n",
    "    gray = cv2.cvtColor(image, cv2.COLOR_BGR2GRAY)\n",
    "    gray =cv2.copyMakeBorder(gray, 20, 20, 20, 20, cv2.BORDER_REPLICATE)\n",
    "    \n",
    "    #threshold image to reveal digits (white digits with black background)\n",
    "    thresh = cv2.threshold(gray, 0, 255, cv2.THRESH_BINARY_INV | cv2.THRESH_OTSU)[1]\n",
    "    \n",
    "    #find contours in image, keeping only four largest ones and sort from\n",
    "    #left to right\n",
    "    cnts = cv2.findContours(thresh.copy(), cv2.RETR_EXTERNAL, \n",
    "                           cv2.CHAIN_APPROX_SIMPLE)\n",
    "    cnts = imutils.grab_contours(cnts)\n",
    "    cnts = sorted(cnts, key = cv2.contourArea, reverse = True)[:4]\n",
    "    cnst = contours.sort_contours(cnts)[0]\n",
    "    \n",
    "    #initialize the output image as grayscale image with 3 channels\n",
    "    output = cv2.merge([gray] * 3)\n",
    "    predictions = []\n",
    "    \n",
    "    \n",
    "    #loop over the contours\n",
    "    for c in cnts:\n",
    "        \n",
    "        (x, y, w, h) = cv2.boundingRect(c)\n",
    "        roi = gray[y-5:y+h+5, x-5:x+w+5]\n",
    "        \n",
    "        roi = preprocess(roi, 28, 28)\n",
    "        roi = np.expand_dims(img_to_array(roi), axis = 0)/255.0\n",
    "        pred = model.predict(roi).argmax(axis = 1)[0] +1 \n",
    "        predictions.append(str(pred))\n",
    "        \n",
    "        #draw predictions on output image\n",
    "        cv2.rectangle(output, (x - 2, y - 2), (x + w + 4, y + h + 4), (0, 255, 0), 1)\n",
    "        cv2.putText(output, str(pred), (x - 5, y - 5), cv2.FONT_HERSHEY_SIMPLEX, 0.55, \n",
    "                   (0, 255, 0), 2)\n",
    "        \n",
    "        #show image\n",
    "        print('captchs: {}'.format(''.join(predictions)))\n",
    "        cv2.imshow('Output', output)\n",
    "        cv2.waitKey()"
   ]
  },
  {
   "cell_type": "code",
   "execution_count": null,
   "metadata": {},
   "outputs": [],
   "source": []
  },
  {
   "cell_type": "code",
   "execution_count": null,
   "metadata": {},
   "outputs": [],
   "source": []
  },
  {
   "cell_type": "code",
   "execution_count": null,
   "metadata": {},
   "outputs": [],
   "source": []
  }
 ],
 "metadata": {
  "kernelspec": {
   "display_name": "Python 3.7 (tensorflow)",
   "language": "python",
   "name": "tensorflow"
  },
  "language_info": {
   "codemirror_mode": {
    "name": "ipython",
    "version": 3
   },
   "file_extension": ".py",
   "mimetype": "text/x-python",
   "name": "python",
   "nbconvert_exporter": "python",
   "pygments_lexer": "ipython3",
   "version": "3.7.7"
  }
 },
 "nbformat": 4,
 "nbformat_minor": 4
}
