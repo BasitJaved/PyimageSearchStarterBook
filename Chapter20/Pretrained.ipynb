{
 "cells": [
  {
   "cell_type": "code",
   "execution_count": null,
   "metadata": {},
   "outputs": [],
   "source": [
    "from tensorflow.keras.applications import ResNet50\n",
    "from tensorflow.keras.applications import InceptionV3\n",
    "from tensorflow.keras.applications import Xception\n",
    "from tensorflow.keras.applications import VGG16\n",
    "from tensorflow.keras.applications import VGG19\n",
    "from tensorflow.keras.applications import imagenet_utils\n",
    "from tensorflow.keras.applications.inception_v3 import preprocess_input\n",
    "from tensorflow.keras.preprocessing.image import img_to_array\n",
    "from tensorflow.keras.preprocessing.image import load_img\n",
    "import numpy as np\n",
    "import argparse\n",
    "import cv2"
   ]
  },
  {
   "cell_type": "code",
   "execution_count": null,
   "metadata": {},
   "outputs": [],
   "source": [
    "#loading model weights\n",
    "Network = VGG16\n",
    "model = Network(weights = 'imagenet')"
   ]
  },
  {
   "cell_type": "code",
   "execution_count": null,
   "metadata": {},
   "outputs": [],
   "source": [
    "#initialize the input image shape (224x224 pixcels) along with \n",
    "#pre-process function\n",
    "inputShape = (224, 224)\n",
    "preprocess = imagenet_utils.preprocess_input\n",
    "\n",
    "if (Network == InceptionV3 or Network == Xception):\n",
    "    inputShape = (299, 299)\n",
    "    preprocess = imagenet_utils.preprocess_input"
   ]
  },
  {
   "cell_type": "code",
   "execution_count": null,
   "metadata": {},
   "outputs": [],
   "source": [
    "#loading and preprocessing image\n",
    "image = load_img('example_02.jpg', target_size = inputShape)\n",
    "image0 = image\n",
    "image = img_to_array(image)\n",
    "image = np.expand_dims(image, axis = 0)\n",
    "image = preprocess(image)\n",
    "\n",
    "\n",
    "#classify the image\n",
    "preds = model.predict(image)\n",
    "P = imagenet_utils.decode_predictions(preds)\n",
    "\n",
    "#loop over the predictions and show rank-5 predictions and \n",
    "#probabilities to our terminal\n",
    "for (i, (imagenetID, label, prob)) in enumerate(P[0]):\n",
    "    print('{}. {}: {:.2f}%'.format(i + 1, label, prob * 100))\n",
    "    \n",
    "#displaying the image\n",
    "orig = cv2.imread('example_01.jpg')\n",
    "(imagenetID, label, prob) = P[0][0]\n",
    "cv2.putText(orig, 'Label: {}'.format(label), (10, 30), \n",
    "            cv2.FONT_HERSHEY_SIMPLEX, 0.8, (0, 255, 0), 2)\n",
    "cv2.imshow('Classification', orig)\n",
    "cv2.waitKey(0)\n"
   ]
  },
  {
   "cell_type": "code",
   "execution_count": null,
   "metadata": {},
   "outputs": [],
   "source": []
  }
 ],
 "metadata": {
  "kernelspec": {
   "display_name": "Python 3.7 (tensorflow)",
   "language": "python",
   "name": "tensorflow"
  },
  "language_info": {
   "codemirror_mode": {
    "name": "ipython",
    "version": 3
   },
   "file_extension": ".py",
   "mimetype": "text/x-python",
   "name": "python",
   "nbconvert_exporter": "python",
   "pygments_lexer": "ipython3",
   "version": "3.7.7"
  }
 },
 "nbformat": 4,
 "nbformat_minor": 4
}
