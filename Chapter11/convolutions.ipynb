{
 "cells": [
  {
   "cell_type": "code",
   "execution_count": 1,
   "metadata": {},
   "outputs": [],
   "source": [
    "from skimage.exposure import rescale_intensity\n",
    "import numpy as np\n",
    "import cv2"
   ]
  },
  {
   "cell_type": "code",
   "execution_count": 2,
   "metadata": {},
   "outputs": [],
   "source": [
    "def convolve(image, K):\n",
    "    \n",
    "    #grabbing the spatial dimensions of image and kernel\n",
    "    (iH, iW) = image.shape[:2]\n",
    "    (kH, kW) = K.shape[:2]\n",
    "    \n",
    "    #allocating memory for output image, taking care to pad the boarders \n",
    "    #of the input image so that the spetial size(1.e, width and hight) are\n",
    "    #not reduced\n",
    "    pad = (kW - 1) // 2\n",
    "    \n",
    "    image = cv2.copyMakeBorder(image, pad, pad, pad, pad, cv2.BORDER_REPLICATE)\n",
    "    \n",
    "    output = np.zeros((iH, iW), dtype = 'float')\n",
    "    \n",
    "    #applying the convolution\n",
    "    for y in np.arange(pad, iH+pad):\n",
    "        for z in np.arange(pad, iW+pad):\n",
    "            #roi is the small portion of image equal in dimensions to Kernal, that we will convolve with kernel\n",
    "            roi = image[y-pad: y+pad+1, z-pad: z+pad+1]\n",
    "            \n",
    "            k = (roi * K).sum()     #actual convolution process\n",
    "            \n",
    "            output[y-pad, z-pad] = k\n",
    "    output = rescale_intensity(output, in_range = (0, 255))\n",
    "    output = (output * 255).astype('uint8')\n",
    "            \n",
    "    return output"
   ]
  },
  {
   "cell_type": "code",
   "execution_count": 3,
   "metadata": {},
   "outputs": [],
   "source": [
    "#constructing average blurring kernels used to smooth an image\n",
    "smallBlur = np.ones((7, 7), dtype = 'float')*(1.0 / (7*7))\n",
    "largeBlur = np.ones((21, 21), dtype = 'float')*(1.0 / (21*21))\n",
    "\n",
    "#constructing a sharpening filter\n",
    "sharpen = np.array(([0, -1, 0], [-1, 5, -1], [0, -1, 0]), dtype = 'int')\n",
    "\n",
    "#Laplacian Kernel for edge detection\n",
    "laplacian = np.array(([0, 1, 0], [1, -4, 1], [0, 1, 0]), dtype = 'int')\n",
    "\n",
    "#Sobel x-axis kernel\n",
    "sobelX = np.array(([-1, 0, 1], [-2, 0, 2], [-1, 0, 1]), dtype = 'int')\n",
    "\n",
    "#sobel y-axis kernel\n",
    "sobelY = np.array(([-1, -2, 1], [0, 0, 0], [1, 2, 1]), dtype = 'int')\n",
    "\n",
    "#construct an emboss kernel\n",
    "emboss = np.array(([-2, -1, 0], [-1, 1, 1], [0, 1, 2]), dtype = 'int')"
   ]
  },
  {
   "cell_type": "code",
   "execution_count": 4,
   "metadata": {},
   "outputs": [],
   "source": [
    "#constructing Kernel Bank\n",
    "kernelBank = (\n",
    "            ('small-blur', smallBlur),\n",
    "            ('large-blur', largeBlur),\n",
    "            ('sharpen', sharpen),\n",
    "            ('laplacian', laplacian),\n",
    "            ('sobel_x', sobelX),\n",
    "            ('sobel_y', sobelY),\n",
    "            ('emboss', emboss))"
   ]
  },
  {
   "cell_type": "code",
   "execution_count": 5,
   "metadata": {},
   "outputs": [
    {
     "name": "stdout",
     "output_type": "stream",
     "text": [
      "[INFO] applying small-blur kernel\n",
      "[INFO] applying large-blur kernel\n",
      "[INFO] applying sharpen kernel\n",
      "[INFO] applying laplacian kernel\n",
      "[INFO] applying sobel_x kernel\n",
      "[INFO] applying sobel_y kernel\n",
      "[INFO] applying emboss kernel\n"
     ]
    }
   ],
   "source": [
    "#loading the image and converting to grayscale\n",
    "image = cv2.imread('jemma.png')\n",
    "gray = cv2.cvtColor(image, cv2.COLOR_BGR2GRAY)\n",
    "\n",
    "#loop over the kernels\n",
    "for (kernelName, K) in kernelBank:\n",
    "    \n",
    "    #applying the kernel to the grayscale image using both our custom 'convolve'\n",
    "    #function and OpenCV's 'filter2D' function\n",
    "    \n",
    "    print(\"[INFO] applying {} kernel\".format(kernelName))\n",
    "    convolveOutput = convolve(gray, K)\n",
    "    opencvOutput = cv2.filter2D(gray, -1, K)\n",
    "    \n",
    "    #showing the output images\n",
    "    cv2.imshow('Original', gray)\n",
    "    cv2.imshow(\"{} - convolve\".format(kernelName), convolveOutput)\n",
    "    cv2.imshow(\"{} - opencv\".format(kernelName), opencvOutput)\n",
    "    cv2.waitKey(0)"
   ]
  },
  {
   "cell_type": "code",
   "execution_count": null,
   "metadata": {},
   "outputs": [],
   "source": []
  }
 ],
 "metadata": {
  "kernelspec": {
   "display_name": "Python 3",
   "language": "python",
   "name": "python3"
  },
  "language_info": {
   "codemirror_mode": {
    "name": "ipython",
    "version": 3
   },
   "file_extension": ".py",
   "mimetype": "text/x-python",
   "name": "python",
   "nbconvert_exporter": "python",
   "pygments_lexer": "ipython3",
   "version": "3.7.4"
  }
 },
 "nbformat": 4,
 "nbformat_minor": 2
}
