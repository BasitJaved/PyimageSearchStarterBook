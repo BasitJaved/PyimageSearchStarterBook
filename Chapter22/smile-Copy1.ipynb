{
 "cells": [
  {
   "cell_type": "code",
   "execution_count": 1,
   "metadata": {},
   "outputs": [],
   "source": [
    "from tensorflow.keras.models import Sequential\n",
    "from tensorflow.keras.layers import BatchNormalization\n",
    "from tensorflow.keras.layers import Conv2D\n",
    "from tensorflow.keras.layers import MaxPooling2D\n",
    "from tensorflow.keras.layers import Activation\n",
    "from tensorflow.keras.layers import Flatten\n",
    "from tensorflow.keras.layers import Dropout\n",
    "from tensorflow.keras.layers import Dense\n",
    "from tensorflow.keras import backend as K\n",
    "from sklearn.preprocessing import LabelEncoder\n",
    "from sklearn.model_selection import train_test_split\n",
    "from sklearn.metrics import classification_report\n",
    "from tensorflow.keras.preprocessing.image import img_to_array\n",
    "from tensorflow.keras.utils import to_categorical\n",
    "from sklearn.preprocessing import LabelBinarizer\n",
    "from imutils import paths\n",
    "import numpy as np\n",
    "import matplotlib.pyplot as plt\n",
    "import argparse\n",
    "import imutils\n",
    "import cv2\n",
    "import os"
   ]
  },
  {
   "cell_type": "code",
   "execution_count": 3,
   "metadata": {},
   "outputs": [],
   "source": [
    "#initialize the list of data and labels\n",
    "data = []\n",
    "labels = []\n",
    "\n",
    "#loop over the input images\n",
    "for imagePath in sorted(list(paths.list_images('smiles'))):\n",
    "    #load the image and preprocess it\n",
    "    image = cv2.imread(imagePath)\n",
    "    image = cv2.cvtColor(image, cv2.COLOR_BGR2GRAY)\n",
    "    image = imutils.resize(image, width = 28)\n",
    "    image = img_to_array(image)\n",
    "    data.append(image)\n",
    "    \n",
    "    #extract the class labels and update label list\n",
    "    label = imagePath.split(os.path.sep)[-2]\n",
    "    label = 'not_smiling' if label == 'negatives' else 'smiling'\n",
    "    labels.append(label)"
   ]
  },
  {
   "cell_type": "code",
   "execution_count": 4,
   "metadata": {},
   "outputs": [],
   "source": [
    "#scale the raw pixel intensities to range [0, 1]\n",
    "data = np.array(data, dtype = 'float')/255.0\n",
    "labels = np.array(labels)\n",
    "\n",
    "#convert labels from integers to vectors\n",
    "le = LabelEncoder().fit(labels)\n",
    "labels = to_categorical(le.transform(labels), 2)"
   ]
  },
  {
   "cell_type": "code",
   "execution_count": 5,
   "metadata": {},
   "outputs": [
    {
     "name": "stdout",
     "output_type": "stream",
     "text": [
      "[9475. 3690.]\n",
      "[1.        2.5677507]\n"
     ]
    }
   ],
   "source": [
    "#handling class imbalance\n",
    "classTotals = labels.sum(axis = 0)\n",
    "print(classTotals)\n",
    "classWeight = classTotals.max()/classTotals\n",
    "print(classWeight)"
   ]
  },
  {
   "cell_type": "code",
   "execution_count": 6,
   "metadata": {},
   "outputs": [],
   "source": [
    "#splitting the data into training and testing set\n",
    "(trainX, testX, trainY, testY) = train_test_split(data, labels, test_size = 0.2,\n",
    "                                                 stratify = labels, random_state = 42)"
   ]
  },
  {
   "cell_type": "code",
   "execution_count": 7,
   "metadata": {},
   "outputs": [],
   "source": [
    "classes = 2\n",
    "inputShape = (28, 28, 1)\n",
    "\n",
    "def model():\n",
    "    model = Sequential()\n",
    "    \n",
    "    model.add(Conv2D(20, (5, 5), padding=\"same\",input_shape=inputShape))\n",
    "    model.add(Activation(\"relu\"))\n",
    "    model.add(MaxPooling2D(pool_size=(2, 2), strides=(2, 2)))\n",
    "\n",
    "    # second set of CONV => RELU => POOL layers\n",
    "    model.add(Conv2D(50, (5, 5), padding=\"same\"))\n",
    "    model.add(Activation(\"relu\"))\n",
    "    model.add(MaxPooling2D(pool_size=(2, 2), strides=(2, 2)))\n",
    "\n",
    "    # first (and only) set of FC => RELU layers\n",
    "    model.add(Flatten())\n",
    "    model.add(Dense(500))\n",
    "    model.add(Activation(\"relu\"))\n",
    "\n",
    "    # softmax classifier\n",
    "    model.add(Dense(classes))\n",
    "    model.add(Activation(\"softmax\"))\n",
    "    \n",
    "    return model"
   ]
  },
  {
   "cell_type": "code",
   "execution_count": 8,
   "metadata": {},
   "outputs": [
    {
     "name": "stdout",
     "output_type": "stream",
     "text": [
      "WARNING:tensorflow:From C:\\Users\\b84145862\\AppData\\Roaming\\Python\\Python37\\site-packages\\tensorflow_core\\python\\ops\\resource_variable_ops.py:1630: calling BaseResourceVariable.__init__ (from tensorflow.python.ops.resource_variable_ops) with constraint is deprecated and will be removed in a future version.\n",
      "Instructions for updating:\n",
      "If using Keras pass *_constraint arguments to layers.\n",
      "Model: \"sequential\"\n",
      "_________________________________________________________________\n",
      "Layer (type)                 Output Shape              Param #   \n",
      "=================================================================\n",
      "conv2d (Conv2D)              (None, 28, 28, 20)        520       \n",
      "_________________________________________________________________\n",
      "activation (Activation)      (None, 28, 28, 20)        0         \n",
      "_________________________________________________________________\n",
      "max_pooling2d (MaxPooling2D) (None, 14, 14, 20)        0         \n",
      "_________________________________________________________________\n",
      "conv2d_1 (Conv2D)            (None, 14, 14, 50)        25050     \n",
      "_________________________________________________________________\n",
      "activation_1 (Activation)    (None, 14, 14, 50)        0         \n",
      "_________________________________________________________________\n",
      "max_pooling2d_1 (MaxPooling2 (None, 7, 7, 50)          0         \n",
      "_________________________________________________________________\n",
      "flatten (Flatten)            (None, 2450)              0         \n",
      "_________________________________________________________________\n",
      "dense (Dense)                (None, 500)               1225500   \n",
      "_________________________________________________________________\n",
      "activation_2 (Activation)    (None, 500)               0         \n",
      "_________________________________________________________________\n",
      "dense_1 (Dense)              (None, 2)                 1002      \n",
      "_________________________________________________________________\n",
      "activation_3 (Activation)    (None, 2)                 0         \n",
      "=================================================================\n",
      "Total params: 1,252,072\n",
      "Trainable params: 1,252,072\n",
      "Non-trainable params: 0\n",
      "_________________________________________________________________\n"
     ]
    }
   ],
   "source": [
    "model = model()\n",
    "model.compile(loss = 'binary_crossentropy', optimizer = 'adam', metrics = ['accuracy'])\n",
    "model.summary()"
   ]
  },
  {
   "cell_type": "code",
   "execution_count": 9,
   "metadata": {},
   "outputs": [
    {
     "name": "stdout",
     "output_type": "stream",
     "text": [
      "WARNING:tensorflow:From C:\\Users\\b84145862\\AppData\\Roaming\\Python\\Python37\\site-packages\\tensorflow_core\\python\\ops\\math_grad.py:1424: where (from tensorflow.python.ops.array_ops) is deprecated and will be removed in a future version.\n",
      "Instructions for updating:\n",
      "Use tf.where in 2.0, which has the same broadcast rule as np.where\n",
      "Train on 10532 samples, validate on 2633 samples\n",
      "Epoch 1/15\n",
      "10532/10532 [==============================] - 4s 350us/sample - loss: 0.4278 - acc: 0.8041 - val_loss: 0.3540 - val_acc: 0.8397\n",
      "Epoch 2/15\n",
      "10532/10532 [==============================] - 1s 90us/sample - loss: 0.2732 - acc: 0.8903 - val_loss: 0.2657 - val_acc: 0.8959\n",
      "Epoch 3/15\n",
      "10532/10532 [==============================] - 1s 89us/sample - loss: 0.2509 - acc: 0.9031 - val_loss: 0.2493 - val_acc: 0.9013\n",
      "Epoch 4/15\n",
      "10532/10532 [==============================] - 1s 91us/sample - loss: 0.2307 - acc: 0.9072 - val_loss: 0.2711 - val_acc: 0.8918\n",
      "Epoch 5/15\n",
      "10532/10532 [==============================] - 1s 89us/sample - loss: 0.2158 - acc: 0.9168 - val_loss: 0.2484 - val_acc: 0.9009\n",
      "Epoch 6/15\n",
      "10532/10532 [==============================] - 1s 89us/sample - loss: 0.2071 - acc: 0.9202 - val_loss: 0.2344 - val_acc: 0.9077\n",
      "Epoch 7/15\n",
      "10532/10532 [==============================] - 1s 89us/sample - loss: 0.1905 - acc: 0.9282 - val_loss: 0.2341 - val_acc: 0.9119\n",
      "Epoch 8/15\n",
      "10532/10532 [==============================] - 1s 93us/sample - loss: 0.1825 - acc: 0.9304 - val_loss: 0.2494 - val_acc: 0.9043\n",
      "Epoch 9/15\n",
      "10532/10532 [==============================] - 1s 86us/sample - loss: 0.1711 - acc: 0.9364 - val_loss: 0.2293 - val_acc: 0.9005\n",
      "Epoch 10/15\n",
      "10532/10532 [==============================] - 1s 88us/sample - loss: 0.1622 - acc: 0.9368 - val_loss: 0.2289 - val_acc: 0.9153\n",
      "Epoch 11/15\n",
      "10532/10532 [==============================] - 1s 90us/sample - loss: 0.1516 - acc: 0.9436 - val_loss: 0.2198 - val_acc: 0.9172\n",
      "Epoch 12/15\n",
      "10532/10532 [==============================] - 1s 94us/sample - loss: 0.1387 - acc: 0.9479 - val_loss: 0.2378 - val_acc: 0.9039\n",
      "Epoch 13/15\n",
      "10532/10532 [==============================] - 1s 87us/sample - loss: 0.1306 - acc: 0.9496 - val_loss: 0.2205 - val_acc: 0.9176\n",
      "Epoch 14/15\n",
      "10532/10532 [==============================] - 1s 89us/sample - loss: 0.1236 - acc: 0.9522 - val_loss: 0.2290 - val_acc: 0.9130\n",
      "Epoch 15/15\n",
      "10532/10532 [==============================] - 1s 87us/sample - loss: 0.1108 - acc: 0.9587 - val_loss: 0.2770 - val_acc: 0.9149\n"
     ]
    }
   ],
   "source": [
    "H = model.fit(trainX, trainY, validation_data = (testX, testY), class_weight = classWeight,\n",
    "batch_size = 64, epochs = 15, verbose = 1)"
   ]
  },
  {
   "cell_type": "code",
   "execution_count": 10,
   "metadata": {},
   "outputs": [],
   "source": [
    "#saving model\n",
    "model.save('lenet.hdf5')"
   ]
  },
  {
   "cell_type": "code",
   "execution_count": 11,
   "metadata": {},
   "outputs": [
    {
     "name": "stdout",
     "output_type": "stream",
     "text": [
      "              precision    recall  f1-score   support\n",
      "\n",
      " not_smiling       0.93      0.96      0.94      1895\n",
      "     smiling       0.88      0.81      0.84       738\n",
      "\n",
      "    accuracy                           0.91      2633\n",
      "   macro avg       0.90      0.88      0.89      2633\n",
      "weighted avg       0.91      0.91      0.91      2633\n",
      "\n"
     ]
    }
   ],
   "source": [
    "#evaluating the network\n",
    "predictions = model.predict(testX, batch_size = 64)\n",
    "print(classification_report(testY.argmax(axis = 1), predictions.argmax(axis = 1),\n",
    "                           target_names = le.classes_))"
   ]
  },
  {
   "cell_type": "code",
   "execution_count": 13,
   "metadata": {},
   "outputs": [
    {
     "data": {
      "image/png": "[encoded data removed]",
      "text/plain": [
       "<Figure size 432x288 with 1 Axes>"
      ]
     },
     "metadata": {},
     "output_type": "display_data"
    }
   ],
   "source": [
    "#plotting the training loss and accuracy\n",
    "plt.style.use('ggplot')\n",
    "plt.figure()\n",
    "plt.plot(np.arange(0, 15), H.history['loss'], label = 'train_loss')\n",
    "plt.plot(np.arange(0, 15), H.history['val_loss'], label = 'val_loss')\n",
    "plt.plot(np.arange(0, 15), H.history['acc'], label = 'train_acc')\n",
    "plt.plot(np.arange(0, 15), H.history['val_acc'], label = 'val_acc')\n",
    "plt.title('Training loss and accuracy on CIFAR-10')\n",
    "plt.xlabel('Epochs #')\n",
    "plt.ylabel('Locc/Accuracy')\n",
    "plt.legend()\n",
    "plt.show()"
   ]
  },
  {
   "cell_type": "code",
   "execution_count": 14,
   "metadata": {},
   "outputs": [],
   "source": [
    "#detect smile\n",
    "from tensorflow.keras.models import load_model\n"
   ]
  },
  {
   "cell_type": "code",
   "execution_count": null,
   "metadata": {},
   "outputs": [],
   "source": [
    "#load face detector cascade and smile detector CNN\n",
    "detector = cv2.CascadeClassifier('haarcascade.xml')\n",
    "model = load_model('lenet.hdf5')\n",
    "\n",
    "#if video path was supplied\n",
    "#camera = cv2.VideoCapture(0)\n",
    "\n",
    "#otherwise load video\n",
    "camera = cv2.VideoCapture('video5.mp4')\n",
    "\n",
    "\n",
    "#keep looping\n",
    "while True:\n",
    "    #grab the current frame\n",
    "    (grabbed, frame) = camera.read()\n",
    "\n",
    "    #if video ended\n",
    "    if grabbed== 0:\n",
    "        break\n",
    "\n",
    "    #resize frame, convert it to grayscale and clone the original frame so\n",
    "    #we can draw on it later\n",
    "    frame = imutils.resize(frame, width = 300)\n",
    "    gray = cv2.cvtColor(frame, cv2.COLOR_BGR2GRAY)\n",
    "    frameClone = frame.copy()\n",
    "\n",
    "    #detect the faces in input frame and clone the frame so we can draw on it later\n",
    "    rects = detector.detectMultiScale(gray, scaleFactor = 1.1, minNeighbors = 5, minSize = (30, 30),\n",
    "                                      flags = cv2.CASCADE_SCALE_IMAGE)\n",
    "\n",
    "\n",
    "    #loop over the face bounding boxes\n",
    "    for (fX, fY, fW, fH) in rects:\n",
    "        #extract the ROI of face from grayscale image, resize it to a fixed 28x28 pixcels\n",
    "        #then prepare ROI for classification\n",
    "        roi = gray [fY:fY +fH, fX:fX + fW]\n",
    "        roi = cv2.resize(roi, (28, 28))\n",
    "        roi = roi.astype('float')/255.0\n",
    "        roi = img_to_array(roi)\n",
    "        roi = np.expand_dims (roi, axis = 0)\n",
    "\n",
    "        #determin the probability of both smiling and notq smiling\n",
    "        (notSmiling, smiling) = model.predict(roi)[0]\n",
    "        label = 'Smiling' if smiling > notSmiling else 'Not Smiling'\n",
    "\n",
    "\n",
    "        #display the label and bounding box rectangle on output frame\n",
    "        cv2.putText(frameClone, label, (fX, fY - 10), cv2.FONT_HERSHEY_SIMPLEX, 0.45, (0, 0, 255), 2)\n",
    "        cv2.rectangle(frameClone, (fX, fY), (fX + fW, fY + fH), (0, 0, 255), 2)\n",
    "\n",
    "\n",
    "        #show our detected faces along with labels\n",
    "        cv2.imshow('Face', frameClone)\n",
    "\n",
    "\n",
    "        #if q is pressed stop loop\n",
    "        if cv2.waitKey(0) & 0xFF == ord('q'):\n",
    "            break\n",
    "\n",
    "    #cleanup camera and close open windows\n",
    "    camera.release()\n",
    "    cv2.destroyAllWindows()"
   ]
  },
  {
   "cell_type": "code",
   "execution_count": null,
   "metadata": {},
   "outputs": [],
   "source": []
  }
 ],
 "metadata": {
  "kernelspec": {
   "display_name": "Python 3.7 (tensorflow)",
   "language": "python",
   "name": "tensorflow"
  },
  "language_info": {
   "codemirror_mode": {
    "name": "ipython",
    "version": 3
   },
   "file_extension": ".py",
   "mimetype": "text/x-python",
   "name": "python",
   "nbconvert_exporter": "python",
   "pygments_lexer": "ipython3",
   "version": "3.7.7"
  }
 },
 "nbformat": 4,
 "nbformat_minor": 4
}
